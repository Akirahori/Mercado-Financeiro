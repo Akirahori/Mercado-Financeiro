{
 "cells": [
  {
   "cell_type": "markdown",
   "metadata": {},
   "source": [
    "# Importação das bibliotecas"
   ]
  },
  {
   "cell_type": "code",
   "execution_count": 7,
   "metadata": {},
   "outputs": [],
   "source": [
    "import numpy as np\n",
    "import pandas as pd\n",
    "\n",
    "from datetime import datetime, timedelta\n",
    "import pytz\n",
    "\n",
    "import yfinance as yf\n",
    "import MetaTrader5 as mt5\n",
    "\n",
    "import kaleido\n",
    "import plotly.graph_objects as go\n",
    "from plotly.subplots import make_subplots"
   ]
  },
  {
   "cell_type": "markdown",
   "metadata": {},
   "source": [
    "# Organizar datas de extração"
   ]
  },
  {
   "cell_type": "code",
   "execution_count": 13,
   "metadata": {},
   "outputs": [
    {
     "data": {
      "text/plain": [
       "datetime.datetime(2024, 1, 22, 21, 43, 12, 341966)"
      ]
     },
     "execution_count": 13,
     "metadata": {},
     "output_type": "execute_result"
    }
   ],
   "source": [
    "hoje = datetime.now()\n",
    "hoje"
   ]
  },
  {
   "cell_type": "code",
   "execution_count": 14,
   "metadata": {},
   "outputs": [
    {
     "data": {
      "text/plain": [
       "0"
      ]
     },
     "execution_count": 14,
     "metadata": {},
     "output_type": "execute_result"
    }
   ],
   "source": [
    "hoje.weekday()"
   ]
  },
  {
   "cell_type": "code",
   "execution_count": 15,
   "metadata": {},
   "outputs": [
    {
     "data": {
      "text/plain": [
       "datetime.datetime(2024, 1, 22, 21, 43, 12, 341966)"
      ]
     },
     "execution_count": 15,
     "metadata": {},
     "output_type": "execute_result"
    }
   ],
   "source": [
    "segunda = hoje - timedelta(days = hoje.weekday())\n",
    "segunda"
   ]
  },
  {
   "cell_type": "code",
   "execution_count": 16,
   "metadata": {},
   "outputs": [
    {
     "data": {
      "text/plain": [
       "datetime.date(2024, 1, 22)"
      ]
     },
     "execution_count": 16,
     "metadata": {},
     "output_type": "execute_result"
    }
   ],
   "source": [
    "segunda.date()"
   ]
  },
  {
   "cell_type": "code",
   "execution_count": 17,
   "metadata": {},
   "outputs": [
    {
     "data": {
      "text/plain": [
       "'2024-01-24'"
      ]
     },
     "execution_count": 17,
     "metadata": {},
     "output_type": "execute_result"
    }
   ],
   "source": [
    "data_inicio = segunda.date().strftime('%Y-%m-%d')\n",
    "data_final = (hoje.date()+ timedelta(days = 2)).strftime('%Y-%m-%d')\n",
    "data_final"
   ]
  },
  {
   "cell_type": "code",
   "execution_count": 18,
   "metadata": {},
   "outputs": [],
   "source": [
    "def capa_post_weekly():\n",
    "\n",
    "    semana_ano = segunda.date().strftime('%U')\n",
    "    ano = segunda.date().strftime('%Y')\n",
    "\n",
    "    print('Trading com Dados apresenta')\n",
    "    print('Weekly Report')\n",
    "    print(f'Semana {semana_ano} de {ano}')\n",
    "    print(f'{segunda.date().strftime(\"%d-%m\")} a {(segunda.date() + timedelta(days = 4)).strftime(\"%d-%m\")}')"
   ]
  },
  {
   "cell_type": "code",
   "execution_count": 20,
   "metadata": {},
   "outputs": [
    {
     "name": "stdout",
     "output_type": "stream",
     "text": [
      "Trading com Dados apresenta\n",
      "Weekly Report\n",
      "Semana 03 de 2024\n",
      "22-01 a 26-01\n"
     ]
    }
   ],
   "source": [
    "capa_post_weekly()"
   ]
  },
  {
   "cell_type": "markdown",
   "metadata": {},
   "source": [
    "# Índices Internacionais"
   ]
  },
  {
   "cell_type": "markdown",
   "metadata": {},
   "source": [
    "Extração e manipulação dos dados"
   ]
  },
  {
   "cell_type": "code",
   "execution_count": 21,
   "metadata": {},
   "outputs": [],
   "source": [
    "dict_yf_world_indices = {\n",
    "    'Bovespa (BVSP)': ['^BVSP','Brasil'],\n",
    "    'S&P 500 (GSPC)': ['^GSPC', 'EUA'],\n",
    "    'Dow Jones 30 (DJI)': ['^DJI', 'EUA'],\n",
    "    'NASDAQ Composite (IXIC)': ['^IXIC', 'EUA'],\n",
    "    'S&P/TSX Composite (GSPTSE)': ['^GSPTSE', 'Canadá'],\n",
    "    'S&P/BMV IPC (MXX)': ['^MXX', 'México'],\n",
    "    'S&P Merval (MERV)': ['^MERV', 'Argentina'],\n",
    "    'Shanghai Composite (SSEC)': ['000001.SS', 'China'],\n",
    "    'SZSE Component (SZI)': ['399001.SZ', 'China'],\n",
    "    'Nikkei 225 (N225)': ['^N225', 'Japão'],\n",
    "    'Hang Seng (HK50)': ['^HSI', 'Hong Kong'],\n",
    "    'BSE Sensex 30 (BSESN)': ['^BSESN', 'Índia'],\n",
    "    'EuroNext 100 (N100)': ['^N100', 'Zona Euro'],\n",
    "    'DAX (DE30)': ['^GDAXI', 'Alemanha'],\n",
    "    'FTSE 100 (UK100)': ['^FTSE', 'UK'],\n",
    "    'CAC 40 (FCHI)': ['^FCHI', 'França'],\n",
    "    'MOEX Russia (IMOEX)': ['IMOEX.ME', 'Rússia'],\n",
    "    }"
   ]
  },
  {
   "cell_type": "code",
   "execution_count": 26,
   "metadata": {},
   "outputs": [
    {
     "data": {
      "text/html": [
       "<div>\n",
       "<style scoped>\n",
       "    .dataframe tbody tr th:only-of-type {\n",
       "        vertical-align: middle;\n",
       "    }\n",
       "\n",
       "    .dataframe tbody tr th {\n",
       "        vertical-align: top;\n",
       "    }\n",
       "\n",
       "    .dataframe thead th {\n",
       "        text-align: right;\n",
       "    }\n",
       "</style>\n",
       "<table border=\"1\" class=\"dataframe\">\n",
       "  <thead>\n",
       "    <tr style=\"text-align: right;\">\n",
       "      <th></th>\n",
       "      <th>Ticker_YF</th>\n",
       "      <th>Country</th>\n",
       "    </tr>\n",
       "  </thead>\n",
       "  <tbody>\n",
       "    <tr>\n",
       "      <th>Bovespa (BVSP)</th>\n",
       "      <td>^BVSP</td>\n",
       "      <td>Brasil</td>\n",
       "    </tr>\n",
       "    <tr>\n",
       "      <th>S&amp;P 500 (GSPC)</th>\n",
       "      <td>^GSPC</td>\n",
       "      <td>EUA</td>\n",
       "    </tr>\n",
       "    <tr>\n",
       "      <th>Dow Jones 30 (DJI)</th>\n",
       "      <td>^DJI</td>\n",
       "      <td>EUA</td>\n",
       "    </tr>\n",
       "    <tr>\n",
       "      <th>NASDAQ Composite (IXIC)</th>\n",
       "      <td>^IXIC</td>\n",
       "      <td>EUA</td>\n",
       "    </tr>\n",
       "    <tr>\n",
       "      <th>S&amp;P/TSX Composite (GSPTSE)</th>\n",
       "      <td>^GSPTSE</td>\n",
       "      <td>Canadá</td>\n",
       "    </tr>\n",
       "    <tr>\n",
       "      <th>S&amp;P/BMV IPC (MXX)</th>\n",
       "      <td>^MXX</td>\n",
       "      <td>México</td>\n",
       "    </tr>\n",
       "    <tr>\n",
       "      <th>S&amp;P Merval (MERV)</th>\n",
       "      <td>^MERV</td>\n",
       "      <td>Argentina</td>\n",
       "    </tr>\n",
       "    <tr>\n",
       "      <th>Shanghai Composite (SSEC)</th>\n",
       "      <td>000001.SS</td>\n",
       "      <td>China</td>\n",
       "    </tr>\n",
       "    <tr>\n",
       "      <th>SZSE Component (SZI)</th>\n",
       "      <td>399001.SZ</td>\n",
       "      <td>China</td>\n",
       "    </tr>\n",
       "    <tr>\n",
       "      <th>Nikkei 225 (N225)</th>\n",
       "      <td>^N225</td>\n",
       "      <td>Japão</td>\n",
       "    </tr>\n",
       "    <tr>\n",
       "      <th>Hang Seng (HK50)</th>\n",
       "      <td>^HSI</td>\n",
       "      <td>Hong Kong</td>\n",
       "    </tr>\n",
       "    <tr>\n",
       "      <th>BSE Sensex 30 (BSESN)</th>\n",
       "      <td>^BSESN</td>\n",
       "      <td>Índia</td>\n",
       "    </tr>\n",
       "    <tr>\n",
       "      <th>EuroNext 100 (N100)</th>\n",
       "      <td>^N100</td>\n",
       "      <td>Zona Euro</td>\n",
       "    </tr>\n",
       "    <tr>\n",
       "      <th>DAX (DE30)</th>\n",
       "      <td>^GDAXI</td>\n",
       "      <td>Alemanha</td>\n",
       "    </tr>\n",
       "    <tr>\n",
       "      <th>FTSE 100 (UK100)</th>\n",
       "      <td>^FTSE</td>\n",
       "      <td>UK</td>\n",
       "    </tr>\n",
       "    <tr>\n",
       "      <th>CAC 40 (FCHI)</th>\n",
       "      <td>^FCHI</td>\n",
       "      <td>França</td>\n",
       "    </tr>\n",
       "    <tr>\n",
       "      <th>MOEX Russia (IMOEX)</th>\n",
       "      <td>IMOEX.ME</td>\n",
       "      <td>Rússia</td>\n",
       "    </tr>\n",
       "  </tbody>\n",
       "</table>\n",
       "</div>"
      ],
      "text/plain": [
       "                            Ticker_YF    Country\n",
       "Bovespa (BVSP)                  ^BVSP     Brasil\n",
       "S&P 500 (GSPC)                  ^GSPC        EUA\n",
       "Dow Jones 30 (DJI)               ^DJI        EUA\n",
       "NASDAQ Composite (IXIC)         ^IXIC        EUA\n",
       "S&P/TSX Composite (GSPTSE)    ^GSPTSE     Canadá\n",
       "S&P/BMV IPC (MXX)                ^MXX     México\n",
       "S&P Merval (MERV)               ^MERV  Argentina\n",
       "Shanghai Composite (SSEC)   000001.SS      China\n",
       "SZSE Component (SZI)        399001.SZ      China\n",
       "Nikkei 225 (N225)               ^N225      Japão\n",
       "Hang Seng (HK50)                 ^HSI  Hong Kong\n",
       "BSE Sensex 30 (BSESN)          ^BSESN      Índia\n",
       "EuroNext 100 (N100)             ^N100  Zona Euro\n",
       "DAX (DE30)                     ^GDAXI   Alemanha\n",
       "FTSE 100 (UK100)                ^FTSE         UK\n",
       "CAC 40 (FCHI)                   ^FCHI     França\n",
       "MOEX Russia (IMOEX)          IMOEX.ME     Rússia"
      ]
     },
     "execution_count": 26,
     "metadata": {},
     "output_type": "execute_result"
    }
   ],
   "source": [
    "df_yf_world_indices = pd.DataFrame.from_dict(dict_yf_world_indices, orient='index', columns=['Ticker_YF', 'Country'])\n",
    "df_yf_world_indices"
   ]
  },
  {
   "cell_type": "code",
   "execution_count": 27,
   "metadata": {},
   "outputs": [
    {
     "data": {
      "text/html": [
       "<div>\n",
       "<style scoped>\n",
       "    .dataframe tbody tr th:only-of-type {\n",
       "        vertical-align: middle;\n",
       "    }\n",
       "\n",
       "    .dataframe tbody tr th {\n",
       "        vertical-align: top;\n",
       "    }\n",
       "\n",
       "    .dataframe thead th {\n",
       "        text-align: right;\n",
       "    }\n",
       "</style>\n",
       "<table border=\"1\" class=\"dataframe\">\n",
       "  <thead>\n",
       "    <tr style=\"text-align: right;\">\n",
       "      <th></th>\n",
       "      <th>Índice</th>\n",
       "      <th>Ticker_YF</th>\n",
       "      <th>Country</th>\n",
       "    </tr>\n",
       "  </thead>\n",
       "  <tbody>\n",
       "    <tr>\n",
       "      <th>0</th>\n",
       "      <td>Bovespa (BVSP)</td>\n",
       "      <td>^BVSP</td>\n",
       "      <td>Brasil</td>\n",
       "    </tr>\n",
       "    <tr>\n",
       "      <th>1</th>\n",
       "      <td>S&amp;P 500 (GSPC)</td>\n",
       "      <td>^GSPC</td>\n",
       "      <td>EUA</td>\n",
       "    </tr>\n",
       "    <tr>\n",
       "      <th>2</th>\n",
       "      <td>Dow Jones 30 (DJI)</td>\n",
       "      <td>^DJI</td>\n",
       "      <td>EUA</td>\n",
       "    </tr>\n",
       "    <tr>\n",
       "      <th>3</th>\n",
       "      <td>NASDAQ Composite (IXIC)</td>\n",
       "      <td>^IXIC</td>\n",
       "      <td>EUA</td>\n",
       "    </tr>\n",
       "    <tr>\n",
       "      <th>4</th>\n",
       "      <td>S&amp;P/TSX Composite (GSPTSE)</td>\n",
       "      <td>^GSPTSE</td>\n",
       "      <td>Canadá</td>\n",
       "    </tr>\n",
       "    <tr>\n",
       "      <th>5</th>\n",
       "      <td>S&amp;P/BMV IPC (MXX)</td>\n",
       "      <td>^MXX</td>\n",
       "      <td>México</td>\n",
       "    </tr>\n",
       "    <tr>\n",
       "      <th>6</th>\n",
       "      <td>S&amp;P Merval (MERV)</td>\n",
       "      <td>^MERV</td>\n",
       "      <td>Argentina</td>\n",
       "    </tr>\n",
       "    <tr>\n",
       "      <th>7</th>\n",
       "      <td>Shanghai Composite (SSEC)</td>\n",
       "      <td>000001.SS</td>\n",
       "      <td>China</td>\n",
       "    </tr>\n",
       "    <tr>\n",
       "      <th>8</th>\n",
       "      <td>SZSE Component (SZI)</td>\n",
       "      <td>399001.SZ</td>\n",
       "      <td>China</td>\n",
       "    </tr>\n",
       "    <tr>\n",
       "      <th>9</th>\n",
       "      <td>Nikkei 225 (N225)</td>\n",
       "      <td>^N225</td>\n",
       "      <td>Japão</td>\n",
       "    </tr>\n",
       "    <tr>\n",
       "      <th>10</th>\n",
       "      <td>Hang Seng (HK50)</td>\n",
       "      <td>^HSI</td>\n",
       "      <td>Hong Kong</td>\n",
       "    </tr>\n",
       "    <tr>\n",
       "      <th>11</th>\n",
       "      <td>BSE Sensex 30 (BSESN)</td>\n",
       "      <td>^BSESN</td>\n",
       "      <td>Índia</td>\n",
       "    </tr>\n",
       "    <tr>\n",
       "      <th>12</th>\n",
       "      <td>EuroNext 100 (N100)</td>\n",
       "      <td>^N100</td>\n",
       "      <td>Zona Euro</td>\n",
       "    </tr>\n",
       "    <tr>\n",
       "      <th>13</th>\n",
       "      <td>DAX (DE30)</td>\n",
       "      <td>^GDAXI</td>\n",
       "      <td>Alemanha</td>\n",
       "    </tr>\n",
       "    <tr>\n",
       "      <th>14</th>\n",
       "      <td>FTSE 100 (UK100)</td>\n",
       "      <td>^FTSE</td>\n",
       "      <td>UK</td>\n",
       "    </tr>\n",
       "    <tr>\n",
       "      <th>15</th>\n",
       "      <td>CAC 40 (FCHI)</td>\n",
       "      <td>^FCHI</td>\n",
       "      <td>França</td>\n",
       "    </tr>\n",
       "    <tr>\n",
       "      <th>16</th>\n",
       "      <td>MOEX Russia (IMOEX)</td>\n",
       "      <td>IMOEX.ME</td>\n",
       "      <td>Rússia</td>\n",
       "    </tr>\n",
       "  </tbody>\n",
       "</table>\n",
       "</div>"
      ],
      "text/plain": [
       "                        Índice  Ticker_YF    Country\n",
       "0               Bovespa (BVSP)      ^BVSP     Brasil\n",
       "1               S&P 500 (GSPC)      ^GSPC        EUA\n",
       "2           Dow Jones 30 (DJI)       ^DJI        EUA\n",
       "3      NASDAQ Composite (IXIC)      ^IXIC        EUA\n",
       "4   S&P/TSX Composite (GSPTSE)    ^GSPTSE     Canadá\n",
       "5            S&P/BMV IPC (MXX)       ^MXX     México\n",
       "6            S&P Merval (MERV)      ^MERV  Argentina\n",
       "7    Shanghai Composite (SSEC)  000001.SS      China\n",
       "8         SZSE Component (SZI)  399001.SZ      China\n",
       "9            Nikkei 225 (N225)      ^N225      Japão\n",
       "10            Hang Seng (HK50)       ^HSI  Hong Kong\n",
       "11       BSE Sensex 30 (BSESN)     ^BSESN      Índia\n",
       "12         EuroNext 100 (N100)      ^N100  Zona Euro\n",
       "13                  DAX (DE30)     ^GDAXI   Alemanha\n",
       "14            FTSE 100 (UK100)      ^FTSE         UK\n",
       "15               CAC 40 (FCHI)      ^FCHI     França\n",
       "16         MOEX Russia (IMOEX)   IMOEX.ME     Rússia"
      ]
     },
     "execution_count": 27,
     "metadata": {},
     "output_type": "execute_result"
    }
   ],
   "source": [
    "df_yf_world_indices = df_yf_world_indices.reset_index()\n",
    "df_yf_world_indices = df_yf_world_indices.rename({'index':'Índice'}, axis=1)\n",
    "df_yf_world_indices"
   ]
  },
  {
   "cell_type": "code",
   "execution_count": 28,
   "metadata": {},
   "outputs": [
    {
     "data": {
      "text/html": [
       "<div>\n",
       "<style scoped>\n",
       "    .dataframe tbody tr th:only-of-type {\n",
       "        vertical-align: middle;\n",
       "    }\n",
       "\n",
       "    .dataframe tbody tr th {\n",
       "        vertical-align: top;\n",
       "    }\n",
       "\n",
       "    .dataframe thead th {\n",
       "        text-align: right;\n",
       "    }\n",
       "</style>\n",
       "<table border=\"1\" class=\"dataframe\">\n",
       "  <thead>\n",
       "    <tr style=\"text-align: right;\">\n",
       "      <th></th>\n",
       "      <th>Open</th>\n",
       "      <th>High</th>\n",
       "      <th>Low</th>\n",
       "      <th>Close</th>\n",
       "      <th>Adj Close</th>\n",
       "      <th>Volume</th>\n",
       "    </tr>\n",
       "    <tr>\n",
       "      <th>Date</th>\n",
       "      <th></th>\n",
       "      <th></th>\n",
       "      <th></th>\n",
       "      <th></th>\n",
       "      <th></th>\n",
       "      <th></th>\n",
       "    </tr>\n",
       "  </thead>\n",
       "  <tbody>\n",
       "    <tr>\n",
       "      <th>2024-01-22 00:00:00-03:00</th>\n",
       "      <td>127636.320312</td>\n",
       "      <td>127842.59375</td>\n",
       "      <td>125875.648438</td>\n",
       "      <td>126601.546875</td>\n",
       "      <td>126601.546875</td>\n",
       "      <td>0</td>\n",
       "    </tr>\n",
       "  </tbody>\n",
       "</table>\n",
       "</div>"
      ],
      "text/plain": [
       "                                    Open          High            Low  \\\n",
       "Date                                                                    \n",
       "2024-01-22 00:00:00-03:00  127636.320312  127842.59375  125875.648438   \n",
       "\n",
       "                                   Close      Adj Close  Volume  \n",
       "Date                                                             \n",
       "2024-01-22 00:00:00-03:00  126601.546875  126601.546875       0  "
      ]
     },
     "execution_count": 28,
     "metadata": {},
     "output_type": "execute_result"
    }
   ],
   "source": [
    "ohlcv_indice = pd.DataFrame(yf.download(df_yf_world_indices.Ticker_YF.values[0], start=data_inicio, end=data_final, progress=False, interval=\"1d\"))\n",
    "ohlcv_indice"
   ]
  },
  {
   "cell_type": "code",
   "execution_count": 29,
   "metadata": {},
   "outputs": [
    {
     "data": {
      "text/html": [
       "<div>\n",
       "<style scoped>\n",
       "    .dataframe tbody tr th:only-of-type {\n",
       "        vertical-align: middle;\n",
       "    }\n",
       "\n",
       "    .dataframe tbody tr th {\n",
       "        vertical-align: top;\n",
       "    }\n",
       "\n",
       "    .dataframe thead th {\n",
       "        text-align: right;\n",
       "    }\n",
       "</style>\n",
       "<table border=\"1\" class=\"dataframe\">\n",
       "  <thead>\n",
       "    <tr style=\"text-align: right;\">\n",
       "      <th></th>\n",
       "      <th>Open</th>\n",
       "      <th>High</th>\n",
       "      <th>Low</th>\n",
       "      <th>Close</th>\n",
       "      <th>Ticker_YF</th>\n",
       "    </tr>\n",
       "    <tr>\n",
       "      <th>Date</th>\n",
       "      <th></th>\n",
       "      <th></th>\n",
       "      <th></th>\n",
       "      <th></th>\n",
       "      <th></th>\n",
       "    </tr>\n",
       "  </thead>\n",
       "  <tbody>\n",
       "    <tr>\n",
       "      <th>2024-01-28 00:00:00-03:00</th>\n",
       "      <td>127636.320312</td>\n",
       "      <td>127842.59375</td>\n",
       "      <td>125875.648438</td>\n",
       "      <td>126601.546875</td>\n",
       "      <td>^BVSP</td>\n",
       "    </tr>\n",
       "  </tbody>\n",
       "</table>\n",
       "</div>"
      ],
      "text/plain": [
       "                                    Open          High            Low  \\\n",
       "Date                                                                    \n",
       "2024-01-28 00:00:00-03:00  127636.320312  127842.59375  125875.648438   \n",
       "\n",
       "                                   Close Ticker_YF  \n",
       "Date                                                \n",
       "2024-01-28 00:00:00-03:00  126601.546875     ^BVSP  "
      ]
     },
     "execution_count": 29,
     "metadata": {},
     "output_type": "execute_result"
    }
   ],
   "source": [
    "ohlcv_indice = ohlcv_indice.resample(\"W\").agg({\"Open\": \"first\", \"High\": \"max\", \"Low\": \"min\", \"Close\": \"last\"})\n",
    "ohlcv_indice[\"Ticker_YF\"] = df_yf_world_indices.Ticker_YF.values[0]\n",
    "ohlcv_indice"
   ]
  },
  {
   "cell_type": "code",
   "execution_count": 30,
   "metadata": {},
   "outputs": [
    {
     "data": {
      "text/html": [
       "<div>\n",
       "<style scoped>\n",
       "    .dataframe tbody tr th:only-of-type {\n",
       "        vertical-align: middle;\n",
       "    }\n",
       "\n",
       "    .dataframe tbody tr th {\n",
       "        vertical-align: top;\n",
       "    }\n",
       "\n",
       "    .dataframe thead th {\n",
       "        text-align: right;\n",
       "    }\n",
       "</style>\n",
       "<table border=\"1\" class=\"dataframe\">\n",
       "  <thead>\n",
       "    <tr style=\"text-align: right;\">\n",
       "      <th></th>\n",
       "      <th>Open</th>\n",
       "      <th>High</th>\n",
       "      <th>Low</th>\n",
       "      <th>Close</th>\n",
       "      <th>Ticker_YF</th>\n",
       "      <th>Resultado_%</th>\n",
       "    </tr>\n",
       "    <tr>\n",
       "      <th>Date</th>\n",
       "      <th></th>\n",
       "      <th></th>\n",
       "      <th></th>\n",
       "      <th></th>\n",
       "      <th></th>\n",
       "      <th></th>\n",
       "    </tr>\n",
       "  </thead>\n",
       "  <tbody>\n",
       "    <tr>\n",
       "      <th>2024-01-28 00:00:00-03:00</th>\n",
       "      <td>127636.320312</td>\n",
       "      <td>127842.59375</td>\n",
       "      <td>125875.648438</td>\n",
       "      <td>126601.546875</td>\n",
       "      <td>^BVSP</td>\n",
       "      <td>-0.81072</td>\n",
       "    </tr>\n",
       "  </tbody>\n",
       "</table>\n",
       "</div>"
      ],
      "text/plain": [
       "                                    Open          High            Low  \\\n",
       "Date                                                                    \n",
       "2024-01-28 00:00:00-03:00  127636.320312  127842.59375  125875.648438   \n",
       "\n",
       "                                   Close Ticker_YF  Resultado_%  \n",
       "Date                                                             \n",
       "2024-01-28 00:00:00-03:00  126601.546875     ^BVSP     -0.81072  "
      ]
     },
     "execution_count": 30,
     "metadata": {},
     "output_type": "execute_result"
    }
   ],
   "source": [
    "ohlcv_indice[\"Resultado_%\"] = (ohlcv_indice.Close/ohlcv_indice.Open - 1) * 100\n",
    "ohlcv_indice"
   ]
  },
  {
   "cell_type": "code",
   "execution_count": 33,
   "metadata": {},
   "outputs": [
    {
     "name": "stdout",
     "output_type": "stream",
     "text": [
      "\n",
      "1 Failed download:\n",
      "- ^MERV: No data found for this date range, symbol may be delisted\n",
      "\n",
      "1 Failed download:\n",
      "- ^BSESN: No data found for this date range, symbol may be delisted\n",
      "\n",
      "1 Failed download:\n",
      "- IMOEX.ME: No data found for this date range, symbol may be delisted\n"
     ]
    }
   ],
   "source": [
    "world_ohlcv = pd.DataFrame()\n",
    "\n",
    "for i in df_yf_world_indices.Ticker_YF:\n",
    "\n",
    "    try:\n",
    "        ohlcv_indice = pd.DataFrame(yf.download(i, start=data_inicio, end=data_final, progress=False, interval=\"1d\"))\n",
    "        ohlcv_indice = ohlcv_indice.resample(\"W\").agg({\"Open\": \"first\", \"High\": \"max\", \"Low\": \"min\", \"Close\": \"last\"})\n",
    "        ohlcv_indice[\"Ticker_YF\"] = i\n",
    "        ohlcv_indice[\"Resultado_%\"] = (ohlcv_indice.Close/ohlcv_indice.Open - 1) * 100\n",
    "        world_ohlcv = pd.concat([world_ohlcv, ohlcv_indice], axis=0)\n",
    "\n",
    "    except:\n",
    "        pass"
   ]
  }
 ],
 "metadata": {
  "kernelspec": {
   "display_name": "Python 3 (ipykernel)",
   "language": "python",
   "name": "python3"
  },
  "language_info": {
   "codemirror_mode": {
    "name": "ipython",
    "version": 3
   },
   "file_extension": ".py",
   "mimetype": "text/x-python",
   "name": "python",
   "nbconvert_exporter": "python",
   "pygments_lexer": "ipython3",
   "version": "3.8.5"
  }
 },
 "nbformat": 4,
 "nbformat_minor": 4
}
