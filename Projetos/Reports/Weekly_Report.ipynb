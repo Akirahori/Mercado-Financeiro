{
 "cells": [
  {
   "cell_type": "markdown",
   "metadata": {},
   "source": [
    "# Importação das bibliotecas"
   ]
  },
  {
   "cell_type": "code",
   "execution_count": 7,
   "metadata": {},
   "outputs": [],
   "source": [
    "import numpy as np\n",
    "import pandas as pd\n",
    "\n",
    "from datetime import datetime, timedelta\n",
    "import pytz\n",
    "\n",
    "import yfinance as yf\n",
    "import MetaTrader5 as mt5\n",
    "\n",
    "import kaleido\n",
    "import plotly.graph_objects as go\n",
    "from plotly.subplots import make_subplots"
   ]
  },
  {
   "cell_type": "markdown",
   "metadata": {},
   "source": [
    "# Organizar datas de extração"
   ]
  },
  {
   "cell_type": "code",
   "execution_count": 13,
   "metadata": {},
   "outputs": [
    {
     "data": {
      "text/plain": [
       "datetime.datetime(2024, 1, 22, 21, 43, 12, 341966)"
      ]
     },
     "execution_count": 13,
     "metadata": {},
     "output_type": "execute_result"
    }
   ],
   "source": [
    "hoje = datetime.now()\n",
    "hoje"
   ]
  },
  {
   "cell_type": "code",
   "execution_count": 14,
   "metadata": {},
   "outputs": [
    {
     "data": {
      "text/plain": [
       "0"
      ]
     },
     "execution_count": 14,
     "metadata": {},
     "output_type": "execute_result"
    }
   ],
   "source": [
    "hoje.weekday()"
   ]
  },
  {
   "cell_type": "code",
   "execution_count": 15,
   "metadata": {},
   "outputs": [
    {
     "data": {
      "text/plain": [
       "datetime.datetime(2024, 1, 22, 21, 43, 12, 341966)"
      ]
     },
     "execution_count": 15,
     "metadata": {},
     "output_type": "execute_result"
    }
   ],
   "source": [
    "segunda = hoje - timedelta(days = hoje.weekday())\n",
    "segunda"
   ]
  },
  {
   "cell_type": "code",
   "execution_count": 16,
   "metadata": {},
   "outputs": [
    {
     "data": {
      "text/plain": [
       "datetime.date(2024, 1, 22)"
      ]
     },
     "execution_count": 16,
     "metadata": {},
     "output_type": "execute_result"
    }
   ],
   "source": [
    "segunda.date()"
   ]
  },
  {
   "cell_type": "code",
   "execution_count": 17,
   "metadata": {},
   "outputs": [
    {
     "data": {
      "text/plain": [
       "'2024-01-24'"
      ]
     },
     "execution_count": 17,
     "metadata": {},
     "output_type": "execute_result"
    }
   ],
   "source": [
    "data_inicio = segunda.date().strftime('%Y-%m-%d')\n",
    "data_final = (hoje.date()+ timedelta(days = 2)).strftime('%Y-%m-%d')\n",
    "data_final"
   ]
  },
  {
   "cell_type": "code",
   "execution_count": 18,
   "metadata": {},
   "outputs": [],
   "source": [
    "def capa_post_weekly():\n",
    "\n",
    "    semana_ano = segunda.date().strftime('%U')\n",
    "    ano = segunda.date().strftime('%Y')\n",
    "\n",
    "    print('Trading com Dados apresenta')\n",
    "    print('Weekly Report')\n",
    "    print(f'Semana {semana_ano} de {ano}')\n",
    "    print(f'{segunda.date().strftime(\"%d-%m\")} a {(segunda.date() + timedelta(days = 4)).strftime(\"%d-%m\")}')"
   ]
  },
  {
   "cell_type": "code",
   "execution_count": 20,
   "metadata": {},
   "outputs": [
    {
     "name": "stdout",
     "output_type": "stream",
     "text": [
      "Trading com Dados apresenta\n",
      "Weekly Report\n",
      "Semana 03 de 2024\n",
      "22-01 a 26-01\n"
     ]
    }
   ],
   "source": [
    "capa_post_weekly()"
   ]
  },
  {
   "cell_type": "markdown",
   "metadata": {},
   "source": [
    "# Índices Internacionais"
   ]
  },
  {
   "cell_type": "markdown",
   "metadata": {},
   "source": [
    "Extração e manipulação dos dados"
   ]
  },
  {
   "cell_type": "code",
   "execution_count": 21,
   "metadata": {},
   "outputs": [],
   "source": [
    "dict_yf_world_indices = {\n",
    "    'Bovespa (BVSP)': ['^BVSP','Brasil'],\n",
    "    'S&P 500 (GSPC)': ['^GSPC', 'EUA'],\n",
    "    'Dow Jones 30 (DJI)': ['^DJI', 'EUA'],\n",
    "    'NASDAQ Composite (IXIC)': ['^IXIC', 'EUA'],\n",
    "    'S&P/TSX Composite (GSPTSE)': ['^GSPTSE', 'Canadá'],\n",
    "    'S&P/BMV IPC (MXX)': ['^MXX', 'México'],\n",
    "    'S&P Merval (MERV)': ['^MERV', 'Argentina'],\n",
    "    'Shanghai Composite (SSEC)': ['000001.SS', 'China'],\n",
    "    'SZSE Component (SZI)': ['399001.SZ', 'China'],\n",
    "    'Nikkei 225 (N225)': ['^N225', 'Japão'],\n",
    "    'Hang Seng (HK50)': ['^HSI', 'Hong Kong'],\n",
    "    'BSE Sensex 30 (BSESN)': ['^BSESN', 'Índia'],\n",
    "    'EuroNext 100 (N100)': ['^N100', 'Zona Euro'],\n",
    "    'DAX (DE30)': ['^GDAXI', 'Alemanha'],\n",
    "    'FTSE 100 (UK100)': ['^FTSE', 'UK'],\n",
    "    'CAC 40 (FCHI)': ['^FCHI', 'França'],\n",
    "    'MOEX Russia (IMOEX)': ['IMOEX.ME', 'Rússia'],\n",
    "    }"
   ]
  },
  {
   "cell_type": "code",
   "execution_count": 26,
   "metadata": {},
   "outputs": [
    {
     "data": {
      "text/html": [
       "<div>\n",
       "<style scoped>\n",
       "    .dataframe tbody tr th:only-of-type {\n",
       "        vertical-align: middle;\n",
       "    }\n",
       "\n",
       "    .dataframe tbody tr th {\n",
       "        vertical-align: top;\n",
       "    }\n",
       "\n",
       "    .dataframe thead th {\n",
       "        text-align: right;\n",
       "    }\n",
       "</style>\n",
       "<table border=\"1\" class=\"dataframe\">\n",
       "  <thead>\n",
       "    <tr style=\"text-align: right;\">\n",
       "      <th></th>\n",
       "      <th>Ticker_YF</th>\n",
       "      <th>Country</th>\n",
       "    </tr>\n",
       "  </thead>\n",
       "  <tbody>\n",
       "    <tr>\n",
       "      <th>Bovespa (BVSP)</th>\n",
       "      <td>^BVSP</td>\n",
       "      <td>Brasil</td>\n",
       "    </tr>\n",
       "    <tr>\n",
       "      <th>S&amp;P 500 (GSPC)</th>\n",
       "      <td>^GSPC</td>\n",
       "      <td>EUA</td>\n",
       "    </tr>\n",
       "    <tr>\n",
       "      <th>Dow Jones 30 (DJI)</th>\n",
       "      <td>^DJI</td>\n",
       "      <td>EUA</td>\n",
       "    </tr>\n",
       "    <tr>\n",
       "      <th>NASDAQ Composite (IXIC)</th>\n",
       "      <td>^IXIC</td>\n",
       "      <td>EUA</td>\n",
       "    </tr>\n",
       "    <tr>\n",
       "      <th>S&amp;P/TSX Composite (GSPTSE)</th>\n",
       "      <td>^GSPTSE</td>\n",
       "      <td>Canadá</td>\n",
       "    </tr>\n",
       "    <tr>\n",
       "      <th>S&amp;P/BMV IPC (MXX)</th>\n",
       "      <td>^MXX</td>\n",
       "      <td>México</td>\n",
       "    </tr>\n",
       "    <tr>\n",
       "      <th>S&amp;P Merval (MERV)</th>\n",
       "      <td>^MERV</td>\n",
       "      <td>Argentina</td>\n",
       "    </tr>\n",
       "    <tr>\n",
       "      <th>Shanghai Composite (SSEC)</th>\n",
       "      <td>000001.SS</td>\n",
       "      <td>China</td>\n",
       "    </tr>\n",
       "    <tr>\n",
       "      <th>SZSE Component (SZI)</th>\n",
       "      <td>399001.SZ</td>\n",
       "      <td>China</td>\n",
       "    </tr>\n",
       "    <tr>\n",
       "      <th>Nikkei 225 (N225)</th>\n",
       "      <td>^N225</td>\n",
       "      <td>Japão</td>\n",
       "    </tr>\n",
       "    <tr>\n",
       "      <th>Hang Seng (HK50)</th>\n",
       "      <td>^HSI</td>\n",
       "      <td>Hong Kong</td>\n",
       "    </tr>\n",
       "    <tr>\n",
       "      <th>BSE Sensex 30 (BSESN)</th>\n",
       "      <td>^BSESN</td>\n",
       "      <td>Índia</td>\n",
       "    </tr>\n",
       "    <tr>\n",
       "      <th>EuroNext 100 (N100)</th>\n",
       "      <td>^N100</td>\n",
       "      <td>Zona Euro</td>\n",
       "    </tr>\n",
       "    <tr>\n",
       "      <th>DAX (DE30)</th>\n",
       "      <td>^GDAXI</td>\n",
       "      <td>Alemanha</td>\n",
       "    </tr>\n",
       "    <tr>\n",
       "      <th>FTSE 100 (UK100)</th>\n",
       "      <td>^FTSE</td>\n",
       "      <td>UK</td>\n",
       "    </tr>\n",
       "    <tr>\n",
       "      <th>CAC 40 (FCHI)</th>\n",
       "      <td>^FCHI</td>\n",
       "      <td>França</td>\n",
       "    </tr>\n",
       "    <tr>\n",
       "      <th>MOEX Russia (IMOEX)</th>\n",
       "      <td>IMOEX.ME</td>\n",
       "      <td>Rússia</td>\n",
       "    </tr>\n",
       "  </tbody>\n",
       "</table>\n",
       "</div>"
      ],
      "text/plain": [
       "                            Ticker_YF    Country\n",
       "Bovespa (BVSP)                  ^BVSP     Brasil\n",
       "S&P 500 (GSPC)                  ^GSPC        EUA\n",
       "Dow Jones 30 (DJI)               ^DJI        EUA\n",
       "NASDAQ Composite (IXIC)         ^IXIC        EUA\n",
       "S&P/TSX Composite (GSPTSE)    ^GSPTSE     Canadá\n",
       "S&P/BMV IPC (MXX)                ^MXX     México\n",
       "S&P Merval (MERV)               ^MERV  Argentina\n",
       "Shanghai Composite (SSEC)   000001.SS      China\n",
       "SZSE Component (SZI)        399001.SZ      China\n",
       "Nikkei 225 (N225)               ^N225      Japão\n",
       "Hang Seng (HK50)                 ^HSI  Hong Kong\n",
       "BSE Sensex 30 (BSESN)          ^BSESN      Índia\n",
       "EuroNext 100 (N100)             ^N100  Zona Euro\n",
       "DAX (DE30)                     ^GDAXI   Alemanha\n",
       "FTSE 100 (UK100)                ^FTSE         UK\n",
       "CAC 40 (FCHI)                   ^FCHI     França\n",
       "MOEX Russia (IMOEX)          IMOEX.ME     Rússia"
      ]
     },
     "execution_count": 26,
     "metadata": {},
     "output_type": "execute_result"
    }
   ],
   "source": [
    "df_yf_world_indices = pd.DataFrame.from_dict(dict_yf_world_indices, orient='index', columns=['Ticker_YF', 'Country'])\n",
    "df_yf_world_indices"
   ]
  },
  {
   "cell_type": "code",
   "execution_count": 27,
   "metadata": {},
   "outputs": [
    {
     "data": {
      "text/html": [
       "<div>\n",
       "<style scoped>\n",
       "    .dataframe tbody tr th:only-of-type {\n",
       "        vertical-align: middle;\n",
       "    }\n",
       "\n",
       "    .dataframe tbody tr th {\n",
       "        vertical-align: top;\n",
       "    }\n",
       "\n",
       "    .dataframe thead th {\n",
       "        text-align: right;\n",
       "    }\n",
       "</style>\n",
       "<table border=\"1\" class=\"dataframe\">\n",
       "  <thead>\n",
       "    <tr style=\"text-align: right;\">\n",
       "      <th></th>\n",
       "      <th>Índice</th>\n",
       "      <th>Ticker_YF</th>\n",
       "      <th>Country</th>\n",
       "    </tr>\n",
       "  </thead>\n",
       "  <tbody>\n",
       "    <tr>\n",
       "      <th>0</th>\n",
       "      <td>Bovespa (BVSP)</td>\n",
       "      <td>^BVSP</td>\n",
       "      <td>Brasil</td>\n",
       "    </tr>\n",
       "    <tr>\n",
       "      <th>1</th>\n",
       "      <td>S&amp;P 500 (GSPC)</td>\n",
       "      <td>^GSPC</td>\n",
       "      <td>EUA</td>\n",
       "    </tr>\n",
       "    <tr>\n",
       "      <th>2</th>\n",
       "      <td>Dow Jones 30 (DJI)</td>\n",
       "      <td>^DJI</td>\n",
       "      <td>EUA</td>\n",
       "    </tr>\n",
       "    <tr>\n",
       "      <th>3</th>\n",
       "      <td>NASDAQ Composite (IXIC)</td>\n",
       "      <td>^IXIC</td>\n",
       "      <td>EUA</td>\n",
       "    </tr>\n",
       "    <tr>\n",
       "      <th>4</th>\n",
       "      <td>S&amp;P/TSX Composite (GSPTSE)</td>\n",
       "      <td>^GSPTSE</td>\n",
       "      <td>Canadá</td>\n",
       "    </tr>\n",
       "    <tr>\n",
       "      <th>5</th>\n",
       "      <td>S&amp;P/BMV IPC (MXX)</td>\n",
       "      <td>^MXX</td>\n",
       "      <td>México</td>\n",
       "    </tr>\n",
       "    <tr>\n",
       "      <th>6</th>\n",
       "      <td>S&amp;P Merval (MERV)</td>\n",
       "      <td>^MERV</td>\n",
       "      <td>Argentina</td>\n",
       "    </tr>\n",
       "    <tr>\n",
       "      <th>7</th>\n",
       "      <td>Shanghai Composite (SSEC)</td>\n",
       "      <td>000001.SS</td>\n",
       "      <td>China</td>\n",
       "    </tr>\n",
       "    <tr>\n",
       "      <th>8</th>\n",
       "      <td>SZSE Component (SZI)</td>\n",
       "      <td>399001.SZ</td>\n",
       "      <td>China</td>\n",
       "    </tr>\n",
       "    <tr>\n",
       "      <th>9</th>\n",
       "      <td>Nikkei 225 (N225)</td>\n",
       "      <td>^N225</td>\n",
       "      <td>Japão</td>\n",
       "    </tr>\n",
       "    <tr>\n",
       "      <th>10</th>\n",
       "      <td>Hang Seng (HK50)</td>\n",
       "      <td>^HSI</td>\n",
       "      <td>Hong Kong</td>\n",
       "    </tr>\n",
       "    <tr>\n",
       "      <th>11</th>\n",
       "      <td>BSE Sensex 30 (BSESN)</td>\n",
       "      <td>^BSESN</td>\n",
       "      <td>Índia</td>\n",
       "    </tr>\n",
       "    <tr>\n",
       "      <th>12</th>\n",
       "      <td>EuroNext 100 (N100)</td>\n",
       "      <td>^N100</td>\n",
       "      <td>Zona Euro</td>\n",
       "    </tr>\n",
       "    <tr>\n",
       "      <th>13</th>\n",
       "      <td>DAX (DE30)</td>\n",
       "      <td>^GDAXI</td>\n",
       "      <td>Alemanha</td>\n",
       "    </tr>\n",
       "    <tr>\n",
       "      <th>14</th>\n",
       "      <td>FTSE 100 (UK100)</td>\n",
       "      <td>^FTSE</td>\n",
       "      <td>UK</td>\n",
       "    </tr>\n",
       "    <tr>\n",
       "      <th>15</th>\n",
       "      <td>CAC 40 (FCHI)</td>\n",
       "      <td>^FCHI</td>\n",
       "      <td>França</td>\n",
       "    </tr>\n",
       "    <tr>\n",
       "      <th>16</th>\n",
       "      <td>MOEX Russia (IMOEX)</td>\n",
       "      <td>IMOEX.ME</td>\n",
       "      <td>Rússia</td>\n",
       "    </tr>\n",
       "  </tbody>\n",
       "</table>\n",
       "</div>"
      ],
      "text/plain": [
       "                        Índice  Ticker_YF    Country\n",
       "0               Bovespa (BVSP)      ^BVSP     Brasil\n",
       "1               S&P 500 (GSPC)      ^GSPC        EUA\n",
       "2           Dow Jones 30 (DJI)       ^DJI        EUA\n",
       "3      NASDAQ Composite (IXIC)      ^IXIC        EUA\n",
       "4   S&P/TSX Composite (GSPTSE)    ^GSPTSE     Canadá\n",
       "5            S&P/BMV IPC (MXX)       ^MXX     México\n",
       "6            S&P Merval (MERV)      ^MERV  Argentina\n",
       "7    Shanghai Composite (SSEC)  000001.SS      China\n",
       "8         SZSE Component (SZI)  399001.SZ      China\n",
       "9            Nikkei 225 (N225)      ^N225      Japão\n",
       "10            Hang Seng (HK50)       ^HSI  Hong Kong\n",
       "11       BSE Sensex 30 (BSESN)     ^BSESN      Índia\n",
       "12         EuroNext 100 (N100)      ^N100  Zona Euro\n",
       "13                  DAX (DE30)     ^GDAXI   Alemanha\n",
       "14            FTSE 100 (UK100)      ^FTSE         UK\n",
       "15               CAC 40 (FCHI)      ^FCHI     França\n",
       "16         MOEX Russia (IMOEX)   IMOEX.ME     Rússia"
      ]
     },
     "execution_count": 27,
     "metadata": {},
     "output_type": "execute_result"
    }
   ],
   "source": [
    "df_yf_world_indices = df_yf_world_indices.reset_index()\n",
    "df_yf_world_indices = df_yf_world_indices.rename({'index':'Índice'}, axis=1)\n",
    "df_yf_world_indices"
   ]
  },
  {
   "cell_type": "code",
   "execution_count": 28,
   "metadata": {},
   "outputs": [
    {
     "data": {
      "text/html": [
       "<div>\n",
       "<style scoped>\n",
       "    .dataframe tbody tr th:only-of-type {\n",
       "        vertical-align: middle;\n",
       "    }\n",
       "\n",
       "    .dataframe tbody tr th {\n",
       "        vertical-align: top;\n",
       "    }\n",
       "\n",
       "    .dataframe thead th {\n",
       "        text-align: right;\n",
       "    }\n",
       "</style>\n",
       "<table border=\"1\" class=\"dataframe\">\n",
       "  <thead>\n",
       "    <tr style=\"text-align: right;\">\n",
       "      <th></th>\n",
       "      <th>Open</th>\n",
       "      <th>High</th>\n",
       "      <th>Low</th>\n",
       "      <th>Close</th>\n",
       "      <th>Adj Close</th>\n",
       "      <th>Volume</th>\n",
       "    </tr>\n",
       "    <tr>\n",
       "      <th>Date</th>\n",
       "      <th></th>\n",
       "      <th></th>\n",
       "      <th></th>\n",
       "      <th></th>\n",
       "      <th></th>\n",
       "      <th></th>\n",
       "    </tr>\n",
       "  </thead>\n",
       "  <tbody>\n",
       "    <tr>\n",
       "      <th>2024-01-22 00:00:00-03:00</th>\n",
       "      <td>127636.320312</td>\n",
       "      <td>127842.59375</td>\n",
       "      <td>125875.648438</td>\n",
       "      <td>126601.546875</td>\n",
       "      <td>126601.546875</td>\n",
       "      <td>0</td>\n",
       "    </tr>\n",
       "  </tbody>\n",
       "</table>\n",
       "</div>"
      ],
      "text/plain": [
       "                                    Open          High            Low  \\\n",
       "Date                                                                    \n",
       "2024-01-22 00:00:00-03:00  127636.320312  127842.59375  125875.648438   \n",
       "\n",
       "                                   Close      Adj Close  Volume  \n",
       "Date                                                             \n",
       "2024-01-22 00:00:00-03:00  126601.546875  126601.546875       0  "
      ]
     },
     "execution_count": 28,
     "metadata": {},
     "output_type": "execute_result"
    }
   ],
   "source": [
    "ohlcv_indice = pd.DataFrame(yf.download(df_yf_world_indices.Ticker_YF.values[0], start=data_inicio, end=data_final, progress=False, interval=\"1d\"))\n",
    "ohlcv_indice"
   ]
  },
  {
   "cell_type": "code",
   "execution_count": 29,
   "metadata": {},
   "outputs": [
    {
     "data": {
      "text/html": [
       "<div>\n",
       "<style scoped>\n",
       "    .dataframe tbody tr th:only-of-type {\n",
       "        vertical-align: middle;\n",
       "    }\n",
       "\n",
       "    .dataframe tbody tr th {\n",
       "        vertical-align: top;\n",
       "    }\n",
       "\n",
       "    .dataframe thead th {\n",
       "        text-align: right;\n",
       "    }\n",
       "</style>\n",
       "<table border=\"1\" class=\"dataframe\">\n",
       "  <thead>\n",
       "    <tr style=\"text-align: right;\">\n",
       "      <th></th>\n",
       "      <th>Open</th>\n",
       "      <th>High</th>\n",
       "      <th>Low</th>\n",
       "      <th>Close</th>\n",
       "      <th>Ticker_YF</th>\n",
       "    </tr>\n",
       "    <tr>\n",
       "      <th>Date</th>\n",
       "      <th></th>\n",
       "      <th></th>\n",
       "      <th></th>\n",
       "      <th></th>\n",
       "      <th></th>\n",
       "    </tr>\n",
       "  </thead>\n",
       "  <tbody>\n",
       "    <tr>\n",
       "      <th>2024-01-28 00:00:00-03:00</th>\n",
       "      <td>127636.320312</td>\n",
       "      <td>127842.59375</td>\n",
       "      <td>125875.648438</td>\n",
       "      <td>126601.546875</td>\n",
       "      <td>^BVSP</td>\n",
       "    </tr>\n",
       "  </tbody>\n",
       "</table>\n",
       "</div>"
      ],
      "text/plain": [
       "                                    Open          High            Low  \\\n",
       "Date                                                                    \n",
       "2024-01-28 00:00:00-03:00  127636.320312  127842.59375  125875.648438   \n",
       "\n",
       "                                   Close Ticker_YF  \n",
       "Date                                                \n",
       "2024-01-28 00:00:00-03:00  126601.546875     ^BVSP  "
      ]
     },
     "execution_count": 29,
     "metadata": {},
     "output_type": "execute_result"
    }
   ],
   "source": [
    "ohlcv_indice = ohlcv_indice.resample(\"W\").agg({\"Open\": \"first\", \"High\": \"max\", \"Low\": \"min\", \"Close\": \"last\"})\n",
    "ohlcv_indice[\"Ticker_YF\"] = df_yf_world_indices.Ticker_YF.values[0]\n",
    "ohlcv_indice"
   ]
  },
  {
   "cell_type": "code",
   "execution_count": 30,
   "metadata": {},
   "outputs": [
    {
     "data": {
      "text/html": [
       "<div>\n",
       "<style scoped>\n",
       "    .dataframe tbody tr th:only-of-type {\n",
       "        vertical-align: middle;\n",
       "    }\n",
       "\n",
       "    .dataframe tbody tr th {\n",
       "        vertical-align: top;\n",
       "    }\n",
       "\n",
       "    .dataframe thead th {\n",
       "        text-align: right;\n",
       "    }\n",
       "</style>\n",
       "<table border=\"1\" class=\"dataframe\">\n",
       "  <thead>\n",
       "    <tr style=\"text-align: right;\">\n",
       "      <th></th>\n",
       "      <th>Open</th>\n",
       "      <th>High</th>\n",
       "      <th>Low</th>\n",
       "      <th>Close</th>\n",
       "      <th>Ticker_YF</th>\n",
       "      <th>Resultado_%</th>\n",
       "    </tr>\n",
       "    <tr>\n",
       "      <th>Date</th>\n",
       "      <th></th>\n",
       "      <th></th>\n",
       "      <th></th>\n",
       "      <th></th>\n",
       "      <th></th>\n",
       "      <th></th>\n",
       "    </tr>\n",
       "  </thead>\n",
       "  <tbody>\n",
       "    <tr>\n",
       "      <th>2024-01-28 00:00:00-03:00</th>\n",
       "      <td>127636.320312</td>\n",
       "      <td>127842.59375</td>\n",
       "      <td>125875.648438</td>\n",
       "      <td>126601.546875</td>\n",
       "      <td>^BVSP</td>\n",
       "      <td>-0.81072</td>\n",
       "    </tr>\n",
       "  </tbody>\n",
       "</table>\n",
       "</div>"
      ],
      "text/plain": [
       "                                    Open          High            Low  \\\n",
       "Date                                                                    \n",
       "2024-01-28 00:00:00-03:00  127636.320312  127842.59375  125875.648438   \n",
       "\n",
       "                                   Close Ticker_YF  Resultado_%  \n",
       "Date                                                             \n",
       "2024-01-28 00:00:00-03:00  126601.546875     ^BVSP     -0.81072  "
      ]
     },
     "execution_count": 30,
     "metadata": {},
     "output_type": "execute_result"
    }
   ],
   "source": [
    "ohlcv_indice[\"Resultado_%\"] = (ohlcv_indice.Close/ohlcv_indice.Open - 1) * 100\n",
    "ohlcv_indice"
   ]
  },
  {
   "cell_type": "code",
   "execution_count": 33,
   "metadata": {},
   "outputs": [
    {
     "name": "stdout",
     "output_type": "stream",
     "text": [
      "\n",
      "1 Failed download:\n",
      "- ^MERV: No data found for this date range, symbol may be delisted\n",
      "\n",
      "1 Failed download:\n",
      "- ^BSESN: No data found for this date range, symbol may be delisted\n",
      "\n",
      "1 Failed download:\n",
      "- IMOEX.ME: No data found for this date range, symbol may be delisted\n"
     ]
    }
   ],
   "source": [
    "world_ohlcv = pd.DataFrame()\n",
    "\n",
    "for i in df_yf_world_indices.Ticker_YF:\n",
    "\n",
    "    try:\n",
    "        ohlcv_indice = pd.DataFrame(yf.download(i, start=data_inicio, end=data_final, progress=False, interval=\"1d\"))\n",
    "        ohlcv_indice = ohlcv_indice.resample(\"W\").agg({\"Open\": \"first\", \"High\": \"max\", \"Low\": \"min\", \"Close\": \"last\"})\n",
    "        ohlcv_indice[\"Ticker_YF\"] = i\n",
    "        ohlcv_indice[\"Resultado_%\"] = (ohlcv_indice.Close/ohlcv_indice.Open - 1) * 100\n",
    "        world_ohlcv = pd.concat([world_ohlcv, ohlcv_indice], axis=0)\n",
    "\n",
    "    except:\n",
    "        pass"
   ]
  },
  {
   "cell_type": "code",
   "execution_count": 34,
   "metadata": {},
   "outputs": [
    {
     "data": {
      "text/html": [
       "<div>\n",
       "<style scoped>\n",
       "    .dataframe tbody tr th:only-of-type {\n",
       "        vertical-align: middle;\n",
       "    }\n",
       "\n",
       "    .dataframe tbody tr th {\n",
       "        vertical-align: top;\n",
       "    }\n",
       "\n",
       "    .dataframe thead th {\n",
       "        text-align: right;\n",
       "    }\n",
       "</style>\n",
       "<table border=\"1\" class=\"dataframe\">\n",
       "  <thead>\n",
       "    <tr style=\"text-align: right;\">\n",
       "      <th></th>\n",
       "      <th>Open</th>\n",
       "      <th>High</th>\n",
       "      <th>Low</th>\n",
       "      <th>Close</th>\n",
       "      <th>Ticker_YF</th>\n",
       "      <th>Resultado_%</th>\n",
       "    </tr>\n",
       "    <tr>\n",
       "      <th>Date</th>\n",
       "      <th></th>\n",
       "      <th></th>\n",
       "      <th></th>\n",
       "      <th></th>\n",
       "      <th></th>\n",
       "      <th></th>\n",
       "    </tr>\n",
       "  </thead>\n",
       "  <tbody>\n",
       "    <tr>\n",
       "      <th>2024-01-28 00:00:00-03:00</th>\n",
       "      <td>127636.320312</td>\n",
       "      <td>127842.593750</td>\n",
       "      <td>125875.648438</td>\n",
       "      <td>126601.546875</td>\n",
       "      <td>^BVSP</td>\n",
       "      <td>-0.810720</td>\n",
       "    </tr>\n",
       "    <tr>\n",
       "      <th>2024-01-28 00:00:00-05:00</th>\n",
       "      <td>4853.419922</td>\n",
       "      <td>4868.410156</td>\n",
       "      <td>4844.049805</td>\n",
       "      <td>4850.430176</td>\n",
       "      <td>^GSPC</td>\n",
       "      <td>-0.061601</td>\n",
       "    </tr>\n",
       "    <tr>\n",
       "      <th>2024-01-28 00:00:00-05:00</th>\n",
       "      <td>37919.550781</td>\n",
       "      <td>38109.199219</td>\n",
       "      <td>37911.609375</td>\n",
       "      <td>38001.808594</td>\n",
       "      <td>^DJI</td>\n",
       "      <td>0.216927</td>\n",
       "    </tr>\n",
       "    <tr>\n",
       "      <th>2024-01-28 00:00:00-05:00</th>\n",
       "      <td>15393.000000</td>\n",
       "      <td>15438.847656</td>\n",
       "      <td>15333.627930</td>\n",
       "      <td>15360.285156</td>\n",
       "      <td>^IXIC</td>\n",
       "      <td>-0.212531</td>\n",
       "    </tr>\n",
       "    <tr>\n",
       "      <th>2024-01-28 00:00:00-05:00</th>\n",
       "      <td>20930.929688</td>\n",
       "      <td>20975.279297</td>\n",
       "      <td>20847.140625</td>\n",
       "      <td>20924.300781</td>\n",
       "      <td>^GSPTSE</td>\n",
       "      <td>-0.031670</td>\n",
       "    </tr>\n",
       "    <tr>\n",
       "      <th>2024-01-28 00:00:00-06:00</th>\n",
       "      <td>55418.101562</td>\n",
       "      <td>55434.148438</td>\n",
       "      <td>54629.191406</td>\n",
       "      <td>54723.058594</td>\n",
       "      <td>^MXX</td>\n",
       "      <td>-1.254180</td>\n",
       "    </tr>\n",
       "    <tr>\n",
       "      <th>2024-01-28 00:00:00+08:00</th>\n",
       "      <td>2826.503418</td>\n",
       "      <td>2828.320312</td>\n",
       "      <td>2735.372070</td>\n",
       "      <td>2756.339844</td>\n",
       "      <td>000001.SS</td>\n",
       "      <td>-2.482345</td>\n",
       "    </tr>\n",
       "    <tr>\n",
       "      <th>2024-01-28 00:00:00+08:00</th>\n",
       "      <td>8769.392578</td>\n",
       "      <td>8769.392578</td>\n",
       "      <td>8430.614258</td>\n",
       "      <td>8479.549805</td>\n",
       "      <td>399001.SZ</td>\n",
       "      <td>-3.305164</td>\n",
       "    </tr>\n",
       "    <tr>\n",
       "      <th>2024-01-28 00:00:00+09:00</th>\n",
       "      <td>36605.300781</td>\n",
       "      <td>36877.410156</td>\n",
       "      <td>36605.300781</td>\n",
       "      <td>36792.800781</td>\n",
       "      <td>^N225</td>\n",
       "      <td>0.512221</td>\n",
       "    </tr>\n",
       "    <tr>\n",
       "      <th>2024-01-28 00:00:00+08:00</th>\n",
       "      <td>15349.049805</td>\n",
       "      <td>15362.910156</td>\n",
       "      <td>14794.160156</td>\n",
       "      <td>14961.179688</td>\n",
       "      <td>^HSI</td>\n",
       "      <td>-2.526998</td>\n",
       "    </tr>\n",
       "    <tr>\n",
       "      <th>2024-01-28 00:00:00+01:00</th>\n",
       "      <td>1380.380005</td>\n",
       "      <td>1392.670044</td>\n",
       "      <td>1380.380005</td>\n",
       "      <td>1388.040039</td>\n",
       "      <td>^N100</td>\n",
       "      <td>0.554922</td>\n",
       "    </tr>\n",
       "    <tr>\n",
       "      <th>2024-01-28 00:00:00+01:00</th>\n",
       "      <td>16684.099609</td>\n",
       "      <td>16705.490234</td>\n",
       "      <td>16607.720703</td>\n",
       "      <td>16683.359375</td>\n",
       "      <td>^GDAXI</td>\n",
       "      <td>-0.004437</td>\n",
       "    </tr>\n",
       "    <tr>\n",
       "      <th>2024-01-28 00:00:00+00:00</th>\n",
       "      <td>7461.930176</td>\n",
       "      <td>7503.609863</td>\n",
       "      <td>7455.970215</td>\n",
       "      <td>7487.709961</td>\n",
       "      <td>^FTSE</td>\n",
       "      <td>0.345484</td>\n",
       "    </tr>\n",
       "    <tr>\n",
       "      <th>2024-01-28 00:00:00+01:00</th>\n",
       "      <td>7436.609863</td>\n",
       "      <td>7453.209961</td>\n",
       "      <td>7390.680176</td>\n",
       "      <td>7413.250000</td>\n",
       "      <td>^FCHI</td>\n",
       "      <td>-0.314120</td>\n",
       "    </tr>\n",
       "  </tbody>\n",
       "</table>\n",
       "</div>"
      ],
      "text/plain": [
       "                                    Open           High            Low  \\\n",
       "Date                                                                     \n",
       "2024-01-28 00:00:00-03:00  127636.320312  127842.593750  125875.648438   \n",
       "2024-01-28 00:00:00-05:00    4853.419922    4868.410156    4844.049805   \n",
       "2024-01-28 00:00:00-05:00   37919.550781   38109.199219   37911.609375   \n",
       "2024-01-28 00:00:00-05:00   15393.000000   15438.847656   15333.627930   \n",
       "2024-01-28 00:00:00-05:00   20930.929688   20975.279297   20847.140625   \n",
       "2024-01-28 00:00:00-06:00   55418.101562   55434.148438   54629.191406   \n",
       "2024-01-28 00:00:00+08:00    2826.503418    2828.320312    2735.372070   \n",
       "2024-01-28 00:00:00+08:00    8769.392578    8769.392578    8430.614258   \n",
       "2024-01-28 00:00:00+09:00   36605.300781   36877.410156   36605.300781   \n",
       "2024-01-28 00:00:00+08:00   15349.049805   15362.910156   14794.160156   \n",
       "2024-01-28 00:00:00+01:00    1380.380005    1392.670044    1380.380005   \n",
       "2024-01-28 00:00:00+01:00   16684.099609   16705.490234   16607.720703   \n",
       "2024-01-28 00:00:00+00:00    7461.930176    7503.609863    7455.970215   \n",
       "2024-01-28 00:00:00+01:00    7436.609863    7453.209961    7390.680176   \n",
       "\n",
       "                                   Close  Ticker_YF  Resultado_%  \n",
       "Date                                                              \n",
       "2024-01-28 00:00:00-03:00  126601.546875      ^BVSP    -0.810720  \n",
       "2024-01-28 00:00:00-05:00    4850.430176      ^GSPC    -0.061601  \n",
       "2024-01-28 00:00:00-05:00   38001.808594       ^DJI     0.216927  \n",
       "2024-01-28 00:00:00-05:00   15360.285156      ^IXIC    -0.212531  \n",
       "2024-01-28 00:00:00-05:00   20924.300781    ^GSPTSE    -0.031670  \n",
       "2024-01-28 00:00:00-06:00   54723.058594       ^MXX    -1.254180  \n",
       "2024-01-28 00:00:00+08:00    2756.339844  000001.SS    -2.482345  \n",
       "2024-01-28 00:00:00+08:00    8479.549805  399001.SZ    -3.305164  \n",
       "2024-01-28 00:00:00+09:00   36792.800781      ^N225     0.512221  \n",
       "2024-01-28 00:00:00+08:00   14961.179688       ^HSI    -2.526998  \n",
       "2024-01-28 00:00:00+01:00    1388.040039      ^N100     0.554922  \n",
       "2024-01-28 00:00:00+01:00   16683.359375     ^GDAXI    -0.004437  \n",
       "2024-01-28 00:00:00+00:00    7487.709961      ^FTSE     0.345484  \n",
       "2024-01-28 00:00:00+01:00    7413.250000      ^FCHI    -0.314120  "
      ]
     },
     "execution_count": 34,
     "metadata": {},
     "output_type": "execute_result"
    }
   ],
   "source": [
    "world_ohlcv"
   ]
  },
  {
   "cell_type": "code",
   "execution_count": 35,
   "metadata": {},
   "outputs": [
    {
     "data": {
      "text/html": [
       "<div>\n",
       "<style scoped>\n",
       "    .dataframe tbody tr th:only-of-type {\n",
       "        vertical-align: middle;\n",
       "    }\n",
       "\n",
       "    .dataframe tbody tr th {\n",
       "        vertical-align: top;\n",
       "    }\n",
       "\n",
       "    .dataframe thead th {\n",
       "        text-align: right;\n",
       "    }\n",
       "</style>\n",
       "<table border=\"1\" class=\"dataframe\">\n",
       "  <thead>\n",
       "    <tr style=\"text-align: right;\">\n",
       "      <th></th>\n",
       "      <th>Índice</th>\n",
       "      <th>Ticker_YF</th>\n",
       "      <th>Country</th>\n",
       "      <th>Open</th>\n",
       "      <th>High</th>\n",
       "      <th>Low</th>\n",
       "      <th>Close</th>\n",
       "      <th>Resultado_%</th>\n",
       "    </tr>\n",
       "  </thead>\n",
       "  <tbody>\n",
       "    <tr>\n",
       "      <th>0</th>\n",
       "      <td>Bovespa (BVSP)</td>\n",
       "      <td>^BVSP</td>\n",
       "      <td>Brasil</td>\n",
       "      <td>127636.320312</td>\n",
       "      <td>127842.593750</td>\n",
       "      <td>125875.648438</td>\n",
       "      <td>126601.546875</td>\n",
       "      <td>-0.810720</td>\n",
       "    </tr>\n",
       "    <tr>\n",
       "      <th>1</th>\n",
       "      <td>S&amp;P 500 (GSPC)</td>\n",
       "      <td>^GSPC</td>\n",
       "      <td>EUA</td>\n",
       "      <td>4853.419922</td>\n",
       "      <td>4868.410156</td>\n",
       "      <td>4844.049805</td>\n",
       "      <td>4850.430176</td>\n",
       "      <td>-0.061601</td>\n",
       "    </tr>\n",
       "    <tr>\n",
       "      <th>2</th>\n",
       "      <td>Dow Jones 30 (DJI)</td>\n",
       "      <td>^DJI</td>\n",
       "      <td>EUA</td>\n",
       "      <td>37919.550781</td>\n",
       "      <td>38109.199219</td>\n",
       "      <td>37911.609375</td>\n",
       "      <td>38001.808594</td>\n",
       "      <td>0.216927</td>\n",
       "    </tr>\n",
       "    <tr>\n",
       "      <th>3</th>\n",
       "      <td>NASDAQ Composite (IXIC)</td>\n",
       "      <td>^IXIC</td>\n",
       "      <td>EUA</td>\n",
       "      <td>15393.000000</td>\n",
       "      <td>15438.847656</td>\n",
       "      <td>15333.627930</td>\n",
       "      <td>15360.285156</td>\n",
       "      <td>-0.212531</td>\n",
       "    </tr>\n",
       "    <tr>\n",
       "      <th>4</th>\n",
       "      <td>S&amp;P/TSX Composite (GSPTSE)</td>\n",
       "      <td>^GSPTSE</td>\n",
       "      <td>Canadá</td>\n",
       "      <td>20930.929688</td>\n",
       "      <td>20975.279297</td>\n",
       "      <td>20847.140625</td>\n",
       "      <td>20924.300781</td>\n",
       "      <td>-0.031670</td>\n",
       "    </tr>\n",
       "    <tr>\n",
       "      <th>5</th>\n",
       "      <td>S&amp;P/BMV IPC (MXX)</td>\n",
       "      <td>^MXX</td>\n",
       "      <td>México</td>\n",
       "      <td>55418.101562</td>\n",
       "      <td>55434.148438</td>\n",
       "      <td>54629.191406</td>\n",
       "      <td>54723.058594</td>\n",
       "      <td>-1.254180</td>\n",
       "    </tr>\n",
       "    <tr>\n",
       "      <th>6</th>\n",
       "      <td>S&amp;P Merval (MERV)</td>\n",
       "      <td>^MERV</td>\n",
       "      <td>Argentina</td>\n",
       "      <td>NaN</td>\n",
       "      <td>NaN</td>\n",
       "      <td>NaN</td>\n",
       "      <td>NaN</td>\n",
       "      <td>NaN</td>\n",
       "    </tr>\n",
       "    <tr>\n",
       "      <th>7</th>\n",
       "      <td>Shanghai Composite (SSEC)</td>\n",
       "      <td>000001.SS</td>\n",
       "      <td>China</td>\n",
       "      <td>2826.503418</td>\n",
       "      <td>2828.320312</td>\n",
       "      <td>2735.372070</td>\n",
       "      <td>2756.339844</td>\n",
       "      <td>-2.482345</td>\n",
       "    </tr>\n",
       "    <tr>\n",
       "      <th>8</th>\n",
       "      <td>SZSE Component (SZI)</td>\n",
       "      <td>399001.SZ</td>\n",
       "      <td>China</td>\n",
       "      <td>8769.392578</td>\n",
       "      <td>8769.392578</td>\n",
       "      <td>8430.614258</td>\n",
       "      <td>8479.549805</td>\n",
       "      <td>-3.305164</td>\n",
       "    </tr>\n",
       "    <tr>\n",
       "      <th>9</th>\n",
       "      <td>Nikkei 225 (N225)</td>\n",
       "      <td>^N225</td>\n",
       "      <td>Japão</td>\n",
       "      <td>36605.300781</td>\n",
       "      <td>36877.410156</td>\n",
       "      <td>36605.300781</td>\n",
       "      <td>36792.800781</td>\n",
       "      <td>0.512221</td>\n",
       "    </tr>\n",
       "    <tr>\n",
       "      <th>10</th>\n",
       "      <td>Hang Seng (HK50)</td>\n",
       "      <td>^HSI</td>\n",
       "      <td>Hong Kong</td>\n",
       "      <td>15349.049805</td>\n",
       "      <td>15362.910156</td>\n",
       "      <td>14794.160156</td>\n",
       "      <td>14961.179688</td>\n",
       "      <td>-2.526998</td>\n",
       "    </tr>\n",
       "    <tr>\n",
       "      <th>11</th>\n",
       "      <td>BSE Sensex 30 (BSESN)</td>\n",
       "      <td>^BSESN</td>\n",
       "      <td>Índia</td>\n",
       "      <td>NaN</td>\n",
       "      <td>NaN</td>\n",
       "      <td>NaN</td>\n",
       "      <td>NaN</td>\n",
       "      <td>NaN</td>\n",
       "    </tr>\n",
       "    <tr>\n",
       "      <th>12</th>\n",
       "      <td>EuroNext 100 (N100)</td>\n",
       "      <td>^N100</td>\n",
       "      <td>Zona Euro</td>\n",
       "      <td>1380.380005</td>\n",
       "      <td>1392.670044</td>\n",
       "      <td>1380.380005</td>\n",
       "      <td>1388.040039</td>\n",
       "      <td>0.554922</td>\n",
       "    </tr>\n",
       "    <tr>\n",
       "      <th>13</th>\n",
       "      <td>DAX (DE30)</td>\n",
       "      <td>^GDAXI</td>\n",
       "      <td>Alemanha</td>\n",
       "      <td>16684.099609</td>\n",
       "      <td>16705.490234</td>\n",
       "      <td>16607.720703</td>\n",
       "      <td>16683.359375</td>\n",
       "      <td>-0.004437</td>\n",
       "    </tr>\n",
       "    <tr>\n",
       "      <th>14</th>\n",
       "      <td>FTSE 100 (UK100)</td>\n",
       "      <td>^FTSE</td>\n",
       "      <td>UK</td>\n",
       "      <td>7461.930176</td>\n",
       "      <td>7503.609863</td>\n",
       "      <td>7455.970215</td>\n",
       "      <td>7487.709961</td>\n",
       "      <td>0.345484</td>\n",
       "    </tr>\n",
       "    <tr>\n",
       "      <th>15</th>\n",
       "      <td>CAC 40 (FCHI)</td>\n",
       "      <td>^FCHI</td>\n",
       "      <td>França</td>\n",
       "      <td>7436.609863</td>\n",
       "      <td>7453.209961</td>\n",
       "      <td>7390.680176</td>\n",
       "      <td>7413.250000</td>\n",
       "      <td>-0.314120</td>\n",
       "    </tr>\n",
       "    <tr>\n",
       "      <th>16</th>\n",
       "      <td>MOEX Russia (IMOEX)</td>\n",
       "      <td>IMOEX.ME</td>\n",
       "      <td>Rússia</td>\n",
       "      <td>NaN</td>\n",
       "      <td>NaN</td>\n",
       "      <td>NaN</td>\n",
       "      <td>NaN</td>\n",
       "      <td>NaN</td>\n",
       "    </tr>\n",
       "  </tbody>\n",
       "</table>\n",
       "</div>"
      ],
      "text/plain": [
       "                        Índice  Ticker_YF    Country           Open  \\\n",
       "0               Bovespa (BVSP)      ^BVSP     Brasil  127636.320312   \n",
       "1               S&P 500 (GSPC)      ^GSPC        EUA    4853.419922   \n",
       "2           Dow Jones 30 (DJI)       ^DJI        EUA   37919.550781   \n",
       "3      NASDAQ Composite (IXIC)      ^IXIC        EUA   15393.000000   \n",
       "4   S&P/TSX Composite (GSPTSE)    ^GSPTSE     Canadá   20930.929688   \n",
       "5            S&P/BMV IPC (MXX)       ^MXX     México   55418.101562   \n",
       "6            S&P Merval (MERV)      ^MERV  Argentina            NaN   \n",
       "7    Shanghai Composite (SSEC)  000001.SS      China    2826.503418   \n",
       "8         SZSE Component (SZI)  399001.SZ      China    8769.392578   \n",
       "9            Nikkei 225 (N225)      ^N225      Japão   36605.300781   \n",
       "10            Hang Seng (HK50)       ^HSI  Hong Kong   15349.049805   \n",
       "11       BSE Sensex 30 (BSESN)     ^BSESN      Índia            NaN   \n",
       "12         EuroNext 100 (N100)      ^N100  Zona Euro    1380.380005   \n",
       "13                  DAX (DE30)     ^GDAXI   Alemanha   16684.099609   \n",
       "14            FTSE 100 (UK100)      ^FTSE         UK    7461.930176   \n",
       "15               CAC 40 (FCHI)      ^FCHI     França    7436.609863   \n",
       "16         MOEX Russia (IMOEX)   IMOEX.ME     Rússia            NaN   \n",
       "\n",
       "             High            Low          Close  Resultado_%  \n",
       "0   127842.593750  125875.648438  126601.546875    -0.810720  \n",
       "1     4868.410156    4844.049805    4850.430176    -0.061601  \n",
       "2    38109.199219   37911.609375   38001.808594     0.216927  \n",
       "3    15438.847656   15333.627930   15360.285156    -0.212531  \n",
       "4    20975.279297   20847.140625   20924.300781    -0.031670  \n",
       "5    55434.148438   54629.191406   54723.058594    -1.254180  \n",
       "6             NaN            NaN            NaN          NaN  \n",
       "7     2828.320312    2735.372070    2756.339844    -2.482345  \n",
       "8     8769.392578    8430.614258    8479.549805    -3.305164  \n",
       "9    36877.410156   36605.300781   36792.800781     0.512221  \n",
       "10   15362.910156   14794.160156   14961.179688    -2.526998  \n",
       "11            NaN            NaN            NaN          NaN  \n",
       "12    1392.670044    1380.380005    1388.040039     0.554922  \n",
       "13   16705.490234   16607.720703   16683.359375    -0.004437  \n",
       "14    7503.609863    7455.970215    7487.709961     0.345484  \n",
       "15    7453.209961    7390.680176    7413.250000    -0.314120  \n",
       "16            NaN            NaN            NaN          NaN  "
      ]
     },
     "execution_count": 35,
     "metadata": {},
     "output_type": "execute_result"
    }
   ],
   "source": [
    "world_indices_result = pd.merge(df_yf_world_indices, world_ohlcv, on=\"Ticker_YF\", how=\"outer\")\n",
    "world_indices_result"
   ]
  },
  {
   "cell_type": "markdown",
   "metadata": {},
   "source": [
    "Figura dos Resultados"
   ]
  },
  {
   "cell_type": "code",
   "execution_count": 36,
   "metadata": {},
   "outputs": [
    {
     "data": {
      "text/html": [
       "<div>\n",
       "<style scoped>\n",
       "    .dataframe tbody tr th:only-of-type {\n",
       "        vertical-align: middle;\n",
       "    }\n",
       "\n",
       "    .dataframe tbody tr th {\n",
       "        vertical-align: top;\n",
       "    }\n",
       "\n",
       "    .dataframe thead th {\n",
       "        text-align: right;\n",
       "    }\n",
       "</style>\n",
       "<table border=\"1\" class=\"dataframe\">\n",
       "  <thead>\n",
       "    <tr style=\"text-align: right;\">\n",
       "      <th></th>\n",
       "      <th>Índice</th>\n",
       "      <th>Ticker_YF</th>\n",
       "      <th>Country</th>\n",
       "      <th>Open</th>\n",
       "      <th>High</th>\n",
       "      <th>Low</th>\n",
       "      <th>Close</th>\n",
       "      <th>Resultado_%</th>\n",
       "      <th>Color</th>\n",
       "    </tr>\n",
       "  </thead>\n",
       "  <tbody>\n",
       "    <tr>\n",
       "      <th>12</th>\n",
       "      <td>EuroNext 100 (N100)</td>\n",
       "      <td>^N100</td>\n",
       "      <td>Zona Euro</td>\n",
       "      <td>1380.380005</td>\n",
       "      <td>1392.670044</td>\n",
       "      <td>1380.380005</td>\n",
       "      <td>1388.040039</td>\n",
       "      <td>0.554922</td>\n",
       "      <td>green</td>\n",
       "    </tr>\n",
       "    <tr>\n",
       "      <th>9</th>\n",
       "      <td>Nikkei 225 (N225)</td>\n",
       "      <td>^N225</td>\n",
       "      <td>Japão</td>\n",
       "      <td>36605.300781</td>\n",
       "      <td>36877.410156</td>\n",
       "      <td>36605.300781</td>\n",
       "      <td>36792.800781</td>\n",
       "      <td>0.512221</td>\n",
       "      <td>green</td>\n",
       "    </tr>\n",
       "    <tr>\n",
       "      <th>14</th>\n",
       "      <td>FTSE 100 (UK100)</td>\n",
       "      <td>^FTSE</td>\n",
       "      <td>UK</td>\n",
       "      <td>7461.930176</td>\n",
       "      <td>7503.609863</td>\n",
       "      <td>7455.970215</td>\n",
       "      <td>7487.709961</td>\n",
       "      <td>0.345484</td>\n",
       "      <td>green</td>\n",
       "    </tr>\n",
       "    <tr>\n",
       "      <th>2</th>\n",
       "      <td>Dow Jones 30 (DJI)</td>\n",
       "      <td>^DJI</td>\n",
       "      <td>EUA</td>\n",
       "      <td>37919.550781</td>\n",
       "      <td>38109.199219</td>\n",
       "      <td>37911.609375</td>\n",
       "      <td>38001.808594</td>\n",
       "      <td>0.216927</td>\n",
       "      <td>green</td>\n",
       "    </tr>\n",
       "    <tr>\n",
       "      <th>13</th>\n",
       "      <td>DAX (DE30)</td>\n",
       "      <td>^GDAXI</td>\n",
       "      <td>Alemanha</td>\n",
       "      <td>16684.099609</td>\n",
       "      <td>16705.490234</td>\n",
       "      <td>16607.720703</td>\n",
       "      <td>16683.359375</td>\n",
       "      <td>-0.004437</td>\n",
       "      <td>red</td>\n",
       "    </tr>\n",
       "    <tr>\n",
       "      <th>4</th>\n",
       "      <td>S&amp;P/TSX Composite (GSPTSE)</td>\n",
       "      <td>^GSPTSE</td>\n",
       "      <td>Canadá</td>\n",
       "      <td>20930.929688</td>\n",
       "      <td>20975.279297</td>\n",
       "      <td>20847.140625</td>\n",
       "      <td>20924.300781</td>\n",
       "      <td>-0.031670</td>\n",
       "      <td>red</td>\n",
       "    </tr>\n",
       "    <tr>\n",
       "      <th>1</th>\n",
       "      <td>S&amp;P 500 (GSPC)</td>\n",
       "      <td>^GSPC</td>\n",
       "      <td>EUA</td>\n",
       "      <td>4853.419922</td>\n",
       "      <td>4868.410156</td>\n",
       "      <td>4844.049805</td>\n",
       "      <td>4850.430176</td>\n",
       "      <td>-0.061601</td>\n",
       "      <td>red</td>\n",
       "    </tr>\n",
       "    <tr>\n",
       "      <th>3</th>\n",
       "      <td>NASDAQ Composite (IXIC)</td>\n",
       "      <td>^IXIC</td>\n",
       "      <td>EUA</td>\n",
       "      <td>15393.000000</td>\n",
       "      <td>15438.847656</td>\n",
       "      <td>15333.627930</td>\n",
       "      <td>15360.285156</td>\n",
       "      <td>-0.212531</td>\n",
       "      <td>red</td>\n",
       "    </tr>\n",
       "    <tr>\n",
       "      <th>15</th>\n",
       "      <td>CAC 40 (FCHI)</td>\n",
       "      <td>^FCHI</td>\n",
       "      <td>França</td>\n",
       "      <td>7436.609863</td>\n",
       "      <td>7453.209961</td>\n",
       "      <td>7390.680176</td>\n",
       "      <td>7413.250000</td>\n",
       "      <td>-0.314120</td>\n",
       "      <td>red</td>\n",
       "    </tr>\n",
       "    <tr>\n",
       "      <th>0</th>\n",
       "      <td>Bovespa (BVSP)</td>\n",
       "      <td>^BVSP</td>\n",
       "      <td>Brasil</td>\n",
       "      <td>127636.320312</td>\n",
       "      <td>127842.593750</td>\n",
       "      <td>125875.648438</td>\n",
       "      <td>126601.546875</td>\n",
       "      <td>-0.810720</td>\n",
       "      <td>red</td>\n",
       "    </tr>\n",
       "    <tr>\n",
       "      <th>5</th>\n",
       "      <td>S&amp;P/BMV IPC (MXX)</td>\n",
       "      <td>^MXX</td>\n",
       "      <td>México</td>\n",
       "      <td>55418.101562</td>\n",
       "      <td>55434.148438</td>\n",
       "      <td>54629.191406</td>\n",
       "      <td>54723.058594</td>\n",
       "      <td>-1.254180</td>\n",
       "      <td>red</td>\n",
       "    </tr>\n",
       "    <tr>\n",
       "      <th>7</th>\n",
       "      <td>Shanghai Composite (SSEC)</td>\n",
       "      <td>000001.SS</td>\n",
       "      <td>China</td>\n",
       "      <td>2826.503418</td>\n",
       "      <td>2828.320312</td>\n",
       "      <td>2735.372070</td>\n",
       "      <td>2756.339844</td>\n",
       "      <td>-2.482345</td>\n",
       "      <td>red</td>\n",
       "    </tr>\n",
       "    <tr>\n",
       "      <th>10</th>\n",
       "      <td>Hang Seng (HK50)</td>\n",
       "      <td>^HSI</td>\n",
       "      <td>Hong Kong</td>\n",
       "      <td>15349.049805</td>\n",
       "      <td>15362.910156</td>\n",
       "      <td>14794.160156</td>\n",
       "      <td>14961.179688</td>\n",
       "      <td>-2.526998</td>\n",
       "      <td>red</td>\n",
       "    </tr>\n",
       "    <tr>\n",
       "      <th>8</th>\n",
       "      <td>SZSE Component (SZI)</td>\n",
       "      <td>399001.SZ</td>\n",
       "      <td>China</td>\n",
       "      <td>8769.392578</td>\n",
       "      <td>8769.392578</td>\n",
       "      <td>8430.614258</td>\n",
       "      <td>8479.549805</td>\n",
       "      <td>-3.305164</td>\n",
       "      <td>red</td>\n",
       "    </tr>\n",
       "    <tr>\n",
       "      <th>6</th>\n",
       "      <td>S&amp;P Merval (MERV)</td>\n",
       "      <td>^MERV</td>\n",
       "      <td>Argentina</td>\n",
       "      <td>NaN</td>\n",
       "      <td>NaN</td>\n",
       "      <td>NaN</td>\n",
       "      <td>NaN</td>\n",
       "      <td>NaN</td>\n",
       "      <td>green</td>\n",
       "    </tr>\n",
       "    <tr>\n",
       "      <th>11</th>\n",
       "      <td>BSE Sensex 30 (BSESN)</td>\n",
       "      <td>^BSESN</td>\n",
       "      <td>Índia</td>\n",
       "      <td>NaN</td>\n",
       "      <td>NaN</td>\n",
       "      <td>NaN</td>\n",
       "      <td>NaN</td>\n",
       "      <td>NaN</td>\n",
       "      <td>green</td>\n",
       "    </tr>\n",
       "    <tr>\n",
       "      <th>16</th>\n",
       "      <td>MOEX Russia (IMOEX)</td>\n",
       "      <td>IMOEX.ME</td>\n",
       "      <td>Rússia</td>\n",
       "      <td>NaN</td>\n",
       "      <td>NaN</td>\n",
       "      <td>NaN</td>\n",
       "      <td>NaN</td>\n",
       "      <td>NaN</td>\n",
       "      <td>green</td>\n",
       "    </tr>\n",
       "  </tbody>\n",
       "</table>\n",
       "</div>"
      ],
      "text/plain": [
       "                        Índice  Ticker_YF    Country           Open  \\\n",
       "12         EuroNext 100 (N100)      ^N100  Zona Euro    1380.380005   \n",
       "9            Nikkei 225 (N225)      ^N225      Japão   36605.300781   \n",
       "14            FTSE 100 (UK100)      ^FTSE         UK    7461.930176   \n",
       "2           Dow Jones 30 (DJI)       ^DJI        EUA   37919.550781   \n",
       "13                  DAX (DE30)     ^GDAXI   Alemanha   16684.099609   \n",
       "4   S&P/TSX Composite (GSPTSE)    ^GSPTSE     Canadá   20930.929688   \n",
       "1               S&P 500 (GSPC)      ^GSPC        EUA    4853.419922   \n",
       "3      NASDAQ Composite (IXIC)      ^IXIC        EUA   15393.000000   \n",
       "15               CAC 40 (FCHI)      ^FCHI     França    7436.609863   \n",
       "0               Bovespa (BVSP)      ^BVSP     Brasil  127636.320312   \n",
       "5            S&P/BMV IPC (MXX)       ^MXX     México   55418.101562   \n",
       "7    Shanghai Composite (SSEC)  000001.SS      China    2826.503418   \n",
       "10            Hang Seng (HK50)       ^HSI  Hong Kong   15349.049805   \n",
       "8         SZSE Component (SZI)  399001.SZ      China    8769.392578   \n",
       "6            S&P Merval (MERV)      ^MERV  Argentina            NaN   \n",
       "11       BSE Sensex 30 (BSESN)     ^BSESN      Índia            NaN   \n",
       "16         MOEX Russia (IMOEX)   IMOEX.ME     Rússia            NaN   \n",
       "\n",
       "             High            Low          Close  Resultado_%  Color  \n",
       "12    1392.670044    1380.380005    1388.040039     0.554922  green  \n",
       "9    36877.410156   36605.300781   36792.800781     0.512221  green  \n",
       "14    7503.609863    7455.970215    7487.709961     0.345484  green  \n",
       "2    38109.199219   37911.609375   38001.808594     0.216927  green  \n",
       "13   16705.490234   16607.720703   16683.359375    -0.004437    red  \n",
       "4    20975.279297   20847.140625   20924.300781    -0.031670    red  \n",
       "1     4868.410156    4844.049805    4850.430176    -0.061601    red  \n",
       "3    15438.847656   15333.627930   15360.285156    -0.212531    red  \n",
       "15    7453.209961    7390.680176    7413.250000    -0.314120    red  \n",
       "0   127842.593750  125875.648438  126601.546875    -0.810720    red  \n",
       "5    55434.148438   54629.191406   54723.058594    -1.254180    red  \n",
       "7     2828.320312    2735.372070    2756.339844    -2.482345    red  \n",
       "10   15362.910156   14794.160156   14961.179688    -2.526998    red  \n",
       "8     8769.392578    8430.614258    8479.549805    -3.305164    red  \n",
       "6             NaN            NaN            NaN          NaN  green  \n",
       "11            NaN            NaN            NaN          NaN  green  \n",
       "16            NaN            NaN            NaN          NaN  green  "
      ]
     },
     "execution_count": 36,
     "metadata": {},
     "output_type": "execute_result"
    }
   ],
   "source": [
    "df_fig = world_indices_result.sort_values(by=\"Resultado_%\", ascending=False)\n",
    "df_fig[\"Color\"] = np.where(df_fig[\"Resultado_%\"] < 0, \"red\", \"green\")\n",
    "df_fig"
   ]
  },
  {
   "cell_type": "code",
   "execution_count": 40,
   "metadata": {},
   "outputs": [
    {
     "data": {
      "application/vnd.plotly.v1+json": {
       "config": {
        "plotlyServerURL": "https://plot.ly"
       },
       "data": [
        {
         "marker": {
          "color": [
           "green",
           "green",
           "green",
           "green",
           "red",
           "red",
           "red",
           "red",
           "red",
           "red",
           "red",
           "red",
           "red",
           "red",
           "green",
           "green",
           "green"
          ]
         },
         "orientation": "h",
         "type": "bar",
         "x": [
          0.5549221339480104,
          0.5122208969692288,
          0.3454841381379081,
          0.21692718084802554,
          -0.004436765497273232,
          -0.03167038611743278,
          -0.06160081224941827,
          -0.21253065516793068,
          -0.31411978994072554,
          -0.810720204849602,
          -1.2541804016258817,
          -2.4823452811945534,
          -2.5269975804563916,
          -3.305163622854612,
          null,
          null,
          null
         ],
         "y": [
          "EuroNext 100 (N100)",
          "Nikkei 225 (N225)",
          "FTSE 100 (UK100)",
          "Dow Jones 30 (DJI)",
          "DAX (DE30)",
          "S&P/TSX Composite (GSPTSE)",
          "S&P 500 (GSPC)",
          "NASDAQ Composite (IXIC)",
          "CAC 40 (FCHI)",
          "Bovespa (BVSP)",
          "S&P/BMV IPC (MXX)",
          "Shanghai Composite (SSEC)",
          "Hang Seng (HK50)",
          "SZSE Component (SZI)",
          "S&P Merval (MERV)",
          "BSE Sensex 30 (BSESN)",
          "MOEX Russia (IMOEX)"
         ]
        }
       ],
       "layout": {
        "template": {
         "data": {
          "bar": [
           {
            "error_x": {
             "color": "#2a3f5f"
            },
            "error_y": {
             "color": "#2a3f5f"
            },
            "marker": {
             "line": {
              "color": "#E5ECF6",
              "width": 0.5
             },
             "pattern": {
              "fillmode": "overlay",
              "size": 10,
              "solidity": 0.2
             }
            },
            "type": "bar"
           }
          ],
          "barpolar": [
           {
            "marker": {
             "line": {
              "color": "#E5ECF6",
              "width": 0.5
             },
             "pattern": {
              "fillmode": "overlay",
              "size": 10,
              "solidity": 0.2
             }
            },
            "type": "barpolar"
           }
          ],
          "carpet": [
           {
            "aaxis": {
             "endlinecolor": "#2a3f5f",
             "gridcolor": "white",
             "linecolor": "white",
             "minorgridcolor": "white",
             "startlinecolor": "#2a3f5f"
            },
            "baxis": {
             "endlinecolor": "#2a3f5f",
             "gridcolor": "white",
             "linecolor": "white",
             "minorgridcolor": "white",
             "startlinecolor": "#2a3f5f"
            },
            "type": "carpet"
           }
          ],
          "choropleth": [
           {
            "colorbar": {
             "outlinewidth": 0,
             "ticks": ""
            },
            "type": "choropleth"
           }
          ],
          "contour": [
           {
            "colorbar": {
             "outlinewidth": 0,
             "ticks": ""
            },
            "colorscale": [
             [
              0,
              "#0d0887"
             ],
             [
              0.1111111111111111,
              "#46039f"
             ],
             [
              0.2222222222222222,
              "#7201a8"
             ],
             [
              0.3333333333333333,
              "#9c179e"
             ],
             [
              0.4444444444444444,
              "#bd3786"
             ],
             [
              0.5555555555555556,
              "#d8576b"
             ],
             [
              0.6666666666666666,
              "#ed7953"
             ],
             [
              0.7777777777777778,
              "#fb9f3a"
             ],
             [
              0.8888888888888888,
              "#fdca26"
             ],
             [
              1,
              "#f0f921"
             ]
            ],
            "type": "contour"
           }
          ],
          "contourcarpet": [
           {
            "colorbar": {
             "outlinewidth": 0,
             "ticks": ""
            },
            "type": "contourcarpet"
           }
          ],
          "heatmap": [
           {
            "colorbar": {
             "outlinewidth": 0,
             "ticks": ""
            },
            "colorscale": [
             [
              0,
              "#0d0887"
             ],
             [
              0.1111111111111111,
              "#46039f"
             ],
             [
              0.2222222222222222,
              "#7201a8"
             ],
             [
              0.3333333333333333,
              "#9c179e"
             ],
             [
              0.4444444444444444,
              "#bd3786"
             ],
             [
              0.5555555555555556,
              "#d8576b"
             ],
             [
              0.6666666666666666,
              "#ed7953"
             ],
             [
              0.7777777777777778,
              "#fb9f3a"
             ],
             [
              0.8888888888888888,
              "#fdca26"
             ],
             [
              1,
              "#f0f921"
             ]
            ],
            "type": "heatmap"
           }
          ],
          "heatmapgl": [
           {
            "colorbar": {
             "outlinewidth": 0,
             "ticks": ""
            },
            "colorscale": [
             [
              0,
              "#0d0887"
             ],
             [
              0.1111111111111111,
              "#46039f"
             ],
             [
              0.2222222222222222,
              "#7201a8"
             ],
             [
              0.3333333333333333,
              "#9c179e"
             ],
             [
              0.4444444444444444,
              "#bd3786"
             ],
             [
              0.5555555555555556,
              "#d8576b"
             ],
             [
              0.6666666666666666,
              "#ed7953"
             ],
             [
              0.7777777777777778,
              "#fb9f3a"
             ],
             [
              0.8888888888888888,
              "#fdca26"
             ],
             [
              1,
              "#f0f921"
             ]
            ],
            "type": "heatmapgl"
           }
          ],
          "histogram": [
           {
            "marker": {
             "pattern": {
              "fillmode": "overlay",
              "size": 10,
              "solidity": 0.2
             }
            },
            "type": "histogram"
           }
          ],
          "histogram2d": [
           {
            "colorbar": {
             "outlinewidth": 0,
             "ticks": ""
            },
            "colorscale": [
             [
              0,
              "#0d0887"
             ],
             [
              0.1111111111111111,
              "#46039f"
             ],
             [
              0.2222222222222222,
              "#7201a8"
             ],
             [
              0.3333333333333333,
              "#9c179e"
             ],
             [
              0.4444444444444444,
              "#bd3786"
             ],
             [
              0.5555555555555556,
              "#d8576b"
             ],
             [
              0.6666666666666666,
              "#ed7953"
             ],
             [
              0.7777777777777778,
              "#fb9f3a"
             ],
             [
              0.8888888888888888,
              "#fdca26"
             ],
             [
              1,
              "#f0f921"
             ]
            ],
            "type": "histogram2d"
           }
          ],
          "histogram2dcontour": [
           {
            "colorbar": {
             "outlinewidth": 0,
             "ticks": ""
            },
            "colorscale": [
             [
              0,
              "#0d0887"
             ],
             [
              0.1111111111111111,
              "#46039f"
             ],
             [
              0.2222222222222222,
              "#7201a8"
             ],
             [
              0.3333333333333333,
              "#9c179e"
             ],
             [
              0.4444444444444444,
              "#bd3786"
             ],
             [
              0.5555555555555556,
              "#d8576b"
             ],
             [
              0.6666666666666666,
              "#ed7953"
             ],
             [
              0.7777777777777778,
              "#fb9f3a"
             ],
             [
              0.8888888888888888,
              "#fdca26"
             ],
             [
              1,
              "#f0f921"
             ]
            ],
            "type": "histogram2dcontour"
           }
          ],
          "mesh3d": [
           {
            "colorbar": {
             "outlinewidth": 0,
             "ticks": ""
            },
            "type": "mesh3d"
           }
          ],
          "parcoords": [
           {
            "line": {
             "colorbar": {
              "outlinewidth": 0,
              "ticks": ""
             }
            },
            "type": "parcoords"
           }
          ],
          "pie": [
           {
            "automargin": true,
            "type": "pie"
           }
          ],
          "scatter": [
           {
            "fillpattern": {
             "fillmode": "overlay",
             "size": 10,
             "solidity": 0.2
            },
            "type": "scatter"
           }
          ],
          "scatter3d": [
           {
            "line": {
             "colorbar": {
              "outlinewidth": 0,
              "ticks": ""
             }
            },
            "marker": {
             "colorbar": {
              "outlinewidth": 0,
              "ticks": ""
             }
            },
            "type": "scatter3d"
           }
          ],
          "scattercarpet": [
           {
            "marker": {
             "colorbar": {
              "outlinewidth": 0,
              "ticks": ""
             }
            },
            "type": "scattercarpet"
           }
          ],
          "scattergeo": [
           {
            "marker": {
             "colorbar": {
              "outlinewidth": 0,
              "ticks": ""
             }
            },
            "type": "scattergeo"
           }
          ],
          "scattergl": [
           {
            "marker": {
             "colorbar": {
              "outlinewidth": 0,
              "ticks": ""
             }
            },
            "type": "scattergl"
           }
          ],
          "scattermapbox": [
           {
            "marker": {
             "colorbar": {
              "outlinewidth": 0,
              "ticks": ""
             }
            },
            "type": "scattermapbox"
           }
          ],
          "scatterpolar": [
           {
            "marker": {
             "colorbar": {
              "outlinewidth": 0,
              "ticks": ""
             }
            },
            "type": "scatterpolar"
           }
          ],
          "scatterpolargl": [
           {
            "marker": {
             "colorbar": {
              "outlinewidth": 0,
              "ticks": ""
             }
            },
            "type": "scatterpolargl"
           }
          ],
          "scatterternary": [
           {
            "marker": {
             "colorbar": {
              "outlinewidth": 0,
              "ticks": ""
             }
            },
            "type": "scatterternary"
           }
          ],
          "surface": [
           {
            "colorbar": {
             "outlinewidth": 0,
             "ticks": ""
            },
            "colorscale": [
             [
              0,
              "#0d0887"
             ],
             [
              0.1111111111111111,
              "#46039f"
             ],
             [
              0.2222222222222222,
              "#7201a8"
             ],
             [
              0.3333333333333333,
              "#9c179e"
             ],
             [
              0.4444444444444444,
              "#bd3786"
             ],
             [
              0.5555555555555556,
              "#d8576b"
             ],
             [
              0.6666666666666666,
              "#ed7953"
             ],
             [
              0.7777777777777778,
              "#fb9f3a"
             ],
             [
              0.8888888888888888,
              "#fdca26"
             ],
             [
              1,
              "#f0f921"
             ]
            ],
            "type": "surface"
           }
          ],
          "table": [
           {
            "cells": {
             "fill": {
              "color": "#EBF0F8"
             },
             "line": {
              "color": "white"
             }
            },
            "header": {
             "fill": {
              "color": "#C8D4E3"
             },
             "line": {
              "color": "white"
             }
            },
            "type": "table"
           }
          ]
         },
         "layout": {
          "annotationdefaults": {
           "arrowcolor": "#2a3f5f",
           "arrowhead": 0,
           "arrowwidth": 1
          },
          "autotypenumbers": "strict",
          "coloraxis": {
           "colorbar": {
            "outlinewidth": 0,
            "ticks": ""
           }
          },
          "colorscale": {
           "diverging": [
            [
             0,
             "#8e0152"
            ],
            [
             0.1,
             "#c51b7d"
            ],
            [
             0.2,
             "#de77ae"
            ],
            [
             0.3,
             "#f1b6da"
            ],
            [
             0.4,
             "#fde0ef"
            ],
            [
             0.5,
             "#f7f7f7"
            ],
            [
             0.6,
             "#e6f5d0"
            ],
            [
             0.7,
             "#b8e186"
            ],
            [
             0.8,
             "#7fbc41"
            ],
            [
             0.9,
             "#4d9221"
            ],
            [
             1,
             "#276419"
            ]
           ],
           "sequential": [
            [
             0,
             "#0d0887"
            ],
            [
             0.1111111111111111,
             "#46039f"
            ],
            [
             0.2222222222222222,
             "#7201a8"
            ],
            [
             0.3333333333333333,
             "#9c179e"
            ],
            [
             0.4444444444444444,
             "#bd3786"
            ],
            [
             0.5555555555555556,
             "#d8576b"
            ],
            [
             0.6666666666666666,
             "#ed7953"
            ],
            [
             0.7777777777777778,
             "#fb9f3a"
            ],
            [
             0.8888888888888888,
             "#fdca26"
            ],
            [
             1,
             "#f0f921"
            ]
           ],
           "sequentialminus": [
            [
             0,
             "#0d0887"
            ],
            [
             0.1111111111111111,
             "#46039f"
            ],
            [
             0.2222222222222222,
             "#7201a8"
            ],
            [
             0.3333333333333333,
             "#9c179e"
            ],
            [
             0.4444444444444444,
             "#bd3786"
            ],
            [
             0.5555555555555556,
             "#d8576b"
            ],
            [
             0.6666666666666666,
             "#ed7953"
            ],
            [
             0.7777777777777778,
             "#fb9f3a"
            ],
            [
             0.8888888888888888,
             "#fdca26"
            ],
            [
             1,
             "#f0f921"
            ]
           ]
          },
          "colorway": [
           "#636efa",
           "#EF553B",
           "#00cc96",
           "#ab63fa",
           "#FFA15A",
           "#19d3f3",
           "#FF6692",
           "#B6E880",
           "#FF97FF",
           "#FECB52"
          ],
          "font": {
           "color": "#2a3f5f"
          },
          "geo": {
           "bgcolor": "white",
           "lakecolor": "white",
           "landcolor": "#E5ECF6",
           "showlakes": true,
           "showland": true,
           "subunitcolor": "white"
          },
          "hoverlabel": {
           "align": "left"
          },
          "hovermode": "closest",
          "mapbox": {
           "style": "light"
          },
          "paper_bgcolor": "white",
          "plot_bgcolor": "#E5ECF6",
          "polar": {
           "angularaxis": {
            "gridcolor": "white",
            "linecolor": "white",
            "ticks": ""
           },
           "bgcolor": "#E5ECF6",
           "radialaxis": {
            "gridcolor": "white",
            "linecolor": "white",
            "ticks": ""
           }
          },
          "scene": {
           "xaxis": {
            "backgroundcolor": "#E5ECF6",
            "gridcolor": "white",
            "gridwidth": 2,
            "linecolor": "white",
            "showbackground": true,
            "ticks": "",
            "zerolinecolor": "white"
           },
           "yaxis": {
            "backgroundcolor": "#E5ECF6",
            "gridcolor": "white",
            "gridwidth": 2,
            "linecolor": "white",
            "showbackground": true,
            "ticks": "",
            "zerolinecolor": "white"
           },
           "zaxis": {
            "backgroundcolor": "#E5ECF6",
            "gridcolor": "white",
            "gridwidth": 2,
            "linecolor": "white",
            "showbackground": true,
            "ticks": "",
            "zerolinecolor": "white"
           }
          },
          "shapedefaults": {
           "line": {
            "color": "#2a3f5f"
           }
          },
          "ternary": {
           "aaxis": {
            "gridcolor": "white",
            "linecolor": "white",
            "ticks": ""
           },
           "baxis": {
            "gridcolor": "white",
            "linecolor": "white",
            "ticks": ""
           },
           "bgcolor": "#E5ECF6",
           "caxis": {
            "gridcolor": "white",
            "linecolor": "white",
            "ticks": ""
           }
          },
          "title": {
           "x": 0.05
          },
          "xaxis": {
           "automargin": true,
           "gridcolor": "white",
           "linecolor": "white",
           "ticks": "",
           "title": {
            "standoff": 15
           },
           "zerolinecolor": "white",
           "zerolinewidth": 2
          },
          "yaxis": {
           "automargin": true,
           "gridcolor": "white",
           "linecolor": "white",
           "ticks": "",
           "title": {
            "standoff": 15
           },
           "zerolinecolor": "white",
           "zerolinewidth": 2
          }
         }
        }
       }
      },
      "text/html": [
       "<div>                            <div id=\"4b100056-f936-4000-bee1-0eba608993a0\" class=\"plotly-graph-div\" style=\"height:525px; width:100%;\"></div>            <script type=\"text/javascript\">                require([\"plotly\"], function(Plotly) {                    window.PLOTLYENV=window.PLOTLYENV || {};                                    if (document.getElementById(\"4b100056-f936-4000-bee1-0eba608993a0\")) {                    Plotly.newPlot(                        \"4b100056-f936-4000-bee1-0eba608993a0\",                        [{\"marker\":{\"color\":[\"green\",\"green\",\"green\",\"green\",\"red\",\"red\",\"red\",\"red\",\"red\",\"red\",\"red\",\"red\",\"red\",\"red\",\"green\",\"green\",\"green\"]},\"orientation\":\"h\",\"x\":[0.5549221339480104,0.5122208969692288,0.3454841381379081,0.21692718084802554,-0.004436765497273232,-0.03167038611743278,-0.06160081224941827,-0.21253065516793068,-0.31411978994072554,-0.810720204849602,-1.2541804016258817,-2.4823452811945534,-2.5269975804563916,-3.305163622854612,null,null,null],\"y\":[\"EuroNext 100 (N100)\",\"Nikkei 225 (N225)\",\"FTSE 100 (UK100)\",\"Dow Jones 30 (DJI)\",\"DAX (DE30)\",\"S&P/TSX Composite (GSPTSE)\",\"S&P 500 (GSPC)\",\"NASDAQ Composite (IXIC)\",\"CAC 40 (FCHI)\",\"Bovespa (BVSP)\",\"S&P/BMV IPC (MXX)\",\"Shanghai Composite (SSEC)\",\"Hang Seng (HK50)\",\"SZSE Component (SZI)\",\"S&P Merval (MERV)\",\"BSE Sensex 30 (BSESN)\",\"MOEX Russia (IMOEX)\"],\"type\":\"bar\"}],                        {\"template\":{\"data\":{\"histogram2dcontour\":[{\"type\":\"histogram2dcontour\",\"colorbar\":{\"outlinewidth\":0,\"ticks\":\"\"},\"colorscale\":[[0.0,\"#0d0887\"],[0.1111111111111111,\"#46039f\"],[0.2222222222222222,\"#7201a8\"],[0.3333333333333333,\"#9c179e\"],[0.4444444444444444,\"#bd3786\"],[0.5555555555555556,\"#d8576b\"],[0.6666666666666666,\"#ed7953\"],[0.7777777777777778,\"#fb9f3a\"],[0.8888888888888888,\"#fdca26\"],[1.0,\"#f0f921\"]]}],\"choropleth\":[{\"type\":\"choropleth\",\"colorbar\":{\"outlinewidth\":0,\"ticks\":\"\"}}],\"histogram2d\":[{\"type\":\"histogram2d\",\"colorbar\":{\"outlinewidth\":0,\"ticks\":\"\"},\"colorscale\":[[0.0,\"#0d0887\"],[0.1111111111111111,\"#46039f\"],[0.2222222222222222,\"#7201a8\"],[0.3333333333333333,\"#9c179e\"],[0.4444444444444444,\"#bd3786\"],[0.5555555555555556,\"#d8576b\"],[0.6666666666666666,\"#ed7953\"],[0.7777777777777778,\"#fb9f3a\"],[0.8888888888888888,\"#fdca26\"],[1.0,\"#f0f921\"]]}],\"heatmap\":[{\"type\":\"heatmap\",\"colorbar\":{\"outlinewidth\":0,\"ticks\":\"\"},\"colorscale\":[[0.0,\"#0d0887\"],[0.1111111111111111,\"#46039f\"],[0.2222222222222222,\"#7201a8\"],[0.3333333333333333,\"#9c179e\"],[0.4444444444444444,\"#bd3786\"],[0.5555555555555556,\"#d8576b\"],[0.6666666666666666,\"#ed7953\"],[0.7777777777777778,\"#fb9f3a\"],[0.8888888888888888,\"#fdca26\"],[1.0,\"#f0f921\"]]}],\"heatmapgl\":[{\"type\":\"heatmapgl\",\"colorbar\":{\"outlinewidth\":0,\"ticks\":\"\"},\"colorscale\":[[0.0,\"#0d0887\"],[0.1111111111111111,\"#46039f\"],[0.2222222222222222,\"#7201a8\"],[0.3333333333333333,\"#9c179e\"],[0.4444444444444444,\"#bd3786\"],[0.5555555555555556,\"#d8576b\"],[0.6666666666666666,\"#ed7953\"],[0.7777777777777778,\"#fb9f3a\"],[0.8888888888888888,\"#fdca26\"],[1.0,\"#f0f921\"]]}],\"contourcarpet\":[{\"type\":\"contourcarpet\",\"colorbar\":{\"outlinewidth\":0,\"ticks\":\"\"}}],\"contour\":[{\"type\":\"contour\",\"colorbar\":{\"outlinewidth\":0,\"ticks\":\"\"},\"colorscale\":[[0.0,\"#0d0887\"],[0.1111111111111111,\"#46039f\"],[0.2222222222222222,\"#7201a8\"],[0.3333333333333333,\"#9c179e\"],[0.4444444444444444,\"#bd3786\"],[0.5555555555555556,\"#d8576b\"],[0.6666666666666666,\"#ed7953\"],[0.7777777777777778,\"#fb9f3a\"],[0.8888888888888888,\"#fdca26\"],[1.0,\"#f0f921\"]]}],\"surface\":[{\"type\":\"surface\",\"colorbar\":{\"outlinewidth\":0,\"ticks\":\"\"},\"colorscale\":[[0.0,\"#0d0887\"],[0.1111111111111111,\"#46039f\"],[0.2222222222222222,\"#7201a8\"],[0.3333333333333333,\"#9c179e\"],[0.4444444444444444,\"#bd3786\"],[0.5555555555555556,\"#d8576b\"],[0.6666666666666666,\"#ed7953\"],[0.7777777777777778,\"#fb9f3a\"],[0.8888888888888888,\"#fdca26\"],[1.0,\"#f0f921\"]]}],\"mesh3d\":[{\"type\":\"mesh3d\",\"colorbar\":{\"outlinewidth\":0,\"ticks\":\"\"}}],\"scatter\":[{\"fillpattern\":{\"fillmode\":\"overlay\",\"size\":10,\"solidity\":0.2},\"type\":\"scatter\"}],\"parcoords\":[{\"type\":\"parcoords\",\"line\":{\"colorbar\":{\"outlinewidth\":0,\"ticks\":\"\"}}}],\"scatterpolargl\":[{\"type\":\"scatterpolargl\",\"marker\":{\"colorbar\":{\"outlinewidth\":0,\"ticks\":\"\"}}}],\"bar\":[{\"error_x\":{\"color\":\"#2a3f5f\"},\"error_y\":{\"color\":\"#2a3f5f\"},\"marker\":{\"line\":{\"color\":\"#E5ECF6\",\"width\":0.5},\"pattern\":{\"fillmode\":\"overlay\",\"size\":10,\"solidity\":0.2}},\"type\":\"bar\"}],\"scattergeo\":[{\"type\":\"scattergeo\",\"marker\":{\"colorbar\":{\"outlinewidth\":0,\"ticks\":\"\"}}}],\"scatterpolar\":[{\"type\":\"scatterpolar\",\"marker\":{\"colorbar\":{\"outlinewidth\":0,\"ticks\":\"\"}}}],\"histogram\":[{\"marker\":{\"pattern\":{\"fillmode\":\"overlay\",\"size\":10,\"solidity\":0.2}},\"type\":\"histogram\"}],\"scattergl\":[{\"type\":\"scattergl\",\"marker\":{\"colorbar\":{\"outlinewidth\":0,\"ticks\":\"\"}}}],\"scatter3d\":[{\"type\":\"scatter3d\",\"line\":{\"colorbar\":{\"outlinewidth\":0,\"ticks\":\"\"}},\"marker\":{\"colorbar\":{\"outlinewidth\":0,\"ticks\":\"\"}}}],\"scattermapbox\":[{\"type\":\"scattermapbox\",\"marker\":{\"colorbar\":{\"outlinewidth\":0,\"ticks\":\"\"}}}],\"scatterternary\":[{\"type\":\"scatterternary\",\"marker\":{\"colorbar\":{\"outlinewidth\":0,\"ticks\":\"\"}}}],\"scattercarpet\":[{\"type\":\"scattercarpet\",\"marker\":{\"colorbar\":{\"outlinewidth\":0,\"ticks\":\"\"}}}],\"carpet\":[{\"aaxis\":{\"endlinecolor\":\"#2a3f5f\",\"gridcolor\":\"white\",\"linecolor\":\"white\",\"minorgridcolor\":\"white\",\"startlinecolor\":\"#2a3f5f\"},\"baxis\":{\"endlinecolor\":\"#2a3f5f\",\"gridcolor\":\"white\",\"linecolor\":\"white\",\"minorgridcolor\":\"white\",\"startlinecolor\":\"#2a3f5f\"},\"type\":\"carpet\"}],\"table\":[{\"cells\":{\"fill\":{\"color\":\"#EBF0F8\"},\"line\":{\"color\":\"white\"}},\"header\":{\"fill\":{\"color\":\"#C8D4E3\"},\"line\":{\"color\":\"white\"}},\"type\":\"table\"}],\"barpolar\":[{\"marker\":{\"line\":{\"color\":\"#E5ECF6\",\"width\":0.5},\"pattern\":{\"fillmode\":\"overlay\",\"size\":10,\"solidity\":0.2}},\"type\":\"barpolar\"}],\"pie\":[{\"automargin\":true,\"type\":\"pie\"}]},\"layout\":{\"autotypenumbers\":\"strict\",\"colorway\":[\"#636efa\",\"#EF553B\",\"#00cc96\",\"#ab63fa\",\"#FFA15A\",\"#19d3f3\",\"#FF6692\",\"#B6E880\",\"#FF97FF\",\"#FECB52\"],\"font\":{\"color\":\"#2a3f5f\"},\"hovermode\":\"closest\",\"hoverlabel\":{\"align\":\"left\"},\"paper_bgcolor\":\"white\",\"plot_bgcolor\":\"#E5ECF6\",\"polar\":{\"bgcolor\":\"#E5ECF6\",\"angularaxis\":{\"gridcolor\":\"white\",\"linecolor\":\"white\",\"ticks\":\"\"},\"radialaxis\":{\"gridcolor\":\"white\",\"linecolor\":\"white\",\"ticks\":\"\"}},\"ternary\":{\"bgcolor\":\"#E5ECF6\",\"aaxis\":{\"gridcolor\":\"white\",\"linecolor\":\"white\",\"ticks\":\"\"},\"baxis\":{\"gridcolor\":\"white\",\"linecolor\":\"white\",\"ticks\":\"\"},\"caxis\":{\"gridcolor\":\"white\",\"linecolor\":\"white\",\"ticks\":\"\"}},\"coloraxis\":{\"colorbar\":{\"outlinewidth\":0,\"ticks\":\"\"}},\"colorscale\":{\"sequential\":[[0.0,\"#0d0887\"],[0.1111111111111111,\"#46039f\"],[0.2222222222222222,\"#7201a8\"],[0.3333333333333333,\"#9c179e\"],[0.4444444444444444,\"#bd3786\"],[0.5555555555555556,\"#d8576b\"],[0.6666666666666666,\"#ed7953\"],[0.7777777777777778,\"#fb9f3a\"],[0.8888888888888888,\"#fdca26\"],[1.0,\"#f0f921\"]],\"sequentialminus\":[[0.0,\"#0d0887\"],[0.1111111111111111,\"#46039f\"],[0.2222222222222222,\"#7201a8\"],[0.3333333333333333,\"#9c179e\"],[0.4444444444444444,\"#bd3786\"],[0.5555555555555556,\"#d8576b\"],[0.6666666666666666,\"#ed7953\"],[0.7777777777777778,\"#fb9f3a\"],[0.8888888888888888,\"#fdca26\"],[1.0,\"#f0f921\"]],\"diverging\":[[0,\"#8e0152\"],[0.1,\"#c51b7d\"],[0.2,\"#de77ae\"],[0.3,\"#f1b6da\"],[0.4,\"#fde0ef\"],[0.5,\"#f7f7f7\"],[0.6,\"#e6f5d0\"],[0.7,\"#b8e186\"],[0.8,\"#7fbc41\"],[0.9,\"#4d9221\"],[1,\"#276419\"]]},\"xaxis\":{\"gridcolor\":\"white\",\"linecolor\":\"white\",\"ticks\":\"\",\"title\":{\"standoff\":15},\"zerolinecolor\":\"white\",\"automargin\":true,\"zerolinewidth\":2},\"yaxis\":{\"gridcolor\":\"white\",\"linecolor\":\"white\",\"ticks\":\"\",\"title\":{\"standoff\":15},\"zerolinecolor\":\"white\",\"automargin\":true,\"zerolinewidth\":2},\"scene\":{\"xaxis\":{\"backgroundcolor\":\"#E5ECF6\",\"gridcolor\":\"white\",\"linecolor\":\"white\",\"showbackground\":true,\"ticks\":\"\",\"zerolinecolor\":\"white\",\"gridwidth\":2},\"yaxis\":{\"backgroundcolor\":\"#E5ECF6\",\"gridcolor\":\"white\",\"linecolor\":\"white\",\"showbackground\":true,\"ticks\":\"\",\"zerolinecolor\":\"white\",\"gridwidth\":2},\"zaxis\":{\"backgroundcolor\":\"#E5ECF6\",\"gridcolor\":\"white\",\"linecolor\":\"white\",\"showbackground\":true,\"ticks\":\"\",\"zerolinecolor\":\"white\",\"gridwidth\":2}},\"shapedefaults\":{\"line\":{\"color\":\"#2a3f5f\"}},\"annotationdefaults\":{\"arrowcolor\":\"#2a3f5f\",\"arrowhead\":0,\"arrowwidth\":1},\"geo\":{\"bgcolor\":\"white\",\"landcolor\":\"#E5ECF6\",\"subunitcolor\":\"white\",\"showland\":true,\"showlakes\":true,\"lakecolor\":\"white\"},\"title\":{\"x\":0.05},\"mapbox\":{\"style\":\"light\"}}}},                        {\"responsive\": true}                    ).then(function(){\n",
       "                            \n",
       "var gd = document.getElementById('4b100056-f936-4000-bee1-0eba608993a0');\n",
       "var x = new MutationObserver(function (mutations, observer) {{\n",
       "        var display = window.getComputedStyle(gd).display;\n",
       "        if (!display || display === 'none') {{\n",
       "            console.log([gd, 'removed!']);\n",
       "            Plotly.purge(gd);\n",
       "            observer.disconnect();\n",
       "        }}\n",
       "}});\n",
       "\n",
       "// Listen for the removal of the full notebook cells\n",
       "var notebookContainer = gd.closest('#notebook-container');\n",
       "if (notebookContainer) {{\n",
       "    x.observe(notebookContainer, {childList: true});\n",
       "}}\n",
       "\n",
       "// Listen for the clearing of the current output cell\n",
       "var outputEl = gd.closest('.output');\n",
       "if (outputEl) {{\n",
       "    x.observe(outputEl, {childList: true});\n",
       "}}\n",
       "\n",
       "                        })                };                });            </script>        </div>"
      ]
     },
     "metadata": {},
     "output_type": "display_data"
    }
   ],
   "source": [
    "fig_indices_results = go.Figure()\n",
    "\n",
    "fig_indices_results.add_trace(go.Bar(\n",
    "                        x=df_fig['Resultado_%'],\n",
    "                        y=df_fig['Índice'],\n",
    "                        marker_color=df_fig['Color'],\n",
    "                        orientation='h',\n",
    "                        )\n",
    "                             )"
   ]
  },
  {
   "cell_type": "code",
   "execution_count": 41,
   "metadata": {},
   "outputs": [],
   "source": [
    "annotations = []\n",
    "x_pos = []\n",
    "y_pos = []\n",
    "x_neg = []\n",
    "y_neg = []\n",
    "\n",
    "for i in range(len(df_fig)):\n",
    "\n",
    "    if df_fig[\"Resultado_%\"].iloc[i] > 0:\n",
    "        y_pos.append(df_fig[\"Índice\"].iloc[i])\n",
    "        x_pos.append(np.round(df_fig[\"Resultado_%\"].iloc[i], decimals=2))\n",
    "    else:\n",
    "        y_neg.append(df_fig[\"Índice\"].iloc[i])\n",
    "        x_neg.append(np.round(df_fig[\"Resultado_%\"].iloc[i], decimals=2))"
   ]
  },
  {
   "cell_type": "code",
   "execution_count": 42,
   "metadata": {},
   "outputs": [
    {
     "data": {
      "text/plain": [
       "[0.55, 0.51, 0.35, 0.22]"
      ]
     },
     "execution_count": 42,
     "metadata": {},
     "output_type": "execute_result"
    }
   ],
   "source": [
    "x_pos"
   ]
  },
  {
   "cell_type": "code",
   "execution_count": 43,
   "metadata": {},
   "outputs": [
    {
     "data": {
      "text/plain": [
       "[0.55, 0.51, 0.35, 0.22]"
      ]
     },
     "execution_count": 43,
     "metadata": {},
     "output_type": "execute_result"
    }
   ],
   "source": [
    "x_pos"
   ]
  },
  {
   "cell_type": "code",
   "execution_count": 44,
   "metadata": {},
   "outputs": [],
   "source": [
    "result_max = df_fig[\"Resultado_%\"].max()\n",
    "result_min = df_fig[\"Resultado_%\"].min()\n",
    "\n",
    "for yd, xd in zip(y_pos, x_pos):\n",
    "    annotations.append(\n",
    "        dict(\n",
    "            xref=\"x1\",\n",
    "            yref=\"y1\",\n",
    "            y=yd,\n",
    "            x=xd,\n",
    "            text=str(xd) + \"%\",\n",
    "            font=dict(family=\"Arial\", size=17, color=\"black\"),\n",
    "            showarrow=False,\n",
    "        )\n",
    "    )\n",
    "\n",
    "for yd, xd in zip(y_neg, x_neg):\n",
    "    annotations.append(\n",
    "        dict(\n",
    "            xref=\"x1\",\n",
    "            yref=\"y1\",\n",
    "            y=yd,\n",
    "            x=xd,\n",
    "            text=str(xd) + \"%\",\n",
    "            font=dict(family=\"Arial\", size=17, color=\"black\"),\n",
    "            showarrow=False,\n",
    "        )\n",
    "    )"
   ]
  },
  {
   "cell_type": "code",
   "execution_count": 45,
   "metadata": {},
   "outputs": [],
   "source": [
    "fig_indices_results.update_xaxes(\n",
    "        visible=True,\n",
    "        showticklabels=True,\n",
    "        range=[(result_min), (result_max)],\n",
    "    )\n",
    "\n",
    "fig_indices_results = fig_indices_results.update_layout(\n",
    "        title_text=\"<b>Resultado semanal\",\n",
    "        template=\"simple_white\",\n",
    "        margin=dict(l=20, r=20, t=70, b=20),\n",
    "        paper_bgcolor=\"#f7f8fa\",\n",
    "        width=800,\n",
    "        height=(50 * len(df_fig)),\n",
    "        annotations=annotations,\n",
    "        font=dict(family=\"Arial\", size=17, color=\"black\"),\n",
    "    )"
   ]
  },
  {
   "cell_type": "code",
   "execution_count": 46,
   "metadata": {},
   "outputs": [
    {
     "data": {
      "application/vnd.plotly.v1+json": {
       "config": {
        "plotlyServerURL": "https://plot.ly"
       },
       "data": [
        {
         "marker": {
          "color": [
           "green",
           "green",
           "green",
           "green",
           "red",
           "red",
           "red",
           "red",
           "red",
           "red",
           "red",
           "red",
           "red",
           "red",
           "green",
           "green",
           "green"
          ]
         },
         "orientation": "h",
         "type": "bar",
         "x": [
          0.5549221339480104,
          0.5122208969692288,
          0.3454841381379081,
          0.21692718084802554,
          -0.004436765497273232,
          -0.03167038611743278,
          -0.06160081224941827,
          -0.21253065516793068,
          -0.31411978994072554,
          -0.810720204849602,
          -1.2541804016258817,
          -2.4823452811945534,
          -2.5269975804563916,
          -3.305163622854612,
          null,
          null,
          null
         ],
         "y": [
          "EuroNext 100 (N100)",
          "Nikkei 225 (N225)",
          "FTSE 100 (UK100)",
          "Dow Jones 30 (DJI)",
          "DAX (DE30)",
          "S&P/TSX Composite (GSPTSE)",
          "S&P 500 (GSPC)",
          "NASDAQ Composite (IXIC)",
          "CAC 40 (FCHI)",
          "Bovespa (BVSP)",
          "S&P/BMV IPC (MXX)",
          "Shanghai Composite (SSEC)",
          "Hang Seng (HK50)",
          "SZSE Component (SZI)",
          "S&P Merval (MERV)",
          "BSE Sensex 30 (BSESN)",
          "MOEX Russia (IMOEX)"
         ]
        }
       ],
       "layout": {
        "annotations": [
         {
          "font": {
           "color": "black",
           "family": "Arial",
           "size": 17
          },
          "showarrow": false,
          "text": "0.55%",
          "x": 0.55,
          "xref": "x",
          "y": "EuroNext 100 (N100)",
          "yref": "y"
         },
         {
          "font": {
           "color": "black",
           "family": "Arial",
           "size": 17
          },
          "showarrow": false,
          "text": "0.51%",
          "x": 0.51,
          "xref": "x",
          "y": "Nikkei 225 (N225)",
          "yref": "y"
         },
         {
          "font": {
           "color": "black",
           "family": "Arial",
           "size": 17
          },
          "showarrow": false,
          "text": "0.35%",
          "x": 0.35,
          "xref": "x",
          "y": "FTSE 100 (UK100)",
          "yref": "y"
         },
         {
          "font": {
           "color": "black",
           "family": "Arial",
           "size": 17
          },
          "showarrow": false,
          "text": "0.22%",
          "x": 0.22,
          "xref": "x",
          "y": "Dow Jones 30 (DJI)",
          "yref": "y"
         },
         {
          "font": {
           "color": "black",
           "family": "Arial",
           "size": 17
          },
          "showarrow": false,
          "text": "-0.0%",
          "x": 0,
          "xref": "x",
          "y": "DAX (DE30)",
          "yref": "y"
         },
         {
          "font": {
           "color": "black",
           "family": "Arial",
           "size": 17
          },
          "showarrow": false,
          "text": "-0.03%",
          "x": -0.03,
          "xref": "x",
          "y": "S&P/TSX Composite (GSPTSE)",
          "yref": "y"
         },
         {
          "font": {
           "color": "black",
           "family": "Arial",
           "size": 17
          },
          "showarrow": false,
          "text": "-0.06%",
          "x": -0.06,
          "xref": "x",
          "y": "S&P 500 (GSPC)",
          "yref": "y"
         },
         {
          "font": {
           "color": "black",
           "family": "Arial",
           "size": 17
          },
          "showarrow": false,
          "text": "-0.21%",
          "x": -0.21,
          "xref": "x",
          "y": "NASDAQ Composite (IXIC)",
          "yref": "y"
         },
         {
          "font": {
           "color": "black",
           "family": "Arial",
           "size": 17
          },
          "showarrow": false,
          "text": "-0.31%",
          "x": -0.31,
          "xref": "x",
          "y": "CAC 40 (FCHI)",
          "yref": "y"
         },
         {
          "font": {
           "color": "black",
           "family": "Arial",
           "size": 17
          },
          "showarrow": false,
          "text": "-0.81%",
          "x": -0.81,
          "xref": "x",
          "y": "Bovespa (BVSP)",
          "yref": "y"
         },
         {
          "font": {
           "color": "black",
           "family": "Arial",
           "size": 17
          },
          "showarrow": false,
          "text": "-1.25%",
          "x": -1.25,
          "xref": "x",
          "y": "S&P/BMV IPC (MXX)",
          "yref": "y"
         },
         {
          "font": {
           "color": "black",
           "family": "Arial",
           "size": 17
          },
          "showarrow": false,
          "text": "-2.48%",
          "x": -2.48,
          "xref": "x",
          "y": "Shanghai Composite (SSEC)",
          "yref": "y"
         },
         {
          "font": {
           "color": "black",
           "family": "Arial",
           "size": 17
          },
          "showarrow": false,
          "text": "-2.53%",
          "x": -2.53,
          "xref": "x",
          "y": "Hang Seng (HK50)",
          "yref": "y"
         },
         {
          "font": {
           "color": "black",
           "family": "Arial",
           "size": 17
          },
          "showarrow": false,
          "text": "-3.31%",
          "x": -3.31,
          "xref": "x",
          "y": "SZSE Component (SZI)",
          "yref": "y"
         },
         {
          "font": {
           "color": "black",
           "family": "Arial",
           "size": 17
          },
          "showarrow": false,
          "text": "nan%",
          "x": null,
          "xref": "x",
          "y": "S&P Merval (MERV)",
          "yref": "y"
         },
         {
          "font": {
           "color": "black",
           "family": "Arial",
           "size": 17
          },
          "showarrow": false,
          "text": "nan%",
          "x": null,
          "xref": "x",
          "y": "BSE Sensex 30 (BSESN)",
          "yref": "y"
         },
         {
          "font": {
           "color": "black",
           "family": "Arial",
           "size": 17
          },
          "showarrow": false,
          "text": "nan%",
          "x": null,
          "xref": "x",
          "y": "MOEX Russia (IMOEX)",
          "yref": "y"
         }
        ],
        "font": {
         "color": "black",
         "family": "Arial",
         "size": 17
        },
        "height": 850,
        "margin": {
         "b": 20,
         "l": 20,
         "r": 20,
         "t": 70
        },
        "paper_bgcolor": "#f7f8fa",
        "template": {
         "data": {
          "bar": [
           {
            "error_x": {
             "color": "rgb(36,36,36)"
            },
            "error_y": {
             "color": "rgb(36,36,36)"
            },
            "marker": {
             "line": {
              "color": "white",
              "width": 0.5
             },
             "pattern": {
              "fillmode": "overlay",
              "size": 10,
              "solidity": 0.2
             }
            },
            "type": "bar"
           }
          ],
          "barpolar": [
           {
            "marker": {
             "line": {
              "color": "white",
              "width": 0.5
             },
             "pattern": {
              "fillmode": "overlay",
              "size": 10,
              "solidity": 0.2
             }
            },
            "type": "barpolar"
           }
          ],
          "carpet": [
           {
            "aaxis": {
             "endlinecolor": "rgb(36,36,36)",
             "gridcolor": "white",
             "linecolor": "white",
             "minorgridcolor": "white",
             "startlinecolor": "rgb(36,36,36)"
            },
            "baxis": {
             "endlinecolor": "rgb(36,36,36)",
             "gridcolor": "white",
             "linecolor": "white",
             "minorgridcolor": "white",
             "startlinecolor": "rgb(36,36,36)"
            },
            "type": "carpet"
           }
          ],
          "choropleth": [
           {
            "colorbar": {
             "outlinewidth": 1,
             "tickcolor": "rgb(36,36,36)",
             "ticks": "outside"
            },
            "type": "choropleth"
           }
          ],
          "contour": [
           {
            "colorbar": {
             "outlinewidth": 1,
             "tickcolor": "rgb(36,36,36)",
             "ticks": "outside"
            },
            "colorscale": [
             [
              0,
              "#440154"
             ],
             [
              0.1111111111111111,
              "#482878"
             ],
             [
              0.2222222222222222,
              "#3e4989"
             ],
             [
              0.3333333333333333,
              "#31688e"
             ],
             [
              0.4444444444444444,
              "#26828e"
             ],
             [
              0.5555555555555556,
              "#1f9e89"
             ],
             [
              0.6666666666666666,
              "#35b779"
             ],
             [
              0.7777777777777778,
              "#6ece58"
             ],
             [
              0.8888888888888888,
              "#b5de2b"
             ],
             [
              1,
              "#fde725"
             ]
            ],
            "type": "contour"
           }
          ],
          "contourcarpet": [
           {
            "colorbar": {
             "outlinewidth": 1,
             "tickcolor": "rgb(36,36,36)",
             "ticks": "outside"
            },
            "type": "contourcarpet"
           }
          ],
          "heatmap": [
           {
            "colorbar": {
             "outlinewidth": 1,
             "tickcolor": "rgb(36,36,36)",
             "ticks": "outside"
            },
            "colorscale": [
             [
              0,
              "#440154"
             ],
             [
              0.1111111111111111,
              "#482878"
             ],
             [
              0.2222222222222222,
              "#3e4989"
             ],
             [
              0.3333333333333333,
              "#31688e"
             ],
             [
              0.4444444444444444,
              "#26828e"
             ],
             [
              0.5555555555555556,
              "#1f9e89"
             ],
             [
              0.6666666666666666,
              "#35b779"
             ],
             [
              0.7777777777777778,
              "#6ece58"
             ],
             [
              0.8888888888888888,
              "#b5de2b"
             ],
             [
              1,
              "#fde725"
             ]
            ],
            "type": "heatmap"
           }
          ],
          "heatmapgl": [
           {
            "colorbar": {
             "outlinewidth": 1,
             "tickcolor": "rgb(36,36,36)",
             "ticks": "outside"
            },
            "colorscale": [
             [
              0,
              "#440154"
             ],
             [
              0.1111111111111111,
              "#482878"
             ],
             [
              0.2222222222222222,
              "#3e4989"
             ],
             [
              0.3333333333333333,
              "#31688e"
             ],
             [
              0.4444444444444444,
              "#26828e"
             ],
             [
              0.5555555555555556,
              "#1f9e89"
             ],
             [
              0.6666666666666666,
              "#35b779"
             ],
             [
              0.7777777777777778,
              "#6ece58"
             ],
             [
              0.8888888888888888,
              "#b5de2b"
             ],
             [
              1,
              "#fde725"
             ]
            ],
            "type": "heatmapgl"
           }
          ],
          "histogram": [
           {
            "marker": {
             "line": {
              "color": "white",
              "width": 0.6
             }
            },
            "type": "histogram"
           }
          ],
          "histogram2d": [
           {
            "colorbar": {
             "outlinewidth": 1,
             "tickcolor": "rgb(36,36,36)",
             "ticks": "outside"
            },
            "colorscale": [
             [
              0,
              "#440154"
             ],
             [
              0.1111111111111111,
              "#482878"
             ],
             [
              0.2222222222222222,
              "#3e4989"
             ],
             [
              0.3333333333333333,
              "#31688e"
             ],
             [
              0.4444444444444444,
              "#26828e"
             ],
             [
              0.5555555555555556,
              "#1f9e89"
             ],
             [
              0.6666666666666666,
              "#35b779"
             ],
             [
              0.7777777777777778,
              "#6ece58"
             ],
             [
              0.8888888888888888,
              "#b5de2b"
             ],
             [
              1,
              "#fde725"
             ]
            ],
            "type": "histogram2d"
           }
          ],
          "histogram2dcontour": [
           {
            "colorbar": {
             "outlinewidth": 1,
             "tickcolor": "rgb(36,36,36)",
             "ticks": "outside"
            },
            "colorscale": [
             [
              0,
              "#440154"
             ],
             [
              0.1111111111111111,
              "#482878"
             ],
             [
              0.2222222222222222,
              "#3e4989"
             ],
             [
              0.3333333333333333,
              "#31688e"
             ],
             [
              0.4444444444444444,
              "#26828e"
             ],
             [
              0.5555555555555556,
              "#1f9e89"
             ],
             [
              0.6666666666666666,
              "#35b779"
             ],
             [
              0.7777777777777778,
              "#6ece58"
             ],
             [
              0.8888888888888888,
              "#b5de2b"
             ],
             [
              1,
              "#fde725"
             ]
            ],
            "type": "histogram2dcontour"
           }
          ],
          "mesh3d": [
           {
            "colorbar": {
             "outlinewidth": 1,
             "tickcolor": "rgb(36,36,36)",
             "ticks": "outside"
            },
            "type": "mesh3d"
           }
          ],
          "parcoords": [
           {
            "line": {
             "colorbar": {
              "outlinewidth": 1,
              "tickcolor": "rgb(36,36,36)",
              "ticks": "outside"
             }
            },
            "type": "parcoords"
           }
          ],
          "pie": [
           {
            "automargin": true,
            "type": "pie"
           }
          ],
          "scatter": [
           {
            "fillpattern": {
             "fillmode": "overlay",
             "size": 10,
             "solidity": 0.2
            },
            "type": "scatter"
           }
          ],
          "scatter3d": [
           {
            "line": {
             "colorbar": {
              "outlinewidth": 1,
              "tickcolor": "rgb(36,36,36)",
              "ticks": "outside"
             }
            },
            "marker": {
             "colorbar": {
              "outlinewidth": 1,
              "tickcolor": "rgb(36,36,36)",
              "ticks": "outside"
             }
            },
            "type": "scatter3d"
           }
          ],
          "scattercarpet": [
           {
            "marker": {
             "colorbar": {
              "outlinewidth": 1,
              "tickcolor": "rgb(36,36,36)",
              "ticks": "outside"
             }
            },
            "type": "scattercarpet"
           }
          ],
          "scattergeo": [
           {
            "marker": {
             "colorbar": {
              "outlinewidth": 1,
              "tickcolor": "rgb(36,36,36)",
              "ticks": "outside"
             }
            },
            "type": "scattergeo"
           }
          ],
          "scattergl": [
           {
            "marker": {
             "colorbar": {
              "outlinewidth": 1,
              "tickcolor": "rgb(36,36,36)",
              "ticks": "outside"
             }
            },
            "type": "scattergl"
           }
          ],
          "scattermapbox": [
           {
            "marker": {
             "colorbar": {
              "outlinewidth": 1,
              "tickcolor": "rgb(36,36,36)",
              "ticks": "outside"
             }
            },
            "type": "scattermapbox"
           }
          ],
          "scatterpolar": [
           {
            "marker": {
             "colorbar": {
              "outlinewidth": 1,
              "tickcolor": "rgb(36,36,36)",
              "ticks": "outside"
             }
            },
            "type": "scatterpolar"
           }
          ],
          "scatterpolargl": [
           {
            "marker": {
             "colorbar": {
              "outlinewidth": 1,
              "tickcolor": "rgb(36,36,36)",
              "ticks": "outside"
             }
            },
            "type": "scatterpolargl"
           }
          ],
          "scatterternary": [
           {
            "marker": {
             "colorbar": {
              "outlinewidth": 1,
              "tickcolor": "rgb(36,36,36)",
              "ticks": "outside"
             }
            },
            "type": "scatterternary"
           }
          ],
          "surface": [
           {
            "colorbar": {
             "outlinewidth": 1,
             "tickcolor": "rgb(36,36,36)",
             "ticks": "outside"
            },
            "colorscale": [
             [
              0,
              "#440154"
             ],
             [
              0.1111111111111111,
              "#482878"
             ],
             [
              0.2222222222222222,
              "#3e4989"
             ],
             [
              0.3333333333333333,
              "#31688e"
             ],
             [
              0.4444444444444444,
              "#26828e"
             ],
             [
              0.5555555555555556,
              "#1f9e89"
             ],
             [
              0.6666666666666666,
              "#35b779"
             ],
             [
              0.7777777777777778,
              "#6ece58"
             ],
             [
              0.8888888888888888,
              "#b5de2b"
             ],
             [
              1,
              "#fde725"
             ]
            ],
            "type": "surface"
           }
          ],
          "table": [
           {
            "cells": {
             "fill": {
              "color": "rgb(237,237,237)"
             },
             "line": {
              "color": "white"
             }
            },
            "header": {
             "fill": {
              "color": "rgb(217,217,217)"
             },
             "line": {
              "color": "white"
             }
            },
            "type": "table"
           }
          ]
         },
         "layout": {
          "annotationdefaults": {
           "arrowhead": 0,
           "arrowwidth": 1
          },
          "autotypenumbers": "strict",
          "coloraxis": {
           "colorbar": {
            "outlinewidth": 1,
            "tickcolor": "rgb(36,36,36)",
            "ticks": "outside"
           }
          },
          "colorscale": {
           "diverging": [
            [
             0,
             "rgb(103,0,31)"
            ],
            [
             0.1,
             "rgb(178,24,43)"
            ],
            [
             0.2,
             "rgb(214,96,77)"
            ],
            [
             0.3,
             "rgb(244,165,130)"
            ],
            [
             0.4,
             "rgb(253,219,199)"
            ],
            [
             0.5,
             "rgb(247,247,247)"
            ],
            [
             0.6,
             "rgb(209,229,240)"
            ],
            [
             0.7,
             "rgb(146,197,222)"
            ],
            [
             0.8,
             "rgb(67,147,195)"
            ],
            [
             0.9,
             "rgb(33,102,172)"
            ],
            [
             1,
             "rgb(5,48,97)"
            ]
           ],
           "sequential": [
            [
             0,
             "#440154"
            ],
            [
             0.1111111111111111,
             "#482878"
            ],
            [
             0.2222222222222222,
             "#3e4989"
            ],
            [
             0.3333333333333333,
             "#31688e"
            ],
            [
             0.4444444444444444,
             "#26828e"
            ],
            [
             0.5555555555555556,
             "#1f9e89"
            ],
            [
             0.6666666666666666,
             "#35b779"
            ],
            [
             0.7777777777777778,
             "#6ece58"
            ],
            [
             0.8888888888888888,
             "#b5de2b"
            ],
            [
             1,
             "#fde725"
            ]
           ],
           "sequentialminus": [
            [
             0,
             "#440154"
            ],
            [
             0.1111111111111111,
             "#482878"
            ],
            [
             0.2222222222222222,
             "#3e4989"
            ],
            [
             0.3333333333333333,
             "#31688e"
            ],
            [
             0.4444444444444444,
             "#26828e"
            ],
            [
             0.5555555555555556,
             "#1f9e89"
            ],
            [
             0.6666666666666666,
             "#35b779"
            ],
            [
             0.7777777777777778,
             "#6ece58"
            ],
            [
             0.8888888888888888,
             "#b5de2b"
            ],
            [
             1,
             "#fde725"
            ]
           ]
          },
          "colorway": [
           "#1F77B4",
           "#FF7F0E",
           "#2CA02C",
           "#D62728",
           "#9467BD",
           "#8C564B",
           "#E377C2",
           "#7F7F7F",
           "#BCBD22",
           "#17BECF"
          ],
          "font": {
           "color": "rgb(36,36,36)"
          },
          "geo": {
           "bgcolor": "white",
           "lakecolor": "white",
           "landcolor": "white",
           "showlakes": true,
           "showland": true,
           "subunitcolor": "white"
          },
          "hoverlabel": {
           "align": "left"
          },
          "hovermode": "closest",
          "mapbox": {
           "style": "light"
          },
          "paper_bgcolor": "white",
          "plot_bgcolor": "white",
          "polar": {
           "angularaxis": {
            "gridcolor": "rgb(232,232,232)",
            "linecolor": "rgb(36,36,36)",
            "showgrid": false,
            "showline": true,
            "ticks": "outside"
           },
           "bgcolor": "white",
           "radialaxis": {
            "gridcolor": "rgb(232,232,232)",
            "linecolor": "rgb(36,36,36)",
            "showgrid": false,
            "showline": true,
            "ticks": "outside"
           }
          },
          "scene": {
           "xaxis": {
            "backgroundcolor": "white",
            "gridcolor": "rgb(232,232,232)",
            "gridwidth": 2,
            "linecolor": "rgb(36,36,36)",
            "showbackground": true,
            "showgrid": false,
            "showline": true,
            "ticks": "outside",
            "zeroline": false,
            "zerolinecolor": "rgb(36,36,36)"
           },
           "yaxis": {
            "backgroundcolor": "white",
            "gridcolor": "rgb(232,232,232)",
            "gridwidth": 2,
            "linecolor": "rgb(36,36,36)",
            "showbackground": true,
            "showgrid": false,
            "showline": true,
            "ticks": "outside",
            "zeroline": false,
            "zerolinecolor": "rgb(36,36,36)"
           },
           "zaxis": {
            "backgroundcolor": "white",
            "gridcolor": "rgb(232,232,232)",
            "gridwidth": 2,
            "linecolor": "rgb(36,36,36)",
            "showbackground": true,
            "showgrid": false,
            "showline": true,
            "ticks": "outside",
            "zeroline": false,
            "zerolinecolor": "rgb(36,36,36)"
           }
          },
          "shapedefaults": {
           "fillcolor": "black",
           "line": {
            "width": 0
           },
           "opacity": 0.3
          },
          "ternary": {
           "aaxis": {
            "gridcolor": "rgb(232,232,232)",
            "linecolor": "rgb(36,36,36)",
            "showgrid": false,
            "showline": true,
            "ticks": "outside"
           },
           "baxis": {
            "gridcolor": "rgb(232,232,232)",
            "linecolor": "rgb(36,36,36)",
            "showgrid": false,
            "showline": true,
            "ticks": "outside"
           },
           "bgcolor": "white",
           "caxis": {
            "gridcolor": "rgb(232,232,232)",
            "linecolor": "rgb(36,36,36)",
            "showgrid": false,
            "showline": true,
            "ticks": "outside"
           }
          },
          "title": {
           "x": 0.05
          },
          "xaxis": {
           "automargin": true,
           "gridcolor": "rgb(232,232,232)",
           "linecolor": "rgb(36,36,36)",
           "showgrid": false,
           "showline": true,
           "ticks": "outside",
           "title": {
            "standoff": 15
           },
           "zeroline": false,
           "zerolinecolor": "rgb(36,36,36)"
          },
          "yaxis": {
           "automargin": true,
           "gridcolor": "rgb(232,232,232)",
           "linecolor": "rgb(36,36,36)",
           "showgrid": false,
           "showline": true,
           "ticks": "outside",
           "title": {
            "standoff": 15
           },
           "zeroline": false,
           "zerolinecolor": "rgb(36,36,36)"
          }
         }
        },
        "title": {
         "text": "<b>Resultado semanal"
        },
        "width": 800,
        "xaxis": {
         "range": [
          -3.305163622854612,
          0.5549221339480104
         ],
         "showticklabels": true,
         "visible": true
        }
       }
      },
      "text/html": [
       "<div>                            <div id=\"0b2ffe7a-f4e8-41ea-b4bb-2d7ba93f8876\" class=\"plotly-graph-div\" style=\"height:850px; width:800px;\"></div>            <script type=\"text/javascript\">                require([\"plotly\"], function(Plotly) {                    window.PLOTLYENV=window.PLOTLYENV || {};                                    if (document.getElementById(\"0b2ffe7a-f4e8-41ea-b4bb-2d7ba93f8876\")) {                    Plotly.newPlot(                        \"0b2ffe7a-f4e8-41ea-b4bb-2d7ba93f8876\",                        [{\"marker\":{\"color\":[\"green\",\"green\",\"green\",\"green\",\"red\",\"red\",\"red\",\"red\",\"red\",\"red\",\"red\",\"red\",\"red\",\"red\",\"green\",\"green\",\"green\"]},\"orientation\":\"h\",\"x\":[0.5549221339480104,0.5122208969692288,0.3454841381379081,0.21692718084802554,-0.004436765497273232,-0.03167038611743278,-0.06160081224941827,-0.21253065516793068,-0.31411978994072554,-0.810720204849602,-1.2541804016258817,-2.4823452811945534,-2.5269975804563916,-3.305163622854612,null,null,null],\"y\":[\"EuroNext 100 (N100)\",\"Nikkei 225 (N225)\",\"FTSE 100 (UK100)\",\"Dow Jones 30 (DJI)\",\"DAX (DE30)\",\"S&P/TSX Composite (GSPTSE)\",\"S&P 500 (GSPC)\",\"NASDAQ Composite (IXIC)\",\"CAC 40 (FCHI)\",\"Bovespa (BVSP)\",\"S&P/BMV IPC (MXX)\",\"Shanghai Composite (SSEC)\",\"Hang Seng (HK50)\",\"SZSE Component (SZI)\",\"S&P Merval (MERV)\",\"BSE Sensex 30 (BSESN)\",\"MOEX Russia (IMOEX)\"],\"type\":\"bar\"}],                        {\"template\":{\"data\":{\"barpolar\":[{\"marker\":{\"line\":{\"color\":\"white\",\"width\":0.5},\"pattern\":{\"fillmode\":\"overlay\",\"size\":10,\"solidity\":0.2}},\"type\":\"barpolar\"}],\"bar\":[{\"error_x\":{\"color\":\"rgb(36,36,36)\"},\"error_y\":{\"color\":\"rgb(36,36,36)\"},\"marker\":{\"line\":{\"color\":\"white\",\"width\":0.5},\"pattern\":{\"fillmode\":\"overlay\",\"size\":10,\"solidity\":0.2}},\"type\":\"bar\"}],\"carpet\":[{\"aaxis\":{\"endlinecolor\":\"rgb(36,36,36)\",\"gridcolor\":\"white\",\"linecolor\":\"white\",\"minorgridcolor\":\"white\",\"startlinecolor\":\"rgb(36,36,36)\"},\"baxis\":{\"endlinecolor\":\"rgb(36,36,36)\",\"gridcolor\":\"white\",\"linecolor\":\"white\",\"minorgridcolor\":\"white\",\"startlinecolor\":\"rgb(36,36,36)\"},\"type\":\"carpet\"}],\"choropleth\":[{\"colorbar\":{\"outlinewidth\":1,\"tickcolor\":\"rgb(36,36,36)\",\"ticks\":\"outside\"},\"type\":\"choropleth\"}],\"contourcarpet\":[{\"colorbar\":{\"outlinewidth\":1,\"tickcolor\":\"rgb(36,36,36)\",\"ticks\":\"outside\"},\"type\":\"contourcarpet\"}],\"contour\":[{\"colorbar\":{\"outlinewidth\":1,\"tickcolor\":\"rgb(36,36,36)\",\"ticks\":\"outside\"},\"colorscale\":[[0.0,\"#440154\"],[0.1111111111111111,\"#482878\"],[0.2222222222222222,\"#3e4989\"],[0.3333333333333333,\"#31688e\"],[0.4444444444444444,\"#26828e\"],[0.5555555555555556,\"#1f9e89\"],[0.6666666666666666,\"#35b779\"],[0.7777777777777778,\"#6ece58\"],[0.8888888888888888,\"#b5de2b\"],[1.0,\"#fde725\"]],\"type\":\"contour\"}],\"heatmapgl\":[{\"colorbar\":{\"outlinewidth\":1,\"tickcolor\":\"rgb(36,36,36)\",\"ticks\":\"outside\"},\"colorscale\":[[0.0,\"#440154\"],[0.1111111111111111,\"#482878\"],[0.2222222222222222,\"#3e4989\"],[0.3333333333333333,\"#31688e\"],[0.4444444444444444,\"#26828e\"],[0.5555555555555556,\"#1f9e89\"],[0.6666666666666666,\"#35b779\"],[0.7777777777777778,\"#6ece58\"],[0.8888888888888888,\"#b5de2b\"],[1.0,\"#fde725\"]],\"type\":\"heatmapgl\"}],\"heatmap\":[{\"colorbar\":{\"outlinewidth\":1,\"tickcolor\":\"rgb(36,36,36)\",\"ticks\":\"outside\"},\"colorscale\":[[0.0,\"#440154\"],[0.1111111111111111,\"#482878\"],[0.2222222222222222,\"#3e4989\"],[0.3333333333333333,\"#31688e\"],[0.4444444444444444,\"#26828e\"],[0.5555555555555556,\"#1f9e89\"],[0.6666666666666666,\"#35b779\"],[0.7777777777777778,\"#6ece58\"],[0.8888888888888888,\"#b5de2b\"],[1.0,\"#fde725\"]],\"type\":\"heatmap\"}],\"histogram2dcontour\":[{\"colorbar\":{\"outlinewidth\":1,\"tickcolor\":\"rgb(36,36,36)\",\"ticks\":\"outside\"},\"colorscale\":[[0.0,\"#440154\"],[0.1111111111111111,\"#482878\"],[0.2222222222222222,\"#3e4989\"],[0.3333333333333333,\"#31688e\"],[0.4444444444444444,\"#26828e\"],[0.5555555555555556,\"#1f9e89\"],[0.6666666666666666,\"#35b779\"],[0.7777777777777778,\"#6ece58\"],[0.8888888888888888,\"#b5de2b\"],[1.0,\"#fde725\"]],\"type\":\"histogram2dcontour\"}],\"histogram2d\":[{\"colorbar\":{\"outlinewidth\":1,\"tickcolor\":\"rgb(36,36,36)\",\"ticks\":\"outside\"},\"colorscale\":[[0.0,\"#440154\"],[0.1111111111111111,\"#482878\"],[0.2222222222222222,\"#3e4989\"],[0.3333333333333333,\"#31688e\"],[0.4444444444444444,\"#26828e\"],[0.5555555555555556,\"#1f9e89\"],[0.6666666666666666,\"#35b779\"],[0.7777777777777778,\"#6ece58\"],[0.8888888888888888,\"#b5de2b\"],[1.0,\"#fde725\"]],\"type\":\"histogram2d\"}],\"histogram\":[{\"marker\":{\"line\":{\"color\":\"white\",\"width\":0.6}},\"type\":\"histogram\"}],\"mesh3d\":[{\"colorbar\":{\"outlinewidth\":1,\"tickcolor\":\"rgb(36,36,36)\",\"ticks\":\"outside\"},\"type\":\"mesh3d\"}],\"parcoords\":[{\"line\":{\"colorbar\":{\"outlinewidth\":1,\"tickcolor\":\"rgb(36,36,36)\",\"ticks\":\"outside\"}},\"type\":\"parcoords\"}],\"pie\":[{\"automargin\":true,\"type\":\"pie\"}],\"scatter3d\":[{\"line\":{\"colorbar\":{\"outlinewidth\":1,\"tickcolor\":\"rgb(36,36,36)\",\"ticks\":\"outside\"}},\"marker\":{\"colorbar\":{\"outlinewidth\":1,\"tickcolor\":\"rgb(36,36,36)\",\"ticks\":\"outside\"}},\"type\":\"scatter3d\"}],\"scattercarpet\":[{\"marker\":{\"colorbar\":{\"outlinewidth\":1,\"tickcolor\":\"rgb(36,36,36)\",\"ticks\":\"outside\"}},\"type\":\"scattercarpet\"}],\"scattergeo\":[{\"marker\":{\"colorbar\":{\"outlinewidth\":1,\"tickcolor\":\"rgb(36,36,36)\",\"ticks\":\"outside\"}},\"type\":\"scattergeo\"}],\"scattergl\":[{\"marker\":{\"colorbar\":{\"outlinewidth\":1,\"tickcolor\":\"rgb(36,36,36)\",\"ticks\":\"outside\"}},\"type\":\"scattergl\"}],\"scattermapbox\":[{\"marker\":{\"colorbar\":{\"outlinewidth\":1,\"tickcolor\":\"rgb(36,36,36)\",\"ticks\":\"outside\"}},\"type\":\"scattermapbox\"}],\"scatterpolargl\":[{\"marker\":{\"colorbar\":{\"outlinewidth\":1,\"tickcolor\":\"rgb(36,36,36)\",\"ticks\":\"outside\"}},\"type\":\"scatterpolargl\"}],\"scatterpolar\":[{\"marker\":{\"colorbar\":{\"outlinewidth\":1,\"tickcolor\":\"rgb(36,36,36)\",\"ticks\":\"outside\"}},\"type\":\"scatterpolar\"}],\"scatter\":[{\"fillpattern\":{\"fillmode\":\"overlay\",\"size\":10,\"solidity\":0.2},\"type\":\"scatter\"}],\"scatterternary\":[{\"marker\":{\"colorbar\":{\"outlinewidth\":1,\"tickcolor\":\"rgb(36,36,36)\",\"ticks\":\"outside\"}},\"type\":\"scatterternary\"}],\"surface\":[{\"colorbar\":{\"outlinewidth\":1,\"tickcolor\":\"rgb(36,36,36)\",\"ticks\":\"outside\"},\"colorscale\":[[0.0,\"#440154\"],[0.1111111111111111,\"#482878\"],[0.2222222222222222,\"#3e4989\"],[0.3333333333333333,\"#31688e\"],[0.4444444444444444,\"#26828e\"],[0.5555555555555556,\"#1f9e89\"],[0.6666666666666666,\"#35b779\"],[0.7777777777777778,\"#6ece58\"],[0.8888888888888888,\"#b5de2b\"],[1.0,\"#fde725\"]],\"type\":\"surface\"}],\"table\":[{\"cells\":{\"fill\":{\"color\":\"rgb(237,237,237)\"},\"line\":{\"color\":\"white\"}},\"header\":{\"fill\":{\"color\":\"rgb(217,217,217)\"},\"line\":{\"color\":\"white\"}},\"type\":\"table\"}]},\"layout\":{\"annotationdefaults\":{\"arrowhead\":0,\"arrowwidth\":1},\"autotypenumbers\":\"strict\",\"coloraxis\":{\"colorbar\":{\"outlinewidth\":1,\"tickcolor\":\"rgb(36,36,36)\",\"ticks\":\"outside\"}},\"colorscale\":{\"diverging\":[[0.0,\"rgb(103,0,31)\"],[0.1,\"rgb(178,24,43)\"],[0.2,\"rgb(214,96,77)\"],[0.3,\"rgb(244,165,130)\"],[0.4,\"rgb(253,219,199)\"],[0.5,\"rgb(247,247,247)\"],[0.6,\"rgb(209,229,240)\"],[0.7,\"rgb(146,197,222)\"],[0.8,\"rgb(67,147,195)\"],[0.9,\"rgb(33,102,172)\"],[1.0,\"rgb(5,48,97)\"]],\"sequential\":[[0.0,\"#440154\"],[0.1111111111111111,\"#482878\"],[0.2222222222222222,\"#3e4989\"],[0.3333333333333333,\"#31688e\"],[0.4444444444444444,\"#26828e\"],[0.5555555555555556,\"#1f9e89\"],[0.6666666666666666,\"#35b779\"],[0.7777777777777778,\"#6ece58\"],[0.8888888888888888,\"#b5de2b\"],[1.0,\"#fde725\"]],\"sequentialminus\":[[0.0,\"#440154\"],[0.1111111111111111,\"#482878\"],[0.2222222222222222,\"#3e4989\"],[0.3333333333333333,\"#31688e\"],[0.4444444444444444,\"#26828e\"],[0.5555555555555556,\"#1f9e89\"],[0.6666666666666666,\"#35b779\"],[0.7777777777777778,\"#6ece58\"],[0.8888888888888888,\"#b5de2b\"],[1.0,\"#fde725\"]]},\"colorway\":[\"#1F77B4\",\"#FF7F0E\",\"#2CA02C\",\"#D62728\",\"#9467BD\",\"#8C564B\",\"#E377C2\",\"#7F7F7F\",\"#BCBD22\",\"#17BECF\"],\"font\":{\"color\":\"rgb(36,36,36)\"},\"geo\":{\"bgcolor\":\"white\",\"lakecolor\":\"white\",\"landcolor\":\"white\",\"showlakes\":true,\"showland\":true,\"subunitcolor\":\"white\"},\"hoverlabel\":{\"align\":\"left\"},\"hovermode\":\"closest\",\"mapbox\":{\"style\":\"light\"},\"paper_bgcolor\":\"white\",\"plot_bgcolor\":\"white\",\"polar\":{\"angularaxis\":{\"gridcolor\":\"rgb(232,232,232)\",\"linecolor\":\"rgb(36,36,36)\",\"showgrid\":false,\"showline\":true,\"ticks\":\"outside\"},\"bgcolor\":\"white\",\"radialaxis\":{\"gridcolor\":\"rgb(232,232,232)\",\"linecolor\":\"rgb(36,36,36)\",\"showgrid\":false,\"showline\":true,\"ticks\":\"outside\"}},\"scene\":{\"xaxis\":{\"backgroundcolor\":\"white\",\"gridcolor\":\"rgb(232,232,232)\",\"gridwidth\":2,\"linecolor\":\"rgb(36,36,36)\",\"showbackground\":true,\"showgrid\":false,\"showline\":true,\"ticks\":\"outside\",\"zeroline\":false,\"zerolinecolor\":\"rgb(36,36,36)\"},\"yaxis\":{\"backgroundcolor\":\"white\",\"gridcolor\":\"rgb(232,232,232)\",\"gridwidth\":2,\"linecolor\":\"rgb(36,36,36)\",\"showbackground\":true,\"showgrid\":false,\"showline\":true,\"ticks\":\"outside\",\"zeroline\":false,\"zerolinecolor\":\"rgb(36,36,36)\"},\"zaxis\":{\"backgroundcolor\":\"white\",\"gridcolor\":\"rgb(232,232,232)\",\"gridwidth\":2,\"linecolor\":\"rgb(36,36,36)\",\"showbackground\":true,\"showgrid\":false,\"showline\":true,\"ticks\":\"outside\",\"zeroline\":false,\"zerolinecolor\":\"rgb(36,36,36)\"}},\"shapedefaults\":{\"fillcolor\":\"black\",\"line\":{\"width\":0},\"opacity\":0.3},\"ternary\":{\"aaxis\":{\"gridcolor\":\"rgb(232,232,232)\",\"linecolor\":\"rgb(36,36,36)\",\"showgrid\":false,\"showline\":true,\"ticks\":\"outside\"},\"baxis\":{\"gridcolor\":\"rgb(232,232,232)\",\"linecolor\":\"rgb(36,36,36)\",\"showgrid\":false,\"showline\":true,\"ticks\":\"outside\"},\"bgcolor\":\"white\",\"caxis\":{\"gridcolor\":\"rgb(232,232,232)\",\"linecolor\":\"rgb(36,36,36)\",\"showgrid\":false,\"showline\":true,\"ticks\":\"outside\"}},\"title\":{\"x\":0.05},\"xaxis\":{\"automargin\":true,\"gridcolor\":\"rgb(232,232,232)\",\"linecolor\":\"rgb(36,36,36)\",\"showgrid\":false,\"showline\":true,\"ticks\":\"outside\",\"title\":{\"standoff\":15},\"zeroline\":false,\"zerolinecolor\":\"rgb(36,36,36)\"},\"yaxis\":{\"automargin\":true,\"gridcolor\":\"rgb(232,232,232)\",\"linecolor\":\"rgb(36,36,36)\",\"showgrid\":false,\"showline\":true,\"ticks\":\"outside\",\"title\":{\"standoff\":15},\"zeroline\":false,\"zerolinecolor\":\"rgb(36,36,36)\"}}},\"xaxis\":{\"visible\":true,\"showticklabels\":true,\"range\":[-3.305163622854612,0.5549221339480104]},\"title\":{\"text\":\"<b>Resultado semanal\"},\"margin\":{\"l\":20,\"r\":20,\"t\":70,\"b\":20},\"font\":{\"family\":\"Arial\",\"size\":17,\"color\":\"black\"},\"paper_bgcolor\":\"#f7f8fa\",\"width\":800,\"height\":850,\"annotations\":[{\"font\":{\"color\":\"black\",\"family\":\"Arial\",\"size\":17},\"showarrow\":false,\"text\":\"0.55%\",\"x\":0.55,\"xref\":\"x\",\"y\":\"EuroNext 100 (N100)\",\"yref\":\"y\"},{\"font\":{\"color\":\"black\",\"family\":\"Arial\",\"size\":17},\"showarrow\":false,\"text\":\"0.51%\",\"x\":0.51,\"xref\":\"x\",\"y\":\"Nikkei 225 (N225)\",\"yref\":\"y\"},{\"font\":{\"color\":\"black\",\"family\":\"Arial\",\"size\":17},\"showarrow\":false,\"text\":\"0.35%\",\"x\":0.35,\"xref\":\"x\",\"y\":\"FTSE 100 (UK100)\",\"yref\":\"y\"},{\"font\":{\"color\":\"black\",\"family\":\"Arial\",\"size\":17},\"showarrow\":false,\"text\":\"0.22%\",\"x\":0.22,\"xref\":\"x\",\"y\":\"Dow Jones 30 (DJI)\",\"yref\":\"y\"},{\"font\":{\"color\":\"black\",\"family\":\"Arial\",\"size\":17},\"showarrow\":false,\"text\":\"-0.0%\",\"x\":-0.0,\"xref\":\"x\",\"y\":\"DAX (DE30)\",\"yref\":\"y\"},{\"font\":{\"color\":\"black\",\"family\":\"Arial\",\"size\":17},\"showarrow\":false,\"text\":\"-0.03%\",\"x\":-0.03,\"xref\":\"x\",\"y\":\"S&P/TSX Composite (GSPTSE)\",\"yref\":\"y\"},{\"font\":{\"color\":\"black\",\"family\":\"Arial\",\"size\":17},\"showarrow\":false,\"text\":\"-0.06%\",\"x\":-0.06,\"xref\":\"x\",\"y\":\"S&P 500 (GSPC)\",\"yref\":\"y\"},{\"font\":{\"color\":\"black\",\"family\":\"Arial\",\"size\":17},\"showarrow\":false,\"text\":\"-0.21%\",\"x\":-0.21,\"xref\":\"x\",\"y\":\"NASDAQ Composite (IXIC)\",\"yref\":\"y\"},{\"font\":{\"color\":\"black\",\"family\":\"Arial\",\"size\":17},\"showarrow\":false,\"text\":\"-0.31%\",\"x\":-0.31,\"xref\":\"x\",\"y\":\"CAC 40 (FCHI)\",\"yref\":\"y\"},{\"font\":{\"color\":\"black\",\"family\":\"Arial\",\"size\":17},\"showarrow\":false,\"text\":\"-0.81%\",\"x\":-0.81,\"xref\":\"x\",\"y\":\"Bovespa (BVSP)\",\"yref\":\"y\"},{\"font\":{\"color\":\"black\",\"family\":\"Arial\",\"size\":17},\"showarrow\":false,\"text\":\"-1.25%\",\"x\":-1.25,\"xref\":\"x\",\"y\":\"S&P/BMV IPC (MXX)\",\"yref\":\"y\"},{\"font\":{\"color\":\"black\",\"family\":\"Arial\",\"size\":17},\"showarrow\":false,\"text\":\"-2.48%\",\"x\":-2.48,\"xref\":\"x\",\"y\":\"Shanghai Composite (SSEC)\",\"yref\":\"y\"},{\"font\":{\"color\":\"black\",\"family\":\"Arial\",\"size\":17},\"showarrow\":false,\"text\":\"-2.53%\",\"x\":-2.53,\"xref\":\"x\",\"y\":\"Hang Seng (HK50)\",\"yref\":\"y\"},{\"font\":{\"color\":\"black\",\"family\":\"Arial\",\"size\":17},\"showarrow\":false,\"text\":\"-3.31%\",\"x\":-3.31,\"xref\":\"x\",\"y\":\"SZSE Component (SZI)\",\"yref\":\"y\"},{\"font\":{\"color\":\"black\",\"family\":\"Arial\",\"size\":17},\"showarrow\":false,\"text\":\"nan%\",\"x\":null,\"xref\":\"x\",\"y\":\"S&P Merval (MERV)\",\"yref\":\"y\"},{\"font\":{\"color\":\"black\",\"family\":\"Arial\",\"size\":17},\"showarrow\":false,\"text\":\"nan%\",\"x\":null,\"xref\":\"x\",\"y\":\"BSE Sensex 30 (BSESN)\",\"yref\":\"y\"},{\"font\":{\"color\":\"black\",\"family\":\"Arial\",\"size\":17},\"showarrow\":false,\"text\":\"nan%\",\"x\":null,\"xref\":\"x\",\"y\":\"MOEX Russia (IMOEX)\",\"yref\":\"y\"}]},                        {\"responsive\": true}                    ).then(function(){\n",
       "                            \n",
       "var gd = document.getElementById('0b2ffe7a-f4e8-41ea-b4bb-2d7ba93f8876');\n",
       "var x = new MutationObserver(function (mutations, observer) {{\n",
       "        var display = window.getComputedStyle(gd).display;\n",
       "        if (!display || display === 'none') {{\n",
       "            console.log([gd, 'removed!']);\n",
       "            Plotly.purge(gd);\n",
       "            observer.disconnect();\n",
       "        }}\n",
       "}});\n",
       "\n",
       "// Listen for the removal of the full notebook cells\n",
       "var notebookContainer = gd.closest('#notebook-container');\n",
       "if (notebookContainer) {{\n",
       "    x.observe(notebookContainer, {childList: true});\n",
       "}}\n",
       "\n",
       "// Listen for the clearing of the current output cell\n",
       "var outputEl = gd.closest('.output');\n",
       "if (outputEl) {{\n",
       "    x.observe(outputEl, {childList: true});\n",
       "}}\n",
       "\n",
       "                        })                };                });            </script>        </div>"
      ]
     },
     "metadata": {},
     "output_type": "display_data"
    }
   ],
   "source": [
    "fig_indices_results"
   ]
  },
  {
   "cell_type": "code",
   "execution_count": 48,
   "metadata": {},
   "outputs": [
    {
     "data": {
      "text/plain": [
       "3.31"
      ]
     },
     "execution_count": 48,
     "metadata": {},
     "output_type": "execute_result"
    }
   ],
   "source": [
    "max(list(np.abs(x_neg)) + x_pos)"
   ]
  },
  {
   "cell_type": "code",
   "execution_count": 50,
   "metadata": {},
   "outputs": [
    {
     "data": {
      "text/plain": [
       "4.1375"
      ]
     },
     "execution_count": 50,
     "metadata": {},
     "output_type": "execute_result"
    }
   ],
   "source": [
    "max(list(np.abs(x_neg)) + x_pos)*1.25"
   ]
  },
  {
   "cell_type": "code",
   "execution_count": 51,
   "metadata": {},
   "outputs": [
    {
     "data": {
      "application/vnd.plotly.v1+json": {
       "config": {
        "plotlyServerURL": "https://plot.ly"
       },
       "data": [
        {
         "marker": {
          "color": [
           "green",
           "green",
           "green",
           "green",
           "red",
           "red",
           "red",
           "red",
           "red",
           "red",
           "red",
           "red",
           "red",
           "red",
           "green",
           "green",
           "green"
          ]
         },
         "orientation": "h",
         "type": "bar",
         "x": [
          0.5549221339480104,
          0.5122208969692288,
          0.3454841381379081,
          0.21692718084802554,
          -0.004436765497273232,
          -0.03167038611743278,
          -0.06160081224941827,
          -0.21253065516793068,
          -0.31411978994072554,
          -0.810720204849602,
          -1.2541804016258817,
          -2.4823452811945534,
          -2.5269975804563916,
          -3.305163622854612,
          null,
          null,
          null
         ],
         "y": [
          "EuroNext 100 (N100)",
          "Nikkei 225 (N225)",
          "FTSE 100 (UK100)",
          "Dow Jones 30 (DJI)",
          "DAX (DE30)",
          "S&P/TSX Composite (GSPTSE)",
          "S&P 500 (GSPC)",
          "NASDAQ Composite (IXIC)",
          "CAC 40 (FCHI)",
          "Bovespa (BVSP)",
          "S&P/BMV IPC (MXX)",
          "Shanghai Composite (SSEC)",
          "Hang Seng (HK50)",
          "SZSE Component (SZI)",
          "S&P Merval (MERV)",
          "BSE Sensex 30 (BSESN)",
          "MOEX Russia (IMOEX)"
         ]
        }
       ],
       "layout": {
        "annotations": [
         {
          "font": {
           "color": "black",
           "family": "Arial",
           "size": 17
          },
          "showarrow": false,
          "text": "0.55%",
          "x": 2.55,
          "xref": "x",
          "y": "EuroNext 100 (N100)",
          "yref": "y"
         },
         {
          "font": {
           "color": "black",
           "family": "Arial",
           "size": 17
          },
          "showarrow": false,
          "text": "0.51%",
          "x": 2.51,
          "xref": "x",
          "y": "Nikkei 225 (N225)",
          "yref": "y"
         },
         {
          "font": {
           "color": "black",
           "family": "Arial",
           "size": 17
          },
          "showarrow": false,
          "text": "0.35%",
          "x": 2.35,
          "xref": "x",
          "y": "FTSE 100 (UK100)",
          "yref": "y"
         },
         {
          "font": {
           "color": "black",
           "family": "Arial",
           "size": 17
          },
          "showarrow": false,
          "text": "0.22%",
          "x": 2.22,
          "xref": "x",
          "y": "Dow Jones 30 (DJI)",
          "yref": "y"
         },
         {
          "font": {
           "color": "black",
           "family": "Arial",
           "size": 17
          },
          "showarrow": false,
          "text": "-0.0%",
          "x": -2,
          "xref": "x",
          "y": "DAX (DE30)",
          "yref": "y"
         },
         {
          "font": {
           "color": "black",
           "family": "Arial",
           "size": 17
          },
          "showarrow": false,
          "text": "-0.03%",
          "x": -2.03,
          "xref": "x",
          "y": "S&P/TSX Composite (GSPTSE)",
          "yref": "y"
         },
         {
          "font": {
           "color": "black",
           "family": "Arial",
           "size": 17
          },
          "showarrow": false,
          "text": "-0.06%",
          "x": -2.06,
          "xref": "x",
          "y": "S&P 500 (GSPC)",
          "yref": "y"
         },
         {
          "font": {
           "color": "black",
           "family": "Arial",
           "size": 17
          },
          "showarrow": false,
          "text": "-0.21%",
          "x": -2.21,
          "xref": "x",
          "y": "NASDAQ Composite (IXIC)",
          "yref": "y"
         },
         {
          "font": {
           "color": "black",
           "family": "Arial",
           "size": 17
          },
          "showarrow": false,
          "text": "-0.31%",
          "x": -2.31,
          "xref": "x",
          "y": "CAC 40 (FCHI)",
          "yref": "y"
         },
         {
          "font": {
           "color": "black",
           "family": "Arial",
           "size": 17
          },
          "showarrow": false,
          "text": "-0.81%",
          "x": -2.81,
          "xref": "x",
          "y": "Bovespa (BVSP)",
          "yref": "y"
         },
         {
          "font": {
           "color": "black",
           "family": "Arial",
           "size": 17
          },
          "showarrow": false,
          "text": "-1.25%",
          "x": -3.25,
          "xref": "x",
          "y": "S&P/BMV IPC (MXX)",
          "yref": "y"
         },
         {
          "font": {
           "color": "black",
           "family": "Arial",
           "size": 17
          },
          "showarrow": false,
          "text": "-2.48%",
          "x": -4.48,
          "xref": "x",
          "y": "Shanghai Composite (SSEC)",
          "yref": "y"
         },
         {
          "font": {
           "color": "black",
           "family": "Arial",
           "size": 17
          },
          "showarrow": false,
          "text": "-2.53%",
          "x": -4.529999999999999,
          "xref": "x",
          "y": "Hang Seng (HK50)",
          "yref": "y"
         },
         {
          "font": {
           "color": "black",
           "family": "Arial",
           "size": 17
          },
          "showarrow": false,
          "text": "-3.31%",
          "x": -5.3100000000000005,
          "xref": "x",
          "y": "SZSE Component (SZI)",
          "yref": "y"
         },
         {
          "font": {
           "color": "black",
           "family": "Arial",
           "size": 17
          },
          "showarrow": false,
          "text": "nan%",
          "x": null,
          "xref": "x",
          "y": "S&P Merval (MERV)",
          "yref": "y"
         },
         {
          "font": {
           "color": "black",
           "family": "Arial",
           "size": 17
          },
          "showarrow": false,
          "text": "nan%",
          "x": null,
          "xref": "x",
          "y": "BSE Sensex 30 (BSESN)",
          "yref": "y"
         },
         {
          "font": {
           "color": "black",
           "family": "Arial",
           "size": 17
          },
          "showarrow": false,
          "text": "nan%",
          "x": null,
          "xref": "x",
          "y": "MOEX Russia (IMOEX)",
          "yref": "y"
         }
        ],
        "font": {
         "color": "black",
         "family": "Arial",
         "size": 17
        },
        "height": 850,
        "margin": {
         "b": 20,
         "l": 20,
         "r": 20,
         "t": 70
        },
        "paper_bgcolor": "#f7f8fa",
        "template": {
         "data": {
          "bar": [
           {
            "error_x": {
             "color": "rgb(36,36,36)"
            },
            "error_y": {
             "color": "rgb(36,36,36)"
            },
            "marker": {
             "line": {
              "color": "white",
              "width": 0.5
             },
             "pattern": {
              "fillmode": "overlay",
              "size": 10,
              "solidity": 0.2
             }
            },
            "type": "bar"
           }
          ],
          "barpolar": [
           {
            "marker": {
             "line": {
              "color": "white",
              "width": 0.5
             },
             "pattern": {
              "fillmode": "overlay",
              "size": 10,
              "solidity": 0.2
             }
            },
            "type": "barpolar"
           }
          ],
          "carpet": [
           {
            "aaxis": {
             "endlinecolor": "rgb(36,36,36)",
             "gridcolor": "white",
             "linecolor": "white",
             "minorgridcolor": "white",
             "startlinecolor": "rgb(36,36,36)"
            },
            "baxis": {
             "endlinecolor": "rgb(36,36,36)",
             "gridcolor": "white",
             "linecolor": "white",
             "minorgridcolor": "white",
             "startlinecolor": "rgb(36,36,36)"
            },
            "type": "carpet"
           }
          ],
          "choropleth": [
           {
            "colorbar": {
             "outlinewidth": 1,
             "tickcolor": "rgb(36,36,36)",
             "ticks": "outside"
            },
            "type": "choropleth"
           }
          ],
          "contour": [
           {
            "colorbar": {
             "outlinewidth": 1,
             "tickcolor": "rgb(36,36,36)",
             "ticks": "outside"
            },
            "colorscale": [
             [
              0,
              "#440154"
             ],
             [
              0.1111111111111111,
              "#482878"
             ],
             [
              0.2222222222222222,
              "#3e4989"
             ],
             [
              0.3333333333333333,
              "#31688e"
             ],
             [
              0.4444444444444444,
              "#26828e"
             ],
             [
              0.5555555555555556,
              "#1f9e89"
             ],
             [
              0.6666666666666666,
              "#35b779"
             ],
             [
              0.7777777777777778,
              "#6ece58"
             ],
             [
              0.8888888888888888,
              "#b5de2b"
             ],
             [
              1,
              "#fde725"
             ]
            ],
            "type": "contour"
           }
          ],
          "contourcarpet": [
           {
            "colorbar": {
             "outlinewidth": 1,
             "tickcolor": "rgb(36,36,36)",
             "ticks": "outside"
            },
            "type": "contourcarpet"
           }
          ],
          "heatmap": [
           {
            "colorbar": {
             "outlinewidth": 1,
             "tickcolor": "rgb(36,36,36)",
             "ticks": "outside"
            },
            "colorscale": [
             [
              0,
              "#440154"
             ],
             [
              0.1111111111111111,
              "#482878"
             ],
             [
              0.2222222222222222,
              "#3e4989"
             ],
             [
              0.3333333333333333,
              "#31688e"
             ],
             [
              0.4444444444444444,
              "#26828e"
             ],
             [
              0.5555555555555556,
              "#1f9e89"
             ],
             [
              0.6666666666666666,
              "#35b779"
             ],
             [
              0.7777777777777778,
              "#6ece58"
             ],
             [
              0.8888888888888888,
              "#b5de2b"
             ],
             [
              1,
              "#fde725"
             ]
            ],
            "type": "heatmap"
           }
          ],
          "heatmapgl": [
           {
            "colorbar": {
             "outlinewidth": 1,
             "tickcolor": "rgb(36,36,36)",
             "ticks": "outside"
            },
            "colorscale": [
             [
              0,
              "#440154"
             ],
             [
              0.1111111111111111,
              "#482878"
             ],
             [
              0.2222222222222222,
              "#3e4989"
             ],
             [
              0.3333333333333333,
              "#31688e"
             ],
             [
              0.4444444444444444,
              "#26828e"
             ],
             [
              0.5555555555555556,
              "#1f9e89"
             ],
             [
              0.6666666666666666,
              "#35b779"
             ],
             [
              0.7777777777777778,
              "#6ece58"
             ],
             [
              0.8888888888888888,
              "#b5de2b"
             ],
             [
              1,
              "#fde725"
             ]
            ],
            "type": "heatmapgl"
           }
          ],
          "histogram": [
           {
            "marker": {
             "line": {
              "color": "white",
              "width": 0.6
             }
            },
            "type": "histogram"
           }
          ],
          "histogram2d": [
           {
            "colorbar": {
             "outlinewidth": 1,
             "tickcolor": "rgb(36,36,36)",
             "ticks": "outside"
            },
            "colorscale": [
             [
              0,
              "#440154"
             ],
             [
              0.1111111111111111,
              "#482878"
             ],
             [
              0.2222222222222222,
              "#3e4989"
             ],
             [
              0.3333333333333333,
              "#31688e"
             ],
             [
              0.4444444444444444,
              "#26828e"
             ],
             [
              0.5555555555555556,
              "#1f9e89"
             ],
             [
              0.6666666666666666,
              "#35b779"
             ],
             [
              0.7777777777777778,
              "#6ece58"
             ],
             [
              0.8888888888888888,
              "#b5de2b"
             ],
             [
              1,
              "#fde725"
             ]
            ],
            "type": "histogram2d"
           }
          ],
          "histogram2dcontour": [
           {
            "colorbar": {
             "outlinewidth": 1,
             "tickcolor": "rgb(36,36,36)",
             "ticks": "outside"
            },
            "colorscale": [
             [
              0,
              "#440154"
             ],
             [
              0.1111111111111111,
              "#482878"
             ],
             [
              0.2222222222222222,
              "#3e4989"
             ],
             [
              0.3333333333333333,
              "#31688e"
             ],
             [
              0.4444444444444444,
              "#26828e"
             ],
             [
              0.5555555555555556,
              "#1f9e89"
             ],
             [
              0.6666666666666666,
              "#35b779"
             ],
             [
              0.7777777777777778,
              "#6ece58"
             ],
             [
              0.8888888888888888,
              "#b5de2b"
             ],
             [
              1,
              "#fde725"
             ]
            ],
            "type": "histogram2dcontour"
           }
          ],
          "mesh3d": [
           {
            "colorbar": {
             "outlinewidth": 1,
             "tickcolor": "rgb(36,36,36)",
             "ticks": "outside"
            },
            "type": "mesh3d"
           }
          ],
          "parcoords": [
           {
            "line": {
             "colorbar": {
              "outlinewidth": 1,
              "tickcolor": "rgb(36,36,36)",
              "ticks": "outside"
             }
            },
            "type": "parcoords"
           }
          ],
          "pie": [
           {
            "automargin": true,
            "type": "pie"
           }
          ],
          "scatter": [
           {
            "fillpattern": {
             "fillmode": "overlay",
             "size": 10,
             "solidity": 0.2
            },
            "type": "scatter"
           }
          ],
          "scatter3d": [
           {
            "line": {
             "colorbar": {
              "outlinewidth": 1,
              "tickcolor": "rgb(36,36,36)",
              "ticks": "outside"
             }
            },
            "marker": {
             "colorbar": {
              "outlinewidth": 1,
              "tickcolor": "rgb(36,36,36)",
              "ticks": "outside"
             }
            },
            "type": "scatter3d"
           }
          ],
          "scattercarpet": [
           {
            "marker": {
             "colorbar": {
              "outlinewidth": 1,
              "tickcolor": "rgb(36,36,36)",
              "ticks": "outside"
             }
            },
            "type": "scattercarpet"
           }
          ],
          "scattergeo": [
           {
            "marker": {
             "colorbar": {
              "outlinewidth": 1,
              "tickcolor": "rgb(36,36,36)",
              "ticks": "outside"
             }
            },
            "type": "scattergeo"
           }
          ],
          "scattergl": [
           {
            "marker": {
             "colorbar": {
              "outlinewidth": 1,
              "tickcolor": "rgb(36,36,36)",
              "ticks": "outside"
             }
            },
            "type": "scattergl"
           }
          ],
          "scattermapbox": [
           {
            "marker": {
             "colorbar": {
              "outlinewidth": 1,
              "tickcolor": "rgb(36,36,36)",
              "ticks": "outside"
             }
            },
            "type": "scattermapbox"
           }
          ],
          "scatterpolar": [
           {
            "marker": {
             "colorbar": {
              "outlinewidth": 1,
              "tickcolor": "rgb(36,36,36)",
              "ticks": "outside"
             }
            },
            "type": "scatterpolar"
           }
          ],
          "scatterpolargl": [
           {
            "marker": {
             "colorbar": {
              "outlinewidth": 1,
              "tickcolor": "rgb(36,36,36)",
              "ticks": "outside"
             }
            },
            "type": "scatterpolargl"
           }
          ],
          "scatterternary": [
           {
            "marker": {
             "colorbar": {
              "outlinewidth": 1,
              "tickcolor": "rgb(36,36,36)",
              "ticks": "outside"
             }
            },
            "type": "scatterternary"
           }
          ],
          "surface": [
           {
            "colorbar": {
             "outlinewidth": 1,
             "tickcolor": "rgb(36,36,36)",
             "ticks": "outside"
            },
            "colorscale": [
             [
              0,
              "#440154"
             ],
             [
              0.1111111111111111,
              "#482878"
             ],
             [
              0.2222222222222222,
              "#3e4989"
             ],
             [
              0.3333333333333333,
              "#31688e"
             ],
             [
              0.4444444444444444,
              "#26828e"
             ],
             [
              0.5555555555555556,
              "#1f9e89"
             ],
             [
              0.6666666666666666,
              "#35b779"
             ],
             [
              0.7777777777777778,
              "#6ece58"
             ],
             [
              0.8888888888888888,
              "#b5de2b"
             ],
             [
              1,
              "#fde725"
             ]
            ],
            "type": "surface"
           }
          ],
          "table": [
           {
            "cells": {
             "fill": {
              "color": "rgb(237,237,237)"
             },
             "line": {
              "color": "white"
             }
            },
            "header": {
             "fill": {
              "color": "rgb(217,217,217)"
             },
             "line": {
              "color": "white"
             }
            },
            "type": "table"
           }
          ]
         },
         "layout": {
          "annotationdefaults": {
           "arrowhead": 0,
           "arrowwidth": 1
          },
          "autotypenumbers": "strict",
          "coloraxis": {
           "colorbar": {
            "outlinewidth": 1,
            "tickcolor": "rgb(36,36,36)",
            "ticks": "outside"
           }
          },
          "colorscale": {
           "diverging": [
            [
             0,
             "rgb(103,0,31)"
            ],
            [
             0.1,
             "rgb(178,24,43)"
            ],
            [
             0.2,
             "rgb(214,96,77)"
            ],
            [
             0.3,
             "rgb(244,165,130)"
            ],
            [
             0.4,
             "rgb(253,219,199)"
            ],
            [
             0.5,
             "rgb(247,247,247)"
            ],
            [
             0.6,
             "rgb(209,229,240)"
            ],
            [
             0.7,
             "rgb(146,197,222)"
            ],
            [
             0.8,
             "rgb(67,147,195)"
            ],
            [
             0.9,
             "rgb(33,102,172)"
            ],
            [
             1,
             "rgb(5,48,97)"
            ]
           ],
           "sequential": [
            [
             0,
             "#440154"
            ],
            [
             0.1111111111111111,
             "#482878"
            ],
            [
             0.2222222222222222,
             "#3e4989"
            ],
            [
             0.3333333333333333,
             "#31688e"
            ],
            [
             0.4444444444444444,
             "#26828e"
            ],
            [
             0.5555555555555556,
             "#1f9e89"
            ],
            [
             0.6666666666666666,
             "#35b779"
            ],
            [
             0.7777777777777778,
             "#6ece58"
            ],
            [
             0.8888888888888888,
             "#b5de2b"
            ],
            [
             1,
             "#fde725"
            ]
           ],
           "sequentialminus": [
            [
             0,
             "#440154"
            ],
            [
             0.1111111111111111,
             "#482878"
            ],
            [
             0.2222222222222222,
             "#3e4989"
            ],
            [
             0.3333333333333333,
             "#31688e"
            ],
            [
             0.4444444444444444,
             "#26828e"
            ],
            [
             0.5555555555555556,
             "#1f9e89"
            ],
            [
             0.6666666666666666,
             "#35b779"
            ],
            [
             0.7777777777777778,
             "#6ece58"
            ],
            [
             0.8888888888888888,
             "#b5de2b"
            ],
            [
             1,
             "#fde725"
            ]
           ]
          },
          "colorway": [
           "#1F77B4",
           "#FF7F0E",
           "#2CA02C",
           "#D62728",
           "#9467BD",
           "#8C564B",
           "#E377C2",
           "#7F7F7F",
           "#BCBD22",
           "#17BECF"
          ],
          "font": {
           "color": "rgb(36,36,36)"
          },
          "geo": {
           "bgcolor": "white",
           "lakecolor": "white",
           "landcolor": "white",
           "showlakes": true,
           "showland": true,
           "subunitcolor": "white"
          },
          "hoverlabel": {
           "align": "left"
          },
          "hovermode": "closest",
          "mapbox": {
           "style": "light"
          },
          "paper_bgcolor": "white",
          "plot_bgcolor": "white",
          "polar": {
           "angularaxis": {
            "gridcolor": "rgb(232,232,232)",
            "linecolor": "rgb(36,36,36)",
            "showgrid": false,
            "showline": true,
            "ticks": "outside"
           },
           "bgcolor": "white",
           "radialaxis": {
            "gridcolor": "rgb(232,232,232)",
            "linecolor": "rgb(36,36,36)",
            "showgrid": false,
            "showline": true,
            "ticks": "outside"
           }
          },
          "scene": {
           "xaxis": {
            "backgroundcolor": "white",
            "gridcolor": "rgb(232,232,232)",
            "gridwidth": 2,
            "linecolor": "rgb(36,36,36)",
            "showbackground": true,
            "showgrid": false,
            "showline": true,
            "ticks": "outside",
            "zeroline": false,
            "zerolinecolor": "rgb(36,36,36)"
           },
           "yaxis": {
            "backgroundcolor": "white",
            "gridcolor": "rgb(232,232,232)",
            "gridwidth": 2,
            "linecolor": "rgb(36,36,36)",
            "showbackground": true,
            "showgrid": false,
            "showline": true,
            "ticks": "outside",
            "zeroline": false,
            "zerolinecolor": "rgb(36,36,36)"
           },
           "zaxis": {
            "backgroundcolor": "white",
            "gridcolor": "rgb(232,232,232)",
            "gridwidth": 2,
            "linecolor": "rgb(36,36,36)",
            "showbackground": true,
            "showgrid": false,
            "showline": true,
            "ticks": "outside",
            "zeroline": false,
            "zerolinecolor": "rgb(36,36,36)"
           }
          },
          "shapedefaults": {
           "fillcolor": "black",
           "line": {
            "width": 0
           },
           "opacity": 0.3
          },
          "ternary": {
           "aaxis": {
            "gridcolor": "rgb(232,232,232)",
            "linecolor": "rgb(36,36,36)",
            "showgrid": false,
            "showline": true,
            "ticks": "outside"
           },
           "baxis": {
            "gridcolor": "rgb(232,232,232)",
            "linecolor": "rgb(36,36,36)",
            "showgrid": false,
            "showline": true,
            "ticks": "outside"
           },
           "bgcolor": "white",
           "caxis": {
            "gridcolor": "rgb(232,232,232)",
            "linecolor": "rgb(36,36,36)",
            "showgrid": false,
            "showline": true,
            "ticks": "outside"
           }
          },
          "title": {
           "x": 0.05
          },
          "xaxis": {
           "automargin": true,
           "gridcolor": "rgb(232,232,232)",
           "linecolor": "rgb(36,36,36)",
           "showgrid": false,
           "showline": true,
           "ticks": "outside",
           "title": {
            "standoff": 15
           },
           "zeroline": false,
           "zerolinecolor": "rgb(36,36,36)"
          },
          "yaxis": {
           "automargin": true,
           "gridcolor": "rgb(232,232,232)",
           "linecolor": "rgb(36,36,36)",
           "showgrid": false,
           "showline": true,
           "ticks": "outside",
           "title": {
            "standoff": 15
           },
           "zeroline": false,
           "zerolinecolor": "rgb(36,36,36)"
          }
         }
        },
        "title": {
         "text": "<b>Resultado semanal"
        },
        "width": 800,
        "xaxis": {
         "range": [
          -7.442663622854612,
          4.6924221339480106
         ],
         "showticklabels": true,
         "visible": true
        }
       }
      },
      "text/html": [
       "<div>                            <div id=\"d88debe2-60e8-4b1e-8dbe-c33a383819f5\" class=\"plotly-graph-div\" style=\"height:850px; width:800px;\"></div>            <script type=\"text/javascript\">                require([\"plotly\"], function(Plotly) {                    window.PLOTLYENV=window.PLOTLYENV || {};                                    if (document.getElementById(\"d88debe2-60e8-4b1e-8dbe-c33a383819f5\")) {                    Plotly.newPlot(                        \"d88debe2-60e8-4b1e-8dbe-c33a383819f5\",                        [{\"marker\":{\"color\":[\"green\",\"green\",\"green\",\"green\",\"red\",\"red\",\"red\",\"red\",\"red\",\"red\",\"red\",\"red\",\"red\",\"red\",\"green\",\"green\",\"green\"]},\"orientation\":\"h\",\"x\":[0.5549221339480104,0.5122208969692288,0.3454841381379081,0.21692718084802554,-0.004436765497273232,-0.03167038611743278,-0.06160081224941827,-0.21253065516793068,-0.31411978994072554,-0.810720204849602,-1.2541804016258817,-2.4823452811945534,-2.5269975804563916,-3.305163622854612,null,null,null],\"y\":[\"EuroNext 100 (N100)\",\"Nikkei 225 (N225)\",\"FTSE 100 (UK100)\",\"Dow Jones 30 (DJI)\",\"DAX (DE30)\",\"S&P/TSX Composite (GSPTSE)\",\"S&P 500 (GSPC)\",\"NASDAQ Composite (IXIC)\",\"CAC 40 (FCHI)\",\"Bovespa (BVSP)\",\"S&P/BMV IPC (MXX)\",\"Shanghai Composite (SSEC)\",\"Hang Seng (HK50)\",\"SZSE Component (SZI)\",\"S&P Merval (MERV)\",\"BSE Sensex 30 (BSESN)\",\"MOEX Russia (IMOEX)\"],\"type\":\"bar\"}],                        {\"template\":{\"data\":{\"barpolar\":[{\"marker\":{\"line\":{\"color\":\"white\",\"width\":0.5},\"pattern\":{\"fillmode\":\"overlay\",\"size\":10,\"solidity\":0.2}},\"type\":\"barpolar\"}],\"bar\":[{\"error_x\":{\"color\":\"rgb(36,36,36)\"},\"error_y\":{\"color\":\"rgb(36,36,36)\"},\"marker\":{\"line\":{\"color\":\"white\",\"width\":0.5},\"pattern\":{\"fillmode\":\"overlay\",\"size\":10,\"solidity\":0.2}},\"type\":\"bar\"}],\"carpet\":[{\"aaxis\":{\"endlinecolor\":\"rgb(36,36,36)\",\"gridcolor\":\"white\",\"linecolor\":\"white\",\"minorgridcolor\":\"white\",\"startlinecolor\":\"rgb(36,36,36)\"},\"baxis\":{\"endlinecolor\":\"rgb(36,36,36)\",\"gridcolor\":\"white\",\"linecolor\":\"white\",\"minorgridcolor\":\"white\",\"startlinecolor\":\"rgb(36,36,36)\"},\"type\":\"carpet\"}],\"choropleth\":[{\"colorbar\":{\"outlinewidth\":1,\"tickcolor\":\"rgb(36,36,36)\",\"ticks\":\"outside\"},\"type\":\"choropleth\"}],\"contourcarpet\":[{\"colorbar\":{\"outlinewidth\":1,\"tickcolor\":\"rgb(36,36,36)\",\"ticks\":\"outside\"},\"type\":\"contourcarpet\"}],\"contour\":[{\"colorbar\":{\"outlinewidth\":1,\"tickcolor\":\"rgb(36,36,36)\",\"ticks\":\"outside\"},\"colorscale\":[[0.0,\"#440154\"],[0.1111111111111111,\"#482878\"],[0.2222222222222222,\"#3e4989\"],[0.3333333333333333,\"#31688e\"],[0.4444444444444444,\"#26828e\"],[0.5555555555555556,\"#1f9e89\"],[0.6666666666666666,\"#35b779\"],[0.7777777777777778,\"#6ece58\"],[0.8888888888888888,\"#b5de2b\"],[1.0,\"#fde725\"]],\"type\":\"contour\"}],\"heatmapgl\":[{\"colorbar\":{\"outlinewidth\":1,\"tickcolor\":\"rgb(36,36,36)\",\"ticks\":\"outside\"},\"colorscale\":[[0.0,\"#440154\"],[0.1111111111111111,\"#482878\"],[0.2222222222222222,\"#3e4989\"],[0.3333333333333333,\"#31688e\"],[0.4444444444444444,\"#26828e\"],[0.5555555555555556,\"#1f9e89\"],[0.6666666666666666,\"#35b779\"],[0.7777777777777778,\"#6ece58\"],[0.8888888888888888,\"#b5de2b\"],[1.0,\"#fde725\"]],\"type\":\"heatmapgl\"}],\"heatmap\":[{\"colorbar\":{\"outlinewidth\":1,\"tickcolor\":\"rgb(36,36,36)\",\"ticks\":\"outside\"},\"colorscale\":[[0.0,\"#440154\"],[0.1111111111111111,\"#482878\"],[0.2222222222222222,\"#3e4989\"],[0.3333333333333333,\"#31688e\"],[0.4444444444444444,\"#26828e\"],[0.5555555555555556,\"#1f9e89\"],[0.6666666666666666,\"#35b779\"],[0.7777777777777778,\"#6ece58\"],[0.8888888888888888,\"#b5de2b\"],[1.0,\"#fde725\"]],\"type\":\"heatmap\"}],\"histogram2dcontour\":[{\"colorbar\":{\"outlinewidth\":1,\"tickcolor\":\"rgb(36,36,36)\",\"ticks\":\"outside\"},\"colorscale\":[[0.0,\"#440154\"],[0.1111111111111111,\"#482878\"],[0.2222222222222222,\"#3e4989\"],[0.3333333333333333,\"#31688e\"],[0.4444444444444444,\"#26828e\"],[0.5555555555555556,\"#1f9e89\"],[0.6666666666666666,\"#35b779\"],[0.7777777777777778,\"#6ece58\"],[0.8888888888888888,\"#b5de2b\"],[1.0,\"#fde725\"]],\"type\":\"histogram2dcontour\"}],\"histogram2d\":[{\"colorbar\":{\"outlinewidth\":1,\"tickcolor\":\"rgb(36,36,36)\",\"ticks\":\"outside\"},\"colorscale\":[[0.0,\"#440154\"],[0.1111111111111111,\"#482878\"],[0.2222222222222222,\"#3e4989\"],[0.3333333333333333,\"#31688e\"],[0.4444444444444444,\"#26828e\"],[0.5555555555555556,\"#1f9e89\"],[0.6666666666666666,\"#35b779\"],[0.7777777777777778,\"#6ece58\"],[0.8888888888888888,\"#b5de2b\"],[1.0,\"#fde725\"]],\"type\":\"histogram2d\"}],\"histogram\":[{\"marker\":{\"line\":{\"color\":\"white\",\"width\":0.6}},\"type\":\"histogram\"}],\"mesh3d\":[{\"colorbar\":{\"outlinewidth\":1,\"tickcolor\":\"rgb(36,36,36)\",\"ticks\":\"outside\"},\"type\":\"mesh3d\"}],\"parcoords\":[{\"line\":{\"colorbar\":{\"outlinewidth\":1,\"tickcolor\":\"rgb(36,36,36)\",\"ticks\":\"outside\"}},\"type\":\"parcoords\"}],\"pie\":[{\"automargin\":true,\"type\":\"pie\"}],\"scatter3d\":[{\"line\":{\"colorbar\":{\"outlinewidth\":1,\"tickcolor\":\"rgb(36,36,36)\",\"ticks\":\"outside\"}},\"marker\":{\"colorbar\":{\"outlinewidth\":1,\"tickcolor\":\"rgb(36,36,36)\",\"ticks\":\"outside\"}},\"type\":\"scatter3d\"}],\"scattercarpet\":[{\"marker\":{\"colorbar\":{\"outlinewidth\":1,\"tickcolor\":\"rgb(36,36,36)\",\"ticks\":\"outside\"}},\"type\":\"scattercarpet\"}],\"scattergeo\":[{\"marker\":{\"colorbar\":{\"outlinewidth\":1,\"tickcolor\":\"rgb(36,36,36)\",\"ticks\":\"outside\"}},\"type\":\"scattergeo\"}],\"scattergl\":[{\"marker\":{\"colorbar\":{\"outlinewidth\":1,\"tickcolor\":\"rgb(36,36,36)\",\"ticks\":\"outside\"}},\"type\":\"scattergl\"}],\"scattermapbox\":[{\"marker\":{\"colorbar\":{\"outlinewidth\":1,\"tickcolor\":\"rgb(36,36,36)\",\"ticks\":\"outside\"}},\"type\":\"scattermapbox\"}],\"scatterpolargl\":[{\"marker\":{\"colorbar\":{\"outlinewidth\":1,\"tickcolor\":\"rgb(36,36,36)\",\"ticks\":\"outside\"}},\"type\":\"scatterpolargl\"}],\"scatterpolar\":[{\"marker\":{\"colorbar\":{\"outlinewidth\":1,\"tickcolor\":\"rgb(36,36,36)\",\"ticks\":\"outside\"}},\"type\":\"scatterpolar\"}],\"scatter\":[{\"fillpattern\":{\"fillmode\":\"overlay\",\"size\":10,\"solidity\":0.2},\"type\":\"scatter\"}],\"scatterternary\":[{\"marker\":{\"colorbar\":{\"outlinewidth\":1,\"tickcolor\":\"rgb(36,36,36)\",\"ticks\":\"outside\"}},\"type\":\"scatterternary\"}],\"surface\":[{\"colorbar\":{\"outlinewidth\":1,\"tickcolor\":\"rgb(36,36,36)\",\"ticks\":\"outside\"},\"colorscale\":[[0.0,\"#440154\"],[0.1111111111111111,\"#482878\"],[0.2222222222222222,\"#3e4989\"],[0.3333333333333333,\"#31688e\"],[0.4444444444444444,\"#26828e\"],[0.5555555555555556,\"#1f9e89\"],[0.6666666666666666,\"#35b779\"],[0.7777777777777778,\"#6ece58\"],[0.8888888888888888,\"#b5de2b\"],[1.0,\"#fde725\"]],\"type\":\"surface\"}],\"table\":[{\"cells\":{\"fill\":{\"color\":\"rgb(237,237,237)\"},\"line\":{\"color\":\"white\"}},\"header\":{\"fill\":{\"color\":\"rgb(217,217,217)\"},\"line\":{\"color\":\"white\"}},\"type\":\"table\"}]},\"layout\":{\"annotationdefaults\":{\"arrowhead\":0,\"arrowwidth\":1},\"autotypenumbers\":\"strict\",\"coloraxis\":{\"colorbar\":{\"outlinewidth\":1,\"tickcolor\":\"rgb(36,36,36)\",\"ticks\":\"outside\"}},\"colorscale\":{\"diverging\":[[0.0,\"rgb(103,0,31)\"],[0.1,\"rgb(178,24,43)\"],[0.2,\"rgb(214,96,77)\"],[0.3,\"rgb(244,165,130)\"],[0.4,\"rgb(253,219,199)\"],[0.5,\"rgb(247,247,247)\"],[0.6,\"rgb(209,229,240)\"],[0.7,\"rgb(146,197,222)\"],[0.8,\"rgb(67,147,195)\"],[0.9,\"rgb(33,102,172)\"],[1.0,\"rgb(5,48,97)\"]],\"sequential\":[[0.0,\"#440154\"],[0.1111111111111111,\"#482878\"],[0.2222222222222222,\"#3e4989\"],[0.3333333333333333,\"#31688e\"],[0.4444444444444444,\"#26828e\"],[0.5555555555555556,\"#1f9e89\"],[0.6666666666666666,\"#35b779\"],[0.7777777777777778,\"#6ece58\"],[0.8888888888888888,\"#b5de2b\"],[1.0,\"#fde725\"]],\"sequentialminus\":[[0.0,\"#440154\"],[0.1111111111111111,\"#482878\"],[0.2222222222222222,\"#3e4989\"],[0.3333333333333333,\"#31688e\"],[0.4444444444444444,\"#26828e\"],[0.5555555555555556,\"#1f9e89\"],[0.6666666666666666,\"#35b779\"],[0.7777777777777778,\"#6ece58\"],[0.8888888888888888,\"#b5de2b\"],[1.0,\"#fde725\"]]},\"colorway\":[\"#1F77B4\",\"#FF7F0E\",\"#2CA02C\",\"#D62728\",\"#9467BD\",\"#8C564B\",\"#E377C2\",\"#7F7F7F\",\"#BCBD22\",\"#17BECF\"],\"font\":{\"color\":\"rgb(36,36,36)\"},\"geo\":{\"bgcolor\":\"white\",\"lakecolor\":\"white\",\"landcolor\":\"white\",\"showlakes\":true,\"showland\":true,\"subunitcolor\":\"white\"},\"hoverlabel\":{\"align\":\"left\"},\"hovermode\":\"closest\",\"mapbox\":{\"style\":\"light\"},\"paper_bgcolor\":\"white\",\"plot_bgcolor\":\"white\",\"polar\":{\"angularaxis\":{\"gridcolor\":\"rgb(232,232,232)\",\"linecolor\":\"rgb(36,36,36)\",\"showgrid\":false,\"showline\":true,\"ticks\":\"outside\"},\"bgcolor\":\"white\",\"radialaxis\":{\"gridcolor\":\"rgb(232,232,232)\",\"linecolor\":\"rgb(36,36,36)\",\"showgrid\":false,\"showline\":true,\"ticks\":\"outside\"}},\"scene\":{\"xaxis\":{\"backgroundcolor\":\"white\",\"gridcolor\":\"rgb(232,232,232)\",\"gridwidth\":2,\"linecolor\":\"rgb(36,36,36)\",\"showbackground\":true,\"showgrid\":false,\"showline\":true,\"ticks\":\"outside\",\"zeroline\":false,\"zerolinecolor\":\"rgb(36,36,36)\"},\"yaxis\":{\"backgroundcolor\":\"white\",\"gridcolor\":\"rgb(232,232,232)\",\"gridwidth\":2,\"linecolor\":\"rgb(36,36,36)\",\"showbackground\":true,\"showgrid\":false,\"showline\":true,\"ticks\":\"outside\",\"zeroline\":false,\"zerolinecolor\":\"rgb(36,36,36)\"},\"zaxis\":{\"backgroundcolor\":\"white\",\"gridcolor\":\"rgb(232,232,232)\",\"gridwidth\":2,\"linecolor\":\"rgb(36,36,36)\",\"showbackground\":true,\"showgrid\":false,\"showline\":true,\"ticks\":\"outside\",\"zeroline\":false,\"zerolinecolor\":\"rgb(36,36,36)\"}},\"shapedefaults\":{\"fillcolor\":\"black\",\"line\":{\"width\":0},\"opacity\":0.3},\"ternary\":{\"aaxis\":{\"gridcolor\":\"rgb(232,232,232)\",\"linecolor\":\"rgb(36,36,36)\",\"showgrid\":false,\"showline\":true,\"ticks\":\"outside\"},\"baxis\":{\"gridcolor\":\"rgb(232,232,232)\",\"linecolor\":\"rgb(36,36,36)\",\"showgrid\":false,\"showline\":true,\"ticks\":\"outside\"},\"bgcolor\":\"white\",\"caxis\":{\"gridcolor\":\"rgb(232,232,232)\",\"linecolor\":\"rgb(36,36,36)\",\"showgrid\":false,\"showline\":true,\"ticks\":\"outside\"}},\"title\":{\"x\":0.05},\"xaxis\":{\"automargin\":true,\"gridcolor\":\"rgb(232,232,232)\",\"linecolor\":\"rgb(36,36,36)\",\"showgrid\":false,\"showline\":true,\"ticks\":\"outside\",\"title\":{\"standoff\":15},\"zeroline\":false,\"zerolinecolor\":\"rgb(36,36,36)\"},\"yaxis\":{\"automargin\":true,\"gridcolor\":\"rgb(232,232,232)\",\"linecolor\":\"rgb(36,36,36)\",\"showgrid\":false,\"showline\":true,\"ticks\":\"outside\",\"title\":{\"standoff\":15},\"zeroline\":false,\"zerolinecolor\":\"rgb(36,36,36)\"}}},\"xaxis\":{\"visible\":true,\"showticklabels\":true,\"range\":[-7.442663622854612,4.6924221339480106]},\"title\":{\"text\":\"<b>Resultado semanal\"},\"margin\":{\"l\":20,\"r\":20,\"t\":70,\"b\":20},\"font\":{\"family\":\"Arial\",\"size\":17,\"color\":\"black\"},\"paper_bgcolor\":\"#f7f8fa\",\"width\":800,\"height\":850,\"annotations\":[{\"font\":{\"color\":\"black\",\"family\":\"Arial\",\"size\":17},\"showarrow\":false,\"text\":\"0.55%\",\"x\":2.55,\"xref\":\"x\",\"y\":\"EuroNext 100 (N100)\",\"yref\":\"y\"},{\"font\":{\"color\":\"black\",\"family\":\"Arial\",\"size\":17},\"showarrow\":false,\"text\":\"0.51%\",\"x\":2.51,\"xref\":\"x\",\"y\":\"Nikkei 225 (N225)\",\"yref\":\"y\"},{\"font\":{\"color\":\"black\",\"family\":\"Arial\",\"size\":17},\"showarrow\":false,\"text\":\"0.35%\",\"x\":2.35,\"xref\":\"x\",\"y\":\"FTSE 100 (UK100)\",\"yref\":\"y\"},{\"font\":{\"color\":\"black\",\"family\":\"Arial\",\"size\":17},\"showarrow\":false,\"text\":\"0.22%\",\"x\":2.22,\"xref\":\"x\",\"y\":\"Dow Jones 30 (DJI)\",\"yref\":\"y\"},{\"font\":{\"color\":\"black\",\"family\":\"Arial\",\"size\":17},\"showarrow\":false,\"text\":\"-0.0%\",\"x\":-2.0,\"xref\":\"x\",\"y\":\"DAX (DE30)\",\"yref\":\"y\"},{\"font\":{\"color\":\"black\",\"family\":\"Arial\",\"size\":17},\"showarrow\":false,\"text\":\"-0.03%\",\"x\":-2.03,\"xref\":\"x\",\"y\":\"S&P/TSX Composite (GSPTSE)\",\"yref\":\"y\"},{\"font\":{\"color\":\"black\",\"family\":\"Arial\",\"size\":17},\"showarrow\":false,\"text\":\"-0.06%\",\"x\":-2.06,\"xref\":\"x\",\"y\":\"S&P 500 (GSPC)\",\"yref\":\"y\"},{\"font\":{\"color\":\"black\",\"family\":\"Arial\",\"size\":17},\"showarrow\":false,\"text\":\"-0.21%\",\"x\":-2.21,\"xref\":\"x\",\"y\":\"NASDAQ Composite (IXIC)\",\"yref\":\"y\"},{\"font\":{\"color\":\"black\",\"family\":\"Arial\",\"size\":17},\"showarrow\":false,\"text\":\"-0.31%\",\"x\":-2.31,\"xref\":\"x\",\"y\":\"CAC 40 (FCHI)\",\"yref\":\"y\"},{\"font\":{\"color\":\"black\",\"family\":\"Arial\",\"size\":17},\"showarrow\":false,\"text\":\"-0.81%\",\"x\":-2.81,\"xref\":\"x\",\"y\":\"Bovespa (BVSP)\",\"yref\":\"y\"},{\"font\":{\"color\":\"black\",\"family\":\"Arial\",\"size\":17},\"showarrow\":false,\"text\":\"-1.25%\",\"x\":-3.25,\"xref\":\"x\",\"y\":\"S&P/BMV IPC (MXX)\",\"yref\":\"y\"},{\"font\":{\"color\":\"black\",\"family\":\"Arial\",\"size\":17},\"showarrow\":false,\"text\":\"-2.48%\",\"x\":-4.48,\"xref\":\"x\",\"y\":\"Shanghai Composite (SSEC)\",\"yref\":\"y\"},{\"font\":{\"color\":\"black\",\"family\":\"Arial\",\"size\":17},\"showarrow\":false,\"text\":\"-2.53%\",\"x\":-4.529999999999999,\"xref\":\"x\",\"y\":\"Hang Seng (HK50)\",\"yref\":\"y\"},{\"font\":{\"color\":\"black\",\"family\":\"Arial\",\"size\":17},\"showarrow\":false,\"text\":\"-3.31%\",\"x\":-5.3100000000000005,\"xref\":\"x\",\"y\":\"SZSE Component (SZI)\",\"yref\":\"y\"},{\"font\":{\"color\":\"black\",\"family\":\"Arial\",\"size\":17},\"showarrow\":false,\"text\":\"nan%\",\"x\":null,\"xref\":\"x\",\"y\":\"S&P Merval (MERV)\",\"yref\":\"y\"},{\"font\":{\"color\":\"black\",\"family\":\"Arial\",\"size\":17},\"showarrow\":false,\"text\":\"nan%\",\"x\":null,\"xref\":\"x\",\"y\":\"BSE Sensex 30 (BSESN)\",\"yref\":\"y\"},{\"font\":{\"color\":\"black\",\"family\":\"Arial\",\"size\":17},\"showarrow\":false,\"text\":\"nan%\",\"x\":null,\"xref\":\"x\",\"y\":\"MOEX Russia (IMOEX)\",\"yref\":\"y\"}]},                        {\"responsive\": true}                    ).then(function(){\n",
       "                            \n",
       "var gd = document.getElementById('d88debe2-60e8-4b1e-8dbe-c33a383819f5');\n",
       "var x = new MutationObserver(function (mutations, observer) {{\n",
       "        var display = window.getComputedStyle(gd).display;\n",
       "        if (!display || display === 'none') {{\n",
       "            console.log([gd, 'removed!']);\n",
       "            Plotly.purge(gd);\n",
       "            observer.disconnect();\n",
       "        }}\n",
       "}});\n",
       "\n",
       "// Listen for the removal of the full notebook cells\n",
       "var notebookContainer = gd.closest('#notebook-container');\n",
       "if (notebookContainer) {{\n",
       "    x.observe(notebookContainer, {childList: true});\n",
       "}}\n",
       "\n",
       "// Listen for the clearing of the current output cell\n",
       "var outputEl = gd.closest('.output');\n",
       "if (outputEl) {{\n",
       "    x.observe(outputEl, {childList: true});\n",
       "}}\n",
       "\n",
       "                        })                };                });            </script>        </div>"
      ]
     },
     "metadata": {},
     "output_type": "display_data"
    }
   ],
   "source": [
    "fig_indices_results = go.Figure()\n",
    "\n",
    "fig_indices_results.add_trace(go.Bar(\n",
    "                        x=df_fig[\"Resultado_%\"],\n",
    "                        y=df_fig[\"Índice\"],\n",
    "                        marker_color=df_fig[\"Color\"],\n",
    "                        orientation=\"h\",\n",
    "                        )\n",
    "                    )\n",
    "\n",
    "\n",
    "annotations = []\n",
    "x_pos = []\n",
    "y_pos = []\n",
    "x_neg = []\n",
    "y_neg = []\n",
    "\n",
    "for i in range(len(df_fig)):\n",
    "\n",
    "    if df_fig[\"Resultado_%\"].iloc[i] > 0:\n",
    "        y_pos.append(df_fig[\"Índice\"].iloc[i])\n",
    "        x_pos.append(np.round(df_fig[\"Resultado_%\"].iloc[i], decimals=2))\n",
    "    else:\n",
    "        y_neg.append(df_fig[\"Índice\"].iloc[i])\n",
    "        x_neg.append(np.round(df_fig[\"Resultado_%\"].iloc[i], decimals=2))\n",
    "        \n",
    "        \n",
    "eixo_range = max(list(np.abs(x_neg)) + x_pos)*1.25\n",
    "dist_barra = 2\n",
    "\n",
    "result_max = df_fig[\"Resultado_%\"].max() + eixo_range\n",
    "result_min = df_fig[\"Resultado_%\"].min() - eixo_range\n",
    "\n",
    "for yd, xd in zip(y_pos, x_pos):\n",
    "    annotations.append(\n",
    "        dict(\n",
    "            xref=\"x1\",\n",
    "            yref=\"y1\",\n",
    "            y=yd,\n",
    "            x=xd + dist_barra,\n",
    "            text=str(xd) + \"%\",\n",
    "            font=dict(family=\"Arial\", size=17, color=\"black\"),\n",
    "            showarrow=False,\n",
    "        )\n",
    "    )\n",
    "\n",
    "for yd, xd in zip(y_neg, x_neg):\n",
    "    annotations.append(\n",
    "        dict(\n",
    "            xref=\"x1\",\n",
    "            yref=\"y1\",\n",
    "            y=yd,\n",
    "            x=xd - dist_barra,\n",
    "            text=str(xd) + \"%\",\n",
    "            font=dict(family=\"Arial\", size=17, color=\"black\"),\n",
    "            showarrow=False,\n",
    "        )\n",
    "    )\n",
    "\n",
    "fig_indices_results.update_xaxes(\n",
    "        visible=True,\n",
    "        showticklabels=True,\n",
    "        range=[(result_min), (result_max)],\n",
    "    )\n",
    "\n",
    "fig_indices_results = fig_indices_results.update_layout(\n",
    "        title_text=\"<b>Resultado semanal\",\n",
    "        template=\"simple_white\",\n",
    "        margin=dict(l=20, r=20, t=70, b=20),\n",
    "        paper_bgcolor=\"#f7f8fa\",\n",
    "        width=800,\n",
    "        height=(50 * len(df_fig)),\n",
    "        annotations=annotations,\n",
    "        font=dict(family=\"Arial\", size=17, color=\"black\"),\n",
    "    )\n",
    "\n",
    "fig_indices_results\n"
   ]
  }
 ],
 "metadata": {
  "kernelspec": {
   "display_name": "Python 3 (ipykernel)",
   "language": "python",
   "name": "python3"
  },
  "language_info": {
   "codemirror_mode": {
    "name": "ipython",
    "version": 3
   },
   "file_extension": ".py",
   "mimetype": "text/x-python",
   "name": "python",
   "nbconvert_exporter": "python",
   "pygments_lexer": "ipython3",
   "version": "3.8.5"
  }
 },
 "nbformat": 4,
 "nbformat_minor": 4
}
